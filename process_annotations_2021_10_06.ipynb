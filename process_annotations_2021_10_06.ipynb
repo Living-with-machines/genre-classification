{
 "cells": [
  {
   "cell_type": "markdown",
   "id": "152b745b-ff77-4b33-ac6a-dbbcfa7b1cb4",
   "metadata": {},
   "source": [
    "# Processing Zooniverse annotations"
   ]
  },
  {
   "cell_type": "code",
   "execution_count": 1,
   "id": "cd1bbf7f-35b2-4937-8cb7-d9f868104203",
   "metadata": {},
   "outputs": [],
   "source": [
    "import json\n",
    "from collections import ChainMap, OrderedDict\n",
    "from pathlib import Path\n",
    "\n",
    "import pandas as pd\n",
    "from toolz import dicttoolz"
   ]
  },
  {
   "cell_type": "markdown",
   "id": "b81303a5-fca5-46ec-a3b8-5adfb8ec258b",
   "metadata": {},
   "source": [
    "First we grab all of the `csv` files containing exported data from zooniverse. "
   ]
  },
  {
   "cell_type": "code",
   "execution_count": 2,
   "id": "6fa1fa52-6016-418b-b1b2-94c7dccc3025",
   "metadata": {},
   "outputs": [],
   "source": [
    "csvs = list(Path(\"data/bl_books_annotations_analysis/31_08_2021\").rglob(\"**/*.csv\"))"
   ]
  },
  {
   "cell_type": "markdown",
   "id": "3f97b5f9-937f-4517-a6b9-76642042f579",
   "metadata": {},
   "source": [
    "We remove one rouge csv in which the annotations are all in different columns to the other `csv` files. We could correct this if we wanted but to keep things simple here we drop it. "
   ]
  },
  {
   "cell_type": "code",
   "execution_count": 3,
   "id": "e73e84d6-59ab-40e9-99ca-680620c42d96",
   "metadata": {},
   "outputs": [],
   "source": [
    "csvs.remove(\n",
    "    Path(\n",
    "        \"data/bl_books_annotations_analysis/31_08_2021/msb1_undetermined_language/ms-digitised-books-undetermined-language-classifications.csv\"\n",
    "    )\n",
    ")"
   ]
  },
  {
   "cell_type": "code",
   "execution_count": 4,
   "id": "9cfd30c4-59c6-4831-9dc9-d2971c03e195",
   "metadata": {},
   "outputs": [
    {
     "data": {
      "text/plain": [
       "[PosixPath('data/bl_books_annotations_analysis/31_08_2021/msbeng3_english3/ms-digitised-books-english-classifications.csv'),\n",
       " PosixPath('data/bl_books_annotations_analysis/31_08_2021/msbeng2_english2/ms-digitised-books-english-classifications.csv'),\n",
       " PosixPath('data/bl_books_annotations_analysis/31_08_2021/msb2_french_german/ms-digitised-books-french-and-german-classifications.csv'),\n",
       " PosixPath('data/bl_books_annotations_analysis/31_08_2021/msbeng1_english1/ms-digitised-books-english-classifications.csv'),\n",
       " PosixPath('data/bl_books_annotations_analysis/31_08_2021/vmorris_other_language/ms-digitised-books-multiple-languages-classifications.csv')]"
      ]
     },
     "execution_count": 4,
     "metadata": {},
     "output_type": "execute_result"
    }
   ],
   "source": [
    "csvs"
   ]
  },
  {
   "cell_type": "markdown",
   "id": "ba266e14-2a96-4ac7-97a6-30e526f6445e",
   "metadata": {},
   "source": [
    "We load each CSV into a dataframe"
   ]
  },
  {
   "cell_type": "code",
   "execution_count": 5,
   "id": "255f3c13-349b-458a-a952-9d5dd4cc12ac",
   "metadata": {},
   "outputs": [],
   "source": [
    "dfs = []\n",
    "for csv in csvs:\n",
    "    df = pd.read_csv(csv)\n",
    "    if \"annotations\" in df.columns:\n",
    "        dfs.append(df)"
   ]
  },
  {
   "cell_type": "markdown",
   "id": "fcf6fa6a-8a6f-4055-88a8-453452cafc0f",
   "metadata": {},
   "source": [
    "and concatenate them all into one big DataFrame. "
   ]
  },
  {
   "cell_type": "code",
   "execution_count": 6,
   "id": "34d6cece-d4e9-43af-b07c-28d5ee473c40",
   "metadata": {},
   "outputs": [],
   "source": [
    "df = pd.concat(dfs)"
   ]
  },
  {
   "cell_type": "code",
   "execution_count": null,
   "id": "21af4d6e-23d9-4ac1-b85e-2a795b0da398",
   "metadata": {},
   "outputs": [],
   "source": []
  },
  {
   "cell_type": "code",
   "execution_count": 7,
   "id": "87b46a2f-28a0-402f-a70f-0fe80e08f034",
   "metadata": {},
   "outputs": [
    {
     "data": {
      "text/plain": [
       "Index(['classification_id', 'user_name', 'user_id', 'user_ip', 'workflow_id',\n",
       "       'workflow_name', 'workflow_version', 'created_at', 'gold_standard',\n",
       "       'expert', 'metadata', 'annotations', 'subject_data', 'subject_ids'],\n",
       "      dtype='object')"
      ]
     },
     "execution_count": 7,
     "metadata": {},
     "output_type": "execute_result"
    }
   ],
   "source": [
    "df.columns"
   ]
  },
  {
   "cell_type": "code",
   "execution_count": 8,
   "id": "b8f515de-081d-4550-8b4b-5b08a563ab1d",
   "metadata": {},
   "outputs": [],
   "source": [
    "df[\"subject_data\"] = df[\"subject_data\"].apply(lambda x: json.loads(x))"
   ]
  },
  {
   "cell_type": "code",
   "execution_count": 9,
   "id": "9d7791dc-cc2d-44ef-ad9b-3e8a35dde907",
   "metadata": {},
   "outputs": [
    {
     "data": {
      "text/plain": [
       "0       {'44331392': {'retired': {'id': 62638916, 'wor...\n",
       "1       {'44378089': {'retired': {'id': 62692902, 'wor...\n",
       "2       {'44378423': {'retired': {'id': 62689341, 'wor...\n",
       "3       {'44373317': {'retired': {'id': 62686164, 'wor...\n",
       "4       {'44365516': {'retired': {'id': 62682180, 'wor...\n",
       "                              ...                        \n",
       "1747    {'44305891': {'retired': {'id': 62611481, 'wor...\n",
       "1748    {'44305865': {'retired': {'id': 62611685, 'wor...\n",
       "1749    {'44305738': {'retired': {'id': 62611613, 'wor...\n",
       "1750    {'44305899': {'retired': {'id': 62611460, 'wor...\n",
       "1751    {'44305720': {'retired': {'id': 62611824, 'wor...\n",
       "Name: subject_data, Length: 4398, dtype: object"
      ]
     },
     "execution_count": 9,
     "metadata": {},
     "output_type": "execute_result"
    }
   ],
   "source": [
    "df[\"subject_data\"]"
   ]
  },
  {
   "cell_type": "code",
   "execution_count": 10,
   "id": "f3fe60fa-940f-4f0f-86c6-8ad068f7073f",
   "metadata": {},
   "outputs": [],
   "source": [
    "df_subject_data = df[\"subject_data\"].apply(lambda x: x[next(iter(x))]).apply(pd.Series)"
   ]
  },
  {
   "cell_type": "code",
   "execution_count": 11,
   "id": "6919b052-0c5d-4d1c-87cc-c2b6b210a476",
   "metadata": {},
   "outputs": [
    {
     "data": {
      "text/html": [
       "<div>\n",
       "<style scoped>\n",
       "    .dataframe tbody tr th:only-of-type {\n",
       "        vertical-align: middle;\n",
       "    }\n",
       "\n",
       "    .dataframe tbody tr th {\n",
       "        vertical-align: top;\n",
       "    }\n",
       "\n",
       "    .dataframe thead th {\n",
       "        text-align: right;\n",
       "    }\n",
       "</style>\n",
       "<table border=\"1\" class=\"dataframe\">\n",
       "  <thead>\n",
       "    <tr style=\"text-align: right;\">\n",
       "      <th></th>\n",
       "      <th>retired</th>\n",
       "      <th>Image</th>\n",
       "      <th>Title</th>\n",
       "      <th>BL record ID</th>\n",
       "      <th>BL shelfmark</th>\n",
       "      <th>Link to Explore</th>\n",
       "      <th>Link to digitised book</th>\n",
       "      <th>Topics from MARC record</th>\n",
       "      <th>Languages from MARC record</th>\n",
       "      <th>Genre terms from MARC record</th>\n",
       "      <th>Literary form terms from MARC record</th>\n",
       "      <th>Language of original from MARC record</th>\n",
       "      <th>Literary form/genre suggestions from Christin Hoene</th>\n",
       "    </tr>\n",
       "  </thead>\n",
       "  <tbody>\n",
       "    <tr>\n",
       "      <th>0</th>\n",
       "      <td>{'id': 62638916, 'workflow_id': 14449, 'classi...</td>\n",
       "      <td>vdc_00000002F970_title_page.jpg</td>\n",
       "      <td>Sonnets</td>\n",
       "      <td>014616869</td>\n",
       "      <td>Digital Store 11652.i.20</td>\n",
       "      <td>http://explore.bl.uk/BLVU1:LSCOP-ALL:BLL010146...</td>\n",
       "      <td>http://access.bl.uk/item/viewer/ark:/81055/vdc...</td>\n",
       "      <td></td>\n",
       "      <td>English</td>\n",
       "      <td></td>\n",
       "      <td></td>\n",
       "      <td></td>\n",
       "      <td></td>\n",
       "    </tr>\n",
       "    <tr>\n",
       "      <th>1</th>\n",
       "      <td>{'id': 62692902, 'workflow_id': 14449, 'classi...</td>\n",
       "      <td>vdc_000000033150_title_page.jpg</td>\n",
       "      <td>Cousin Simon [A novel.]</td>\n",
       "      <td>014818614</td>\n",
       "      <td>Digital Store 12641.c.24</td>\n",
       "      <td>http://explore.bl.uk/BLVU1:LSCOP-ALL:BLL010148...</td>\n",
       "      <td>http://access.bl.uk/item/viewer/ark:/81055/vdc...</td>\n",
       "      <td></td>\n",
       "      <td>English</td>\n",
       "      <td></td>\n",
       "      <td></td>\n",
       "      <td></td>\n",
       "      <td>Novels</td>\n",
       "    </tr>\n",
       "    <tr>\n",
       "      <th>2</th>\n",
       "      <td>{'id': 62689341, 'workflow_id': 14449, 'classi...</td>\n",
       "      <td>vdc_000000035304_title_page.jpg</td>\n",
       "      <td>Austria and the Austrians [by Wenzel Blumenbach.]</td>\n",
       "      <td>014804360</td>\n",
       "      <td>Digital Store 791.e.22</td>\n",
       "      <td>http://explore.bl.uk/BLVU1:LSCOP-ALL:BLL010148...</td>\n",
       "      <td>http://access.bl.uk/item/viewer/ark:/81055/vdc...</td>\n",
       "      <td></td>\n",
       "      <td>English</td>\n",
       "      <td></td>\n",
       "      <td></td>\n",
       "      <td></td>\n",
       "      <td></td>\n",
       "    </tr>\n",
       "    <tr>\n",
       "      <th>3</th>\n",
       "      <td>{'id': 62686164, 'workflow_id': 14449, 'classi...</td>\n",
       "      <td>vdc_00000002150A_title_page.jpg</td>\n",
       "      <td>The Banquet: in three cantos [By Hans Busk.]</td>\n",
       "      <td>014939397</td>\n",
       "      <td>Digital Store 11647.e.48. (1.)</td>\n",
       "      <td>http://explore.bl.uk/BLVU1:LSCOP-ALL:BLL010149...</td>\n",
       "      <td>http://access.bl.uk/item/viewer/ark:/81055/vdc...</td>\n",
       "      <td></td>\n",
       "      <td>English</td>\n",
       "      <td></td>\n",
       "      <td></td>\n",
       "      <td></td>\n",
       "      <td></td>\n",
       "    </tr>\n",
       "    <tr>\n",
       "      <th>4</th>\n",
       "      <td>{'id': 62682180, 'workflow_id': 14449, 'classi...</td>\n",
       "      <td>vdc_0000000592E6_title_page.jpg</td>\n",
       "      <td>The Exeter Road. The story of the West of Engl...</td>\n",
       "      <td>014812769</td>\n",
       "      <td>Digital Store 10347.f.45</td>\n",
       "      <td>http://explore.bl.uk/BLVU1:LSCOP-ALL:BLL010148...</td>\n",
       "      <td>http://access.bl.uk/item/viewer/ark:/81055/vdc...</td>\n",
       "      <td></td>\n",
       "      <td>English</td>\n",
       "      <td></td>\n",
       "      <td></td>\n",
       "      <td></td>\n",
       "      <td>Fiction</td>\n",
       "    </tr>\n",
       "    <tr>\n",
       "      <th>...</th>\n",
       "      <td>...</td>\n",
       "      <td>...</td>\n",
       "      <td>...</td>\n",
       "      <td>...</td>\n",
       "      <td>...</td>\n",
       "      <td>...</td>\n",
       "      <td>...</td>\n",
       "      <td>...</td>\n",
       "      <td>...</td>\n",
       "      <td>...</td>\n",
       "      <td>...</td>\n",
       "      <td>...</td>\n",
       "      <td>...</td>\n",
       "    </tr>\n",
       "    <tr>\n",
       "      <th>1747</th>\n",
       "      <td>{'id': 62611481, 'workflow_id': 14412, 'classi...</td>\n",
       "      <td>vdc_00000001C782_title_page.jpg</td>\n",
       "      <td>Danskhedens Skjæbne i Slesvig, udarbeidet efte...</td>\n",
       "      <td>014895984</td>\n",
       "      <td>Digital Store 9425.c.27</td>\n",
       "      <td>http://explore.bl.uk/BLVU1:LSCOP-ALL:BLL010148...</td>\n",
       "      <td>http://access.bl.uk/item/viewer/ark:/81055/vdc...</td>\n",
       "      <td></td>\n",
       "      <td>Danish</td>\n",
       "      <td></td>\n",
       "      <td></td>\n",
       "      <td></td>\n",
       "      <td></td>\n",
       "    </tr>\n",
       "    <tr>\n",
       "      <th>1748</th>\n",
       "      <td>{'id': 62611685, 'workflow_id': 14412, 'classi...</td>\n",
       "      <td>vdc_00000001CCA4_title_page.jpg</td>\n",
       "      <td>Om Robert Molesworth's Skrift 'An Account of D...</td>\n",
       "      <td>014896128</td>\n",
       "      <td>Digital Store 9424.i.5</td>\n",
       "      <td>http://explore.bl.uk/BLVU1:LSCOP-ALL:BLL010148...</td>\n",
       "      <td>http://access.bl.uk/item/viewer/ark:/81055/vdc...</td>\n",
       "      <td></td>\n",
       "      <td>Danish</td>\n",
       "      <td></td>\n",
       "      <td></td>\n",
       "      <td></td>\n",
       "      <td></td>\n",
       "    </tr>\n",
       "    <tr>\n",
       "      <th>1749</th>\n",
       "      <td>{'id': 62611613, 'workflow_id': 14412, 'classi...</td>\n",
       "      <td>vdc_00000002043C_title_page.jpg</td>\n",
       "      <td>Oldsagen om Danske Konger ... Aftrykt af N. M....</td>\n",
       "      <td>014919359</td>\n",
       "      <td>Digital Store 9425.bb.28</td>\n",
       "      <td>http://explore.bl.uk/BLVU1:LSCOP-ALL:BLL010149...</td>\n",
       "      <td>http://access.bl.uk/item/viewer/ark:/81055/vdc...</td>\n",
       "      <td></td>\n",
       "      <td>Danish</td>\n",
       "      <td></td>\n",
       "      <td></td>\n",
       "      <td></td>\n",
       "      <td></td>\n",
       "    </tr>\n",
       "    <tr>\n",
       "      <th>1750</th>\n",
       "      <td>{'id': 62611460, 'workflow_id': 14412, 'classi...</td>\n",
       "      <td>vdc_0000000169D4_title_page.jpg</td>\n",
       "      <td>Fremstilling af forskjellige kjøbenhavnske kom...</td>\n",
       "      <td>014879625</td>\n",
       "      <td>Digital Store 10280.f.8</td>\n",
       "      <td>http://explore.bl.uk/BLVU1:LSCOP-ALL:BLL010148...</td>\n",
       "      <td>http://access.bl.uk/item/viewer/ark:/81055/vdc...</td>\n",
       "      <td></td>\n",
       "      <td>Danish</td>\n",
       "      <td></td>\n",
       "      <td></td>\n",
       "      <td></td>\n",
       "      <td></td>\n",
       "    </tr>\n",
       "    <tr>\n",
       "      <th>1751</th>\n",
       "      <td>{'id': 62611824, 'workflow_id': 14412, 'classi...</td>\n",
       "      <td>vdc_000000013716_title_page.jpg</td>\n",
       "      <td>Rosenborg. Mindeblade fra de danske Kongers kr...</td>\n",
       "      <td>014871484</td>\n",
       "      <td>Digital Store 10280.f.16</td>\n",
       "      <td>http://explore.bl.uk/BLVU1:LSCOP-ALL:BLL010148...</td>\n",
       "      <td>http://access.bl.uk/item/viewer/ark:/81055/vdc...</td>\n",
       "      <td></td>\n",
       "      <td>Danish</td>\n",
       "      <td></td>\n",
       "      <td></td>\n",
       "      <td></td>\n",
       "      <td></td>\n",
       "    </tr>\n",
       "  </tbody>\n",
       "</table>\n",
       "<p>4398 rows × 13 columns</p>\n",
       "</div>"
      ],
      "text/plain": [
       "                                                retired  \\\n",
       "0     {'id': 62638916, 'workflow_id': 14449, 'classi...   \n",
       "1     {'id': 62692902, 'workflow_id': 14449, 'classi...   \n",
       "2     {'id': 62689341, 'workflow_id': 14449, 'classi...   \n",
       "3     {'id': 62686164, 'workflow_id': 14449, 'classi...   \n",
       "4     {'id': 62682180, 'workflow_id': 14449, 'classi...   \n",
       "...                                                 ...   \n",
       "1747  {'id': 62611481, 'workflow_id': 14412, 'classi...   \n",
       "1748  {'id': 62611685, 'workflow_id': 14412, 'classi...   \n",
       "1749  {'id': 62611613, 'workflow_id': 14412, 'classi...   \n",
       "1750  {'id': 62611460, 'workflow_id': 14412, 'classi...   \n",
       "1751  {'id': 62611824, 'workflow_id': 14412, 'classi...   \n",
       "\n",
       "                                Image  \\\n",
       "0     vdc_00000002F970_title_page.jpg   \n",
       "1     vdc_000000033150_title_page.jpg   \n",
       "2     vdc_000000035304_title_page.jpg   \n",
       "3     vdc_00000002150A_title_page.jpg   \n",
       "4     vdc_0000000592E6_title_page.jpg   \n",
       "...                               ...   \n",
       "1747  vdc_00000001C782_title_page.jpg   \n",
       "1748  vdc_00000001CCA4_title_page.jpg   \n",
       "1749  vdc_00000002043C_title_page.jpg   \n",
       "1750  vdc_0000000169D4_title_page.jpg   \n",
       "1751  vdc_000000013716_title_page.jpg   \n",
       "\n",
       "                                                  Title BL record ID  \\\n",
       "0                                               Sonnets    014616869   \n",
       "1                               Cousin Simon [A novel.]    014818614   \n",
       "2     Austria and the Austrians [by Wenzel Blumenbach.]    014804360   \n",
       "3          The Banquet: in three cantos [By Hans Busk.]    014939397   \n",
       "4     The Exeter Road. The story of the West of Engl...    014812769   \n",
       "...                                                 ...          ...   \n",
       "1747  Danskhedens Skjæbne i Slesvig, udarbeidet efte...    014895984   \n",
       "1748  Om Robert Molesworth's Skrift 'An Account of D...    014896128   \n",
       "1749  Oldsagen om Danske Konger ... Aftrykt af N. M....    014919359   \n",
       "1750  Fremstilling af forskjellige kjøbenhavnske kom...    014879625   \n",
       "1751  Rosenborg. Mindeblade fra de danske Kongers kr...    014871484   \n",
       "\n",
       "                        BL shelfmark  \\\n",
       "0           Digital Store 11652.i.20   \n",
       "1           Digital Store 12641.c.24   \n",
       "2             Digital Store 791.e.22   \n",
       "3     Digital Store 11647.e.48. (1.)   \n",
       "4           Digital Store 10347.f.45   \n",
       "...                              ...   \n",
       "1747         Digital Store 9425.c.27   \n",
       "1748          Digital Store 9424.i.5   \n",
       "1749        Digital Store 9425.bb.28   \n",
       "1750         Digital Store 10280.f.8   \n",
       "1751        Digital Store 10280.f.16   \n",
       "\n",
       "                                        Link to Explore  \\\n",
       "0     http://explore.bl.uk/BLVU1:LSCOP-ALL:BLL010146...   \n",
       "1     http://explore.bl.uk/BLVU1:LSCOP-ALL:BLL010148...   \n",
       "2     http://explore.bl.uk/BLVU1:LSCOP-ALL:BLL010148...   \n",
       "3     http://explore.bl.uk/BLVU1:LSCOP-ALL:BLL010149...   \n",
       "4     http://explore.bl.uk/BLVU1:LSCOP-ALL:BLL010148...   \n",
       "...                                                 ...   \n",
       "1747  http://explore.bl.uk/BLVU1:LSCOP-ALL:BLL010148...   \n",
       "1748  http://explore.bl.uk/BLVU1:LSCOP-ALL:BLL010148...   \n",
       "1749  http://explore.bl.uk/BLVU1:LSCOP-ALL:BLL010149...   \n",
       "1750  http://explore.bl.uk/BLVU1:LSCOP-ALL:BLL010148...   \n",
       "1751  http://explore.bl.uk/BLVU1:LSCOP-ALL:BLL010148...   \n",
       "\n",
       "                                 Link to digitised book  \\\n",
       "0     http://access.bl.uk/item/viewer/ark:/81055/vdc...   \n",
       "1     http://access.bl.uk/item/viewer/ark:/81055/vdc...   \n",
       "2     http://access.bl.uk/item/viewer/ark:/81055/vdc...   \n",
       "3     http://access.bl.uk/item/viewer/ark:/81055/vdc...   \n",
       "4     http://access.bl.uk/item/viewer/ark:/81055/vdc...   \n",
       "...                                                 ...   \n",
       "1747  http://access.bl.uk/item/viewer/ark:/81055/vdc...   \n",
       "1748  http://access.bl.uk/item/viewer/ark:/81055/vdc...   \n",
       "1749  http://access.bl.uk/item/viewer/ark:/81055/vdc...   \n",
       "1750  http://access.bl.uk/item/viewer/ark:/81055/vdc...   \n",
       "1751  http://access.bl.uk/item/viewer/ark:/81055/vdc...   \n",
       "\n",
       "     Topics from MARC record Languages from MARC record  \\\n",
       "0                                               English   \n",
       "1                                               English   \n",
       "2                                               English   \n",
       "3                                               English   \n",
       "4                                               English   \n",
       "...                      ...                        ...   \n",
       "1747                                             Danish   \n",
       "1748                                             Danish   \n",
       "1749                                             Danish   \n",
       "1750                                             Danish   \n",
       "1751                                             Danish   \n",
       "\n",
       "     Genre terms from MARC record Literary form terms from MARC record  \\\n",
       "0                                                                        \n",
       "1                                                                        \n",
       "2                                                                        \n",
       "3                                                                        \n",
       "4                                                                        \n",
       "...                           ...                                  ...   \n",
       "1747                                                                     \n",
       "1748                                                                     \n",
       "1749                                                                     \n",
       "1750                                                                     \n",
       "1751                                                                     \n",
       "\n",
       "     Language of original from MARC record  \\\n",
       "0                                            \n",
       "1                                            \n",
       "2                                            \n",
       "3                                            \n",
       "4                                            \n",
       "...                                    ...   \n",
       "1747                                         \n",
       "1748                                         \n",
       "1749                                         \n",
       "1750                                         \n",
       "1751                                         \n",
       "\n",
       "     Literary form/genre suggestions from Christin Hoene  \n",
       "0                                                         \n",
       "1                                                Novels   \n",
       "2                                                         \n",
       "3                                                         \n",
       "4                                               Fiction   \n",
       "...                                                 ...   \n",
       "1747                                                      \n",
       "1748                                                      \n",
       "1749                                                      \n",
       "1750                                                      \n",
       "1751                                                      \n",
       "\n",
       "[4398 rows x 13 columns]"
      ]
     },
     "execution_count": 11,
     "metadata": {},
     "output_type": "execute_result"
    }
   ],
   "source": [
    "df_subject_data"
   ]
  },
  {
   "cell_type": "code",
   "execution_count": 12,
   "id": "accc891e-babc-412f-b492-e6cb91fa778a",
   "metadata": {},
   "outputs": [],
   "source": [
    "df[\"annotations\"] = df[\"annotations\"].apply(lambda x: json.loads(x))"
   ]
  },
  {
   "cell_type": "code",
   "execution_count": null,
   "id": "ba7ce8c2-da2f-48df-801e-c822e2b69d82",
   "metadata": {},
   "outputs": [],
   "source": []
  },
  {
   "cell_type": "code",
   "execution_count": 13,
   "id": "cdf59e75-29e0-4241-bfe0-cfa23b8a12e1",
   "metadata": {},
   "outputs": [],
   "source": [
    "task_list = [\n",
    "    \"T0\",\n",
    "    \"T1\",\n",
    "    \"T3\",\n",
    "    \"T5\",\n",
    "    \"T7\",\n",
    "    \"T8\",\n",
    "    \"T9\",\n",
    "    \"T10\",\n",
    "    \"T11\",\n",
    "    \"T12\",\n",
    "    \"T13\",\n",
    "    \"T14\",\n",
    "    \"T15\",\n",
    "    \"T17\",\n",
    "    \"T16\",\n",
    "    \"T6\",\n",
    "    \"T2\",\n",
    "    \"T4\",\n",
    "]"
   ]
  },
  {
   "cell_type": "code",
   "execution_count": 14,
   "id": "b331803e-4905-413d-95f9-09752ad2afc5",
   "metadata": {},
   "outputs": [
    {
     "data": {
      "text/plain": [
       "[{'task': 'T0',\n",
       "  'task_label': '**The title page of a book should appear on the left. You will be asked to provide brief metadata relating to this book.**\\n\\nClick on the small \"i\" icon below the title page; a pop-up window will appear, containing links to allow you to access:\\n- the record for the book in [Explore](http://explore.bl.uk)\\n- the complete digitised book\\n\\nThis pop-up window also contains brief additional information about the book, which may help you answer some of the questions.\\n\\n*Please do not click on the Done button until you have completed cataloguing this book.*\\n\\n**Click on the grey button below to confirm that you are ready to start cataloguing, then click *Next*.**',\n",
       "  'value': '> I understand the instructions and am ready to begin ...'},\n",
       " {'task': 'T1',\n",
       "  'task_label': '**Is English the correct main language for this book?**\\n\\nIf there are multiple main languages (for example if the book is a bi-lingual dictionary) please select *No*.',\n",
       "  'value': 'Yes'},\n",
       " {'task': 'T3',\n",
       "  'task_label': '**Are any other languages used for summaries or abstracts?**',\n",
       "  'value': 'No'},\n",
       " {'task': 'T5',\n",
       "  'task_label': '**Is this book a translation?**\\n\\nIf the book *includes* translations, please select *Yes*.',\n",
       "  'value': 'No'},\n",
       " {'task': 'T7',\n",
       "  'value': 'published by the author',\n",
       "  'task_label': '**Transcribe the name of the publisher from the title page**\\n\\nPlease follow RDA guidance as you would when cataloguing under normal circumstances.\\n\\nIf you are able to *infer* the name of the publisher, for example by looking elsewhere within the book, please enter the name of the publisher [ in square brackets ] .\\n\\nIf you are unable to provide the name of the publisher, please enter NONE.\\n\\n*If the image shown opposite is not the title page of this book, you may need to access the full digitised book in order to find the title page. To do this, click on the small \"i\" icon below the image.*'},\n",
       " {'task': 'T8',\n",
       "  'value': 'Bury St. Edmunds',\n",
       "  'task_label': '**Transcribe the place of publication from the title page**\\n\\nPlease follow RDA guidance as you would when cataloguing under normal circumstances.\\n\\nIf you are able to *infer* the place of publication, for example by looking elsewhere within the book, please enter the place of publication [ in square brackets ] .\\n\\nIf you are unable to provide the place of publication, please enter NONE.\\n\\nIf there are multiple places of publication, please enter each one on a new line. You may wish to qualify the place of publication with the name of a country in square brackets, if you feel this is useful.\\n\\n*If the image shown opposite is not the title page of this book, you may need to access the full digitised book in order to find the title page. To do this, click on the small \"i\" icon below the image.*'},\n",
       " {'task': 'T9',\n",
       "  'value': 'enk',\n",
       "  'task_label': '**What country was the book published in ?**\\n\\nProvide a country code from the [MARC code list](http://www.loc.gov/marc/countries/countries_code.html).\\n\\nIf you are unable to determine the country of publication, use the code **xx**.'},\n",
       " {'task': 'T10',\n",
       "  'value': 'NONE',\n",
       "  'task_label': '**Transcribe the date of publication from the title page**\\n\\nPlease follow RDA guidance as you would when cataloguing under normal circumstances.\\n\\nNumbers expressed as words should be recorded as (Arabic) numerals.\\n\\nIf you are able to *infer* the date of publication, for example by looking elsewhere within the book, please enter the date of publication [ in square brackets ] .\\n\\nIf the date of publication is particularly complicated, or uses a non-Gregorian calendar, please write a free-text note to provide information about the date of publication.\\n\\nIf you are unable to provide the date of publication, please enter NONE.\\n\\n*If the image shown opposite is not the title page of this book, you may need to access the full digitised book in order to find the title page. To do this, click on the small \"i\" icon below the image.*'},\n",
       " {'task': 'T11',\n",
       "  'value': 'NONE',\n",
       "  'task_label': '**Provide a normalised date of publication**\\n\\nPlease normalise the date of publication to a 4-digit year, or to a list or range of 4-digit years.\\n\\nFor a **single year**, please enter a 4-digit number: **YYYY**\\nFor a **range of years**, please enter two 4-digit numbers, separated by a hyphen: **YYYY-YYYY**\\nFor a **list of years**, please enter a list of 4-digit numbers, separated by comma, space: **YYYY, YYYY, YYYY**\\n\\nIf you are unable to provide a normalised date of publication, please enter NONE.'},\n",
       " {'task': 'T12',\n",
       "  'value': 'NONE',\n",
       "  'task_label': '**Provide an edition statement**\\n\\nPlease follow RDA guidance as you would when cataloguing under normal circumstances.\\n\\nIf it would not be appropriate to record an edition statement for the book (for example if the book is a first edition), please enter NONE.'},\n",
       " {'task': 'T13',\n",
       "  'task_label': '**Is this book Fiction or Non-fiction?**',\n",
       "  'value': 'Fiction'},\n",
       " {'task': 'T14',\n",
       "  'value': '655 7 $aPoetry$2fast$0(OCoLC)fst01423828',\n",
       "  'task_label': '**Suggest form/genre terms**\\n\\nUse [searchFAST](https://fast.oclc.org/searchfast/?&limit=keywords&facet=form) to search for form/genre terms for this book.\\n\\nCopy the full MARC field for each form/genre term, e.g.\\n655 7 ǂaPoetryǂ2fastǂ0(OCoLC)fst01423828\\n\\nIf you need to record multiple form/genre terms, enter each term on a separate line.\\n\\nIf you are unable to provide any form/genre terms, please enter NONE.'},\n",
       " {'task': 'T15',\n",
       "  'value': 'NONE',\n",
       "  'task_label': '**Suggest subject terms**\\n\\nUse [searchFAST](https://fast.oclc.org/searchfast/?&limit=keywords&facet=topic) to search for subject terms for this book.\\n\\nCopy the full MARC field for each subject term, e.g.\\n650 7 ǂaCathedralsǂxDesign and constructionǂ2fastǂ0(OCoLC)fst00849076\\n\\nIf you need to record multiple subject terms, enter each term on a separate line.\\n\\nIf you are unable to provide any subject terms, please enter NONE.'},\n",
       " {'task': 'T17',\n",
       "  'value': '',\n",
       "  'task_label': '**Use this space to record any other notes/comments about the book.**\\n\\nIf you have noticed any errors in the catalogue record, please record them here.'},\n",
       " {'task': 'T16',\n",
       "  'task_label': '**Thank you for cataloguing this book**\\n\\nPlease click *Finished* to confirm that you have finished cataloguing. You can use the *Back* button (below) if you need to change any of your answers. \\n\\nWhen you are happy with your answers:\\n- If you want to catalogue another resource, please click *Done*.\\n- If you want to stop cataloguing, please click *Done and talk*, and then log out.',\n",
       "  'value': '**Finished**'}]"
      ]
     },
     "execution_count": 14,
     "metadata": {},
     "output_type": "execute_result"
    }
   ],
   "source": [
    "df[\"annotations\"].iloc[0]"
   ]
  },
  {
   "cell_type": "code",
   "execution_count": null,
   "id": "ccfb1fb2-3f8f-4786-ad7c-f8b494854c5a",
   "metadata": {},
   "outputs": [],
   "source": []
  },
  {
   "cell_type": "code",
   "execution_count": 15,
   "id": "f60542d2-21dc-4af3-b96a-0077a24cd328",
   "metadata": {},
   "outputs": [],
   "source": [
    "def update(x):\n",
    "    subset = [{d[\"task\"]: d[\"value\"]} for d in x]\n",
    "    subset = dict(ChainMap(*subset))\n",
    "    for key in task_list:\n",
    "        subset[key] = subset.get(key, \"\")\n",
    "    return dict(OrderedDict(sorted(subset.items())))"
   ]
  },
  {
   "cell_type": "code",
   "execution_count": 16,
   "id": "03a34de8-f6ff-4e05-bc67-77ca8147bf9d",
   "metadata": {},
   "outputs": [
    {
     "data": {
      "text/plain": [
       "{'T0': '> I understand the instructions and am ready to begin ...',\n",
       " 'T1': 'Yes',\n",
       " 'T10': 'NONE',\n",
       " 'T11': 'NONE',\n",
       " 'T12': 'NONE',\n",
       " 'T13': 'Fiction',\n",
       " 'T14': '655 7 $aPoetry$2fast$0(OCoLC)fst01423828',\n",
       " 'T15': 'NONE',\n",
       " 'T16': '**Finished**',\n",
       " 'T17': '',\n",
       " 'T2': '',\n",
       " 'T3': 'No',\n",
       " 'T4': '',\n",
       " 'T5': 'No',\n",
       " 'T6': '',\n",
       " 'T7': 'published by the author',\n",
       " 'T8': 'Bury St. Edmunds',\n",
       " 'T9': 'enk'}"
      ]
     },
     "execution_count": 16,
     "metadata": {},
     "output_type": "execute_result"
    }
   ],
   "source": [
    "df[\"annotations\"].apply(update).iloc[0]"
   ]
  },
  {
   "cell_type": "code",
   "execution_count": 17,
   "id": "ef8b1a9e-288c-44c6-a918-7789f62ee7b8",
   "metadata": {},
   "outputs": [],
   "source": [
    "df[\"annotations\"] = df[\"annotations\"].apply(update)"
   ]
  },
  {
   "cell_type": "code",
   "execution_count": 18,
   "id": "fcfb7af2-09be-4027-9720-dc81f7e07907",
   "metadata": {},
   "outputs": [],
   "source": [
    "df_annotations = pd.DataFrame(list(df[\"annotations\"]))"
   ]
  },
  {
   "cell_type": "code",
   "execution_count": 19,
   "id": "b5fad9b4-128d-478c-8080-9f4345fe30e6",
   "metadata": {},
   "outputs": [
    {
     "data": {
      "text/plain": [
       "NONE                                 3893\n",
       "none                                  102\n",
       "Second edition                         27\n",
       "New edition                            17\n",
       "NONE\\n                                 13\n",
       "                                     ... \n",
       "Zweite unveränderte Auflage             1\n",
       "1884                                    1\n",
       "Zweite, vermehrte Auflage               1\n",
       "Dritte neu durchgesehene Auflage        1\n",
       "Danske folkeskrifter XXVIII, XXXI       1\n",
       "Name: T12, Length: 276, dtype: int64"
      ]
     },
     "execution_count": 19,
     "metadata": {},
     "output_type": "execute_result"
    }
   ],
   "source": [
    "df_annotations[\"T12\"].value_counts()"
   ]
  },
  {
   "cell_type": "code",
   "execution_count": 20,
   "id": "ed4ef750-816c-4b94-ad8e-9b0f3a8e6796",
   "metadata": {},
   "outputs": [
    {
     "data": {
      "text/plain": [
       "Yes    4188\n",
       "No      210\n",
       "Name: T1, dtype: int64"
      ]
     },
     "execution_count": 20,
     "metadata": {},
     "output_type": "execute_result"
    }
   ],
   "source": [
    "df_annotations[\"T1\"].value_counts()"
   ]
  },
  {
   "cell_type": "code",
   "execution_count": 21,
   "id": "fc963e2c-ce86-46b9-a0cf-e8ee075d23e9",
   "metadata": {},
   "outputs": [
    {
     "data": {
      "text/html": [
       "<div>\n",
       "<style scoped>\n",
       "    .dataframe tbody tr th:only-of-type {\n",
       "        vertical-align: middle;\n",
       "    }\n",
       "\n",
       "    .dataframe tbody tr th {\n",
       "        vertical-align: top;\n",
       "    }\n",
       "\n",
       "    .dataframe thead th {\n",
       "        text-align: right;\n",
       "    }\n",
       "</style>\n",
       "<table border=\"1\" class=\"dataframe\">\n",
       "  <thead>\n",
       "    <tr style=\"text-align: right;\">\n",
       "      <th></th>\n",
       "      <th>T0</th>\n",
       "      <th>T1</th>\n",
       "      <th>T10</th>\n",
       "      <th>T11</th>\n",
       "      <th>T12</th>\n",
       "      <th>T13</th>\n",
       "      <th>T14</th>\n",
       "      <th>T15</th>\n",
       "      <th>T16</th>\n",
       "      <th>T17</th>\n",
       "      <th>T2</th>\n",
       "      <th>T3</th>\n",
       "      <th>T4</th>\n",
       "      <th>T5</th>\n",
       "      <th>T6</th>\n",
       "      <th>T7</th>\n",
       "      <th>T8</th>\n",
       "      <th>T9</th>\n",
       "    </tr>\n",
       "  </thead>\n",
       "  <tbody>\n",
       "    <tr>\n",
       "      <th>0</th>\n",
       "      <td>&gt; I understand the instructions and am ready t...</td>\n",
       "      <td>Yes</td>\n",
       "      <td>NONE</td>\n",
       "      <td>NONE</td>\n",
       "      <td>NONE</td>\n",
       "      <td>Fiction</td>\n",
       "      <td>655 7 $aPoetry$2fast$0(OCoLC)fst01423828</td>\n",
       "      <td>NONE</td>\n",
       "      <td>**Finished**</td>\n",
       "      <td></td>\n",
       "      <td></td>\n",
       "      <td>No</td>\n",
       "      <td></td>\n",
       "      <td>No</td>\n",
       "      <td></td>\n",
       "      <td>published by the author</td>\n",
       "      <td>Bury St. Edmunds</td>\n",
       "      <td>enk</td>\n",
       "    </tr>\n",
       "  </tbody>\n",
       "</table>\n",
       "</div>"
      ],
      "text/plain": [
       "                                                  T0   T1   T10   T11   T12  \\\n",
       "0  > I understand the instructions and am ready t...  Yes  NONE  NONE  NONE   \n",
       "\n",
       "       T13                                       T14   T15           T16 T17  \\\n",
       "0  Fiction  655 7 $aPoetry$2fast$0(OCoLC)fst01423828  NONE  **Finished**       \n",
       "\n",
       "  T2  T3 T4  T5 T6                       T7                T8   T9  \n",
       "0     No     No     published by the author  Bury St. Edmunds  enk  "
      ]
     },
     "execution_count": 21,
     "metadata": {},
     "output_type": "execute_result"
    }
   ],
   "source": [
    "df_annotations.head(1)"
   ]
  },
  {
   "cell_type": "code",
   "execution_count": null,
   "id": "db2ee05e-b1cd-479e-853a-9f7e88823fdf",
   "metadata": {},
   "outputs": [],
   "source": []
  },
  {
   "cell_type": "code",
   "execution_count": 22,
   "id": "4927dbc6-def7-4247-bffe-30a8d8b7d37d",
   "metadata": {},
   "outputs": [
    {
     "data": {
      "text/plain": [
       "Non-fiction                                       3586\n",
       "Fiction                                            787\n",
       "The book contains both Fiction and Non-Fiction      15\n",
       "Can't tell                                          10\n",
       "Name: T13, dtype: int64"
      ]
     },
     "execution_count": 22,
     "metadata": {},
     "output_type": "execute_result"
    }
   ],
   "source": [
    "df_annotations[\"T13\"].value_counts()"
   ]
  },
  {
   "cell_type": "code",
   "execution_count": 23,
   "id": "93d9014b-c339-4a7f-8c5f-bc7f953a49eb",
   "metadata": {},
   "outputs": [
    {
     "data": {
      "text/plain": [
       "                                                                                                        3596\n",
       "655 7 ǂaFictionǂ2fastǂ0(OCoLC)fst01423787                                                                206\n",
       "655 7 $aPoetry$2fast$0(OCoLC)fst01423828                                                                  97\n",
       "655 7 $aFiction$2fast$0(OCoLC)fst01423787                                                                 92\n",
       "655 7 ǂaNovelsǂ2fastǂ0(OCoLC)fst01921742                                                                  71\n",
       "                                                                                                        ... \n",
       "655 7 ǂaDetective and mystery stories, Englishǂ2fastǂ0(OCoLC)fst01750159                                   1\n",
       "655 7 ǂaChristian fictionǂ2fastǂ0(OCoLC)fst01726556                                                        1\n",
       "655 7 ǂaUtopian fictionǂ2fastǂ0(OCoLC)fst01922578\\n655 7 ǂaScience fictionǂ2fastǂ0(OCoLC)fst01726489       1\n",
       "655 7 ǂaAdventure storiesǂ2fastǂ0(OCoLC)fst01726519\\n                                                      1\n",
       "655 7 $aSagas$2fast$0(OCoLC)fst01922536                                                                    1\n",
       "Name: T14, Length: 135, dtype: int64"
      ]
     },
     "execution_count": 23,
     "metadata": {},
     "output_type": "execute_result"
    }
   ],
   "source": [
    "df_annotations[\"T14\"].value_counts()"
   ]
  },
  {
   "cell_type": "code",
   "execution_count": 24,
   "id": "2481ac73-21a9-4f16-a312-40da642d5b1f",
   "metadata": {},
   "outputs": [],
   "source": [
    "assert len(df) == len(df_annotations)"
   ]
  },
  {
   "cell_type": "code",
   "execution_count": null,
   "id": "084fa3e6-a944-4541-ac80-d1e6dc4162d2",
   "metadata": {},
   "outputs": [],
   "source": []
  },
  {
   "cell_type": "code",
   "execution_count": 25,
   "id": "fefcadbe-5583-4cfc-9ebb-c01f88e55757",
   "metadata": {},
   "outputs": [],
   "source": [
    "df2 = df.join(df_annotations)"
   ]
  },
  {
   "cell_type": "code",
   "execution_count": 26,
   "id": "f47d5566-bd72-41c9-89b8-e594071d27ee",
   "metadata": {},
   "outputs": [
    {
     "data": {
      "text/plain": [
       "True"
      ]
     },
     "execution_count": 26,
     "metadata": {},
     "output_type": "execute_result"
    }
   ],
   "source": [
    "len(df2) == len(df_subject_data)"
   ]
  },
  {
   "cell_type": "code",
   "execution_count": 27,
   "id": "995f9826-8298-4b2b-91ec-6119acc15271",
   "metadata": {},
   "outputs": [],
   "source": [
    "df3 = df2.join(df_subject_data)"
   ]
  },
  {
   "cell_type": "markdown",
   "id": "a2ee5724-3611-434b-b643-68d27783cc6e",
   "metadata": {},
   "source": [
    "Drop duplicate rows for `classification_id` these should be unique to each annotator + dataset"
   ]
  },
  {
   "cell_type": "code",
   "execution_count": 28,
   "id": "82237c5a-377c-4601-92bd-32f7934724c6",
   "metadata": {},
   "outputs": [],
   "source": [
    "df3 = df3.drop_duplicates(subset=\"classification_id\")"
   ]
  },
  {
   "cell_type": "code",
   "execution_count": 29,
   "id": "41811fb3-2634-4f0e-b598-14d7154041f3",
   "metadata": {},
   "outputs": [],
   "source": [
    "df3.reset_index(inplace=True, drop=True)"
   ]
  },
  {
   "cell_type": "code",
   "execution_count": 30,
   "id": "a6b66d62-b325-4f86-9188-68b2b001df78",
   "metadata": {},
   "outputs": [],
   "source": [
    "mapping = {\n",
    "    \"Title\": \"title\",\n",
    "    \"T2\": \"main_language\",\n",
    "    \"T3\": \"other_languages_summaries\",\n",
    "    \"T4\": \"summaries_language\",\n",
    "    \"T5\": \"translation\",\n",
    "    \"T6\": \"original_language\",\n",
    "    \"T7\": \"publisher\",\n",
    "    \"T8\": \"place_pub\",\n",
    "    \"T9\": \"country\",\n",
    "    \"T10\": \"date_pub\",\n",
    "    \"T11\": \"normalised_date_pub\",\n",
    "    \"T12\": \"edition_statement\",\n",
    "    \"T13\": \"genre\",\n",
    "    \"T14\": \"FAST_genre_terms\",\n",
    "    \"T15\": \"FAST_subject_terms\",\n",
    "    \"T16\": \"status\",\n",
    "    \"T17\": \"comments\",\n",
    "}"
   ]
  },
  {
   "cell_type": "markdown",
   "id": "e188d4a3-3c30-4af5-bc36-3df90055f69e",
   "metadata": {},
   "source": [
    "flag source as annotator "
   ]
  },
  {
   "cell_type": "code",
   "execution_count": 32,
   "id": "094e6b89-9781-4f86-b348-a9b36c09bca4",
   "metadata": {},
   "outputs": [
    {
     "data": {
      "text/plain": [
       "{'Title': 'annotator_title',\n",
       " 'T2': 'annotator_main_language',\n",
       " 'T3': 'annotator_other_languages_summaries',\n",
       " 'T4': 'annotator_summaries_language',\n",
       " 'T5': 'annotator_translation',\n",
       " 'T6': 'annotator_original_language',\n",
       " 'T7': 'annotator_publisher',\n",
       " 'T8': 'annotator_place_pub',\n",
       " 'T9': 'annotator_country',\n",
       " 'T10': 'annotator_date_pub',\n",
       " 'T11': 'annotator_normalised_date_pub',\n",
       " 'T12': 'annotator_edition_statement',\n",
       " 'T13': 'annotator_genre',\n",
       " 'T14': 'annotator_FAST_genre_terms',\n",
       " 'T15': 'annotator_FAST_subject_terms',\n",
       " 'T16': 'annotator_status',\n",
       " 'T17': 'annotator_comments'}"
      ]
     },
     "execution_count": 32,
     "metadata": {},
     "output_type": "execute_result"
    }
   ],
   "source": [
    "mapping = dicttoolz.valmap(lambda x: \"annotator_\" + x, mapping)\n",
    "mapping"
   ]
  },
  {
   "cell_type": "code",
   "execution_count": 33,
   "id": "cd6bbca9-b247-4144-88b0-48d6387a32f2",
   "metadata": {},
   "outputs": [],
   "source": [
    "df3 = df3.rename(columns=mapping)"
   ]
  },
  {
   "cell_type": "code",
   "execution_count": 34,
   "id": "14998e27-06c6-4bfb-98a6-fdbabb542f90",
   "metadata": {},
   "outputs": [
    {
     "data": {
      "text/plain": [
       "Index(['classification_id', 'user_name', 'user_id', 'user_ip', 'workflow_id',\n",
       "       'workflow_name', 'workflow_version', 'created_at', 'gold_standard',\n",
       "       'expert', 'metadata', 'annotations', 'subject_data', 'subject_ids',\n",
       "       'T0', 'T1', 'annotator_date_pub', 'annotator_normalised_date_pub',\n",
       "       'annotator_edition_statement', 'annotator_genre',\n",
       "       'annotator_FAST_genre_terms', 'annotator_FAST_subject_terms',\n",
       "       'annotator_status', 'annotator_comments', 'annotator_main_language',\n",
       "       'annotator_other_languages_summaries', 'annotator_summaries_language',\n",
       "       'annotator_translation', 'annotator_original_language',\n",
       "       'annotator_publisher', 'annotator_place_pub', 'annotator_country',\n",
       "       'retired', 'Image', 'annotator_title', 'BL record ID', 'BL shelfmark',\n",
       "       'Link to Explore', 'Link to digitised book', 'Topics from MARC record',\n",
       "       'Languages from MARC record', 'Genre terms from MARC record',\n",
       "       'Literary form terms from MARC record',\n",
       "       'Language of original from MARC record',\n",
       "       'Literary form/genre suggestions from Christin Hoene'],\n",
       "      dtype='object')"
      ]
     },
     "execution_count": 34,
     "metadata": {},
     "output_type": "execute_result"
    }
   ],
   "source": [
    "df3.columns"
   ]
  },
  {
   "cell_type": "code",
   "execution_count": null,
   "id": "3a375cbf-e74b-456a-9eb0-ab28fe0fe828",
   "metadata": {},
   "outputs": [],
   "source": []
  },
  {
   "cell_type": "code",
   "execution_count": 35,
   "id": "1120733c-79e7-41e7-99a0-2362e4084c38",
   "metadata": {},
   "outputs": [
    {
     "data": {
      "text/plain": [
       "Non-fiction                                       2847\n",
       "Fiction                                           1527\n",
       "The book contains both Fiction and Non-Fiction      18\n",
       "Can't tell                                           6\n",
       "Name: annotator_genre, dtype: int64"
      ]
     },
     "execution_count": 35,
     "metadata": {},
     "output_type": "execute_result"
    }
   ],
   "source": [
    "df3.annotator_genre.value_counts()"
   ]
  },
  {
   "cell_type": "code",
   "execution_count": 36,
   "id": "45508eef-5565-4e3d-8b4e-ba4b3c7949bc",
   "metadata": {},
   "outputs": [
    {
     "data": {
      "text/plain": [
       "Index(['classification_id', 'user_name', 'user_id', 'user_ip', 'workflow_id',\n",
       "       'workflow_name', 'workflow_version', 'created_at', 'gold_standard',\n",
       "       'expert', 'metadata', 'annotations', 'subject_data', 'subject_ids',\n",
       "       'T0', 'T1', 'annotator_date_pub', 'annotator_normalised_date_pub',\n",
       "       'annotator_edition_statement', 'annotator_genre',\n",
       "       'annotator_FAST_genre_terms', 'annotator_FAST_subject_terms',\n",
       "       'annotator_status', 'annotator_comments', 'annotator_main_language',\n",
       "       'annotator_other_languages_summaries', 'annotator_summaries_language',\n",
       "       'annotator_translation', 'annotator_original_language',\n",
       "       'annotator_publisher', 'annotator_place_pub', 'annotator_country',\n",
       "       'retired', 'Image', 'annotator_title', 'BL record ID', 'BL shelfmark',\n",
       "       'Link to Explore', 'Link to digitised book', 'Topics from MARC record',\n",
       "       'Languages from MARC record', 'Genre terms from MARC record',\n",
       "       'Literary form terms from MARC record',\n",
       "       'Language of original from MARC record',\n",
       "       'Literary form/genre suggestions from Christin Hoene'],\n",
       "      dtype='object')"
      ]
     },
     "execution_count": 36,
     "metadata": {},
     "output_type": "execute_result"
    }
   ],
   "source": [
    "df3.columns"
   ]
  },
  {
   "cell_type": "markdown",
   "id": "222824e7-c621-4e1c-9bda-c23c0124c5a4",
   "metadata": {},
   "source": [
    "Replace `user_name` with code"
   ]
  },
  {
   "cell_type": "code",
   "execution_count": 37,
   "id": "ced493ee-c6d5-444c-b45e-074863baf05e",
   "metadata": {},
   "outputs": [],
   "source": [
    "df3.user_name = df3.user_name.astype(\"category\").cat.codes"
   ]
  },
  {
   "cell_type": "code",
   "execution_count": 39,
   "id": "25aed2a1-c633-48ee-8d96-a0304b4c7b38",
   "metadata": {},
   "outputs": [],
   "source": [
    "columns = [\n",
    "    column\n",
    "    for column in df3.columns\n",
    "    if not column\n",
    "    in {\n",
    "        \"user_id\",\n",
    "        \"user_ip\",\n",
    "        \"workflow_id\",\n",
    "        \"workflow_name\",\n",
    "        \"workflow_version\",\n",
    "        \"gold_standard\",\n",
    "        \"expert\",\n",
    "        \"metadata\",\n",
    "        \"annotations\",\n",
    "        \"subject_data\",\n",
    "        \"annotator_status\",\n",
    "        \"T0\",\n",
    "        \"T1\",\n",
    "        \"retired\",\n",
    "        \"Image\",\n",
    "        \"Link to Explore\",\n",
    "        \"Topics from MARC record\",\n",
    "        \"Languages from MARC record\",\n",
    "        \"Genre terms from MARC record\",\n",
    "        \"Literary form terms from MARC record\",\n",
    "        \"Language of original from MARC record\",\n",
    "        \"Literary form/genre suggestions from Christin Hoene\",\n",
    "    }\n",
    "]"
   ]
  },
  {
   "cell_type": "code",
   "execution_count": 40,
   "id": "a96773f5-156e-4035-ab0f-64ce0e9440ee",
   "metadata": {},
   "outputs": [],
   "source": [
    "annotation_df = df3[columns]"
   ]
  },
  {
   "cell_type": "code",
   "execution_count": 41,
   "id": "f96b9369-2a89-42bd-a882-5098800e50ad",
   "metadata": {},
   "outputs": [
    {
     "data": {
      "text/plain": [
       "Index(['classification_id', 'user_name', 'created_at', 'subject_ids',\n",
       "       'annotator_date_pub', 'annotator_normalised_date_pub',\n",
       "       'annotator_edition_statement', 'annotator_genre',\n",
       "       'annotator_FAST_genre_terms', 'annotator_FAST_subject_terms',\n",
       "       'annotator_comments', 'annotator_main_language',\n",
       "       'annotator_other_languages_summaries', 'annotator_summaries_language',\n",
       "       'annotator_translation', 'annotator_original_language',\n",
       "       'annotator_publisher', 'annotator_place_pub', 'annotator_country',\n",
       "       'annotator_title', 'BL record ID', 'BL shelfmark',\n",
       "       'Link to digitised book'],\n",
       "      dtype='object')"
      ]
     },
     "execution_count": 41,
     "metadata": {},
     "output_type": "execute_result"
    }
   ],
   "source": [
    "annotation_df.columns"
   ]
  },
  {
   "cell_type": "code",
   "execution_count": 42,
   "id": "f806e808-6db2-4903-b917-ce3582ff1d2e",
   "metadata": {},
   "outputs": [],
   "source": [
    "annotation_df = annotation_df[annotation_df.annotator_genre.notna()]"
   ]
  },
  {
   "cell_type": "code",
   "execution_count": 43,
   "id": "688e93ed-3d43-4ecc-a95c-2ed93d3d3c0b",
   "metadata": {},
   "outputs": [
    {
     "data": {
      "text/html": [
       "<div>\n",
       "<style scoped>\n",
       "    .dataframe tbody tr th:only-of-type {\n",
       "        vertical-align: middle;\n",
       "    }\n",
       "\n",
       "    .dataframe tbody tr th {\n",
       "        vertical-align: top;\n",
       "    }\n",
       "\n",
       "    .dataframe thead th {\n",
       "        text-align: right;\n",
       "    }\n",
       "</style>\n",
       "<table border=\"1\" class=\"dataframe\">\n",
       "  <thead>\n",
       "    <tr style=\"text-align: right;\">\n",
       "      <th></th>\n",
       "      <th>classification_id</th>\n",
       "      <th>user_name</th>\n",
       "      <th>created_at</th>\n",
       "      <th>subject_ids</th>\n",
       "      <th>annotator_date_pub</th>\n",
       "      <th>annotator_normalised_date_pub</th>\n",
       "      <th>annotator_edition_statement</th>\n",
       "      <th>annotator_genre</th>\n",
       "      <th>annotator_FAST_genre_terms</th>\n",
       "      <th>annotator_FAST_subject_terms</th>\n",
       "      <th>...</th>\n",
       "      <th>annotator_summaries_language</th>\n",
       "      <th>annotator_translation</th>\n",
       "      <th>annotator_original_language</th>\n",
       "      <th>annotator_publisher</th>\n",
       "      <th>annotator_place_pub</th>\n",
       "      <th>annotator_country</th>\n",
       "      <th>annotator_title</th>\n",
       "      <th>BL record ID</th>\n",
       "      <th>BL shelfmark</th>\n",
       "      <th>Link to digitised book</th>\n",
       "    </tr>\n",
       "  </thead>\n",
       "  <tbody>\n",
       "    <tr>\n",
       "      <th>0</th>\n",
       "      <td>258849534</td>\n",
       "      <td>3</td>\n",
       "      <td>2020-07-08 08:19:14 UTC</td>\n",
       "      <td>44331392</td>\n",
       "      <td>NONE</td>\n",
       "      <td>NONE</td>\n",
       "      <td>NONE</td>\n",
       "      <td>Fiction</td>\n",
       "      <td>655 7 $aPoetry$2fast$0(OCoLC)fst01423828</td>\n",
       "      <td>NONE</td>\n",
       "      <td>...</td>\n",
       "      <td></td>\n",
       "      <td>No</td>\n",
       "      <td></td>\n",
       "      <td>published by the author</td>\n",
       "      <td>Bury St. Edmunds</td>\n",
       "      <td>enk</td>\n",
       "      <td>Sonnets</td>\n",
       "      <td>014616869</td>\n",
       "      <td>Digital Store 11652.i.20</td>\n",
       "      <td>http://access.bl.uk/item/viewer/ark:/81055/vdc...</td>\n",
       "    </tr>\n",
       "  </tbody>\n",
       "</table>\n",
       "<p>1 rows × 23 columns</p>\n",
       "</div>"
      ],
      "text/plain": [
       "   classification_id  user_name               created_at  subject_ids  \\\n",
       "0          258849534          3  2020-07-08 08:19:14 UTC     44331392   \n",
       "\n",
       "  annotator_date_pub annotator_normalised_date_pub  \\\n",
       "0               NONE                          NONE   \n",
       "\n",
       "  annotator_edition_statement annotator_genre  \\\n",
       "0                        NONE         Fiction   \n",
       "\n",
       "                 annotator_FAST_genre_terms annotator_FAST_subject_terms  ...  \\\n",
       "0  655 7 $aPoetry$2fast$0(OCoLC)fst01423828                         NONE  ...   \n",
       "\n",
       "  annotator_summaries_language annotator_translation  \\\n",
       "0                                                 No   \n",
       "\n",
       "  annotator_original_language      annotator_publisher annotator_place_pub  \\\n",
       "0                              published by the author    Bury St. Edmunds   \n",
       "\n",
       "  annotator_country annotator_title BL record ID              BL shelfmark  \\\n",
       "0               enk         Sonnets    014616869  Digital Store 11652.i.20   \n",
       "\n",
       "                              Link to digitised book  \n",
       "0  http://access.bl.uk/item/viewer/ark:/81055/vdc...  \n",
       "\n",
       "[1 rows x 23 columns]"
      ]
     },
     "execution_count": 43,
     "metadata": {},
     "output_type": "execute_result"
    }
   ],
   "source": [
    "annotation_df.head(1)"
   ]
  },
  {
   "cell_type": "code",
   "execution_count": 44,
   "id": "4f9e0530-a7e9-4c81-a20d-51e899f699cd",
   "metadata": {},
   "outputs": [],
   "source": [
    "df_current_metadata = pd.read_csv(\n",
    "    \"https://bl.iro.bl.uk/downloads/e1be1324-8b1a-4712-96a7-783ac209ddef?locale=en\",\n",
    "    dtype={\n",
    "        \"BL record ID\": \"string\",\n",
    "        \"BL record ID for physical resource\": \"string\",\n",
    "        \"Date of publication\": \"string\",\n",
    "    },\n",
    ")"
   ]
  },
  {
   "cell_type": "code",
   "execution_count": 45,
   "id": "6ce1b8cd-5c78-4275-bf64-4246fa29712a",
   "metadata": {},
   "outputs": [
    {
     "data": {
      "text/plain": [
       "Index(['BL record ID', 'Type of resource', 'Name',\n",
       "       'Dates associated with name', 'Type of name', 'Role', 'All names',\n",
       "       'Title', 'Variant titles', 'Series title', 'Number within series',\n",
       "       'Country of publication', 'Place of publication', 'Publisher',\n",
       "       'Date of publication', 'Edition', 'Physical description',\n",
       "       'Dewey classification', 'BL shelfmark', 'Topics', 'Genre', 'Languages',\n",
       "       'Notes', 'BL record ID for physical resource'],\n",
       "      dtype='object')"
      ]
     },
     "execution_count": 45,
     "metadata": {},
     "output_type": "execute_result"
    }
   ],
   "source": [
    "df_current_metadata.columns"
   ]
  },
  {
   "cell_type": "code",
   "execution_count": 46,
   "id": "40e18e24-8945-4bdd-8e94-362f2b638e1e",
   "metadata": {},
   "outputs": [],
   "source": [
    "annotation_df = annotation_df.set_index(\"BL record ID\")"
   ]
  },
  {
   "cell_type": "code",
   "execution_count": 47,
   "id": "524e6269-bd07-4820-afc2-5401ac84d1ee",
   "metadata": {},
   "outputs": [],
   "source": [
    "annotation_df = annotation_df.drop(columns=\"BL shelfmark\")"
   ]
  },
  {
   "cell_type": "code",
   "execution_count": 48,
   "id": "a2aa180a-227b-46bb-87bf-41022db2f917",
   "metadata": {},
   "outputs": [],
   "source": [
    "df_current_metadata = df_current_metadata.set_index(\"BL record ID\")"
   ]
  },
  {
   "cell_type": "code",
   "execution_count": 50,
   "id": "e8a20509-ea51-4f9d-adb7-e4bff012299e",
   "metadata": {},
   "outputs": [],
   "source": [
    "joined_df = df_current_metadata.join(\n",
    "    annotation_df, on=\"BL record ID\", lsuffix=\"_left\", rsuffix=\"_right\"\n",
    ")"
   ]
  },
  {
   "cell_type": "code",
   "execution_count": 51,
   "id": "9b87fbf1-b9d7-40d8-b741-b77b82ae70e4",
   "metadata": {},
   "outputs": [
    {
     "data": {
      "text/plain": [
       "Index(['Type of resource', 'Name', 'Dates associated with name',\n",
       "       'Type of name', 'Role', 'All names', 'Title', 'Variant titles',\n",
       "       'Series title', 'Number within series', 'Country of publication',\n",
       "       'Place of publication', 'Publisher', 'Date of publication', 'Edition',\n",
       "       'Physical description', 'Dewey classification', 'BL shelfmark',\n",
       "       'Topics', 'Genre', 'Languages', 'Notes',\n",
       "       'BL record ID for physical resource', 'classification_id', 'user_name',\n",
       "       'created_at', 'subject_ids', 'annotator_date_pub',\n",
       "       'annotator_normalised_date_pub', 'annotator_edition_statement',\n",
       "       'annotator_genre', 'annotator_FAST_genre_terms',\n",
       "       'annotator_FAST_subject_terms', 'annotator_comments',\n",
       "       'annotator_main_language', 'annotator_other_languages_summaries',\n",
       "       'annotator_summaries_language', 'annotator_translation',\n",
       "       'annotator_original_language', 'annotator_publisher',\n",
       "       'annotator_place_pub', 'annotator_country', 'annotator_title',\n",
       "       'Link to digitised book'],\n",
       "      dtype='object')"
      ]
     },
     "execution_count": 51,
     "metadata": {},
     "output_type": "execute_result"
    }
   ],
   "source": [
    "joined_df.columns"
   ]
  },
  {
   "cell_type": "code",
   "execution_count": 52,
   "id": "6bbde530-6557-48d6-b5f6-d25a4e51a7ff",
   "metadata": {},
   "outputs": [],
   "source": [
    "joined_df[\"annotated\"] = joined_df[\"classification_id\"].notna()"
   ]
  },
  {
   "cell_type": "code",
   "execution_count": 53,
   "id": "52b82c27-929a-41be-aaf9-5844964479ed",
   "metadata": {},
   "outputs": [
    {
     "data": {
      "text/plain": [
       "BL record ID\n",
       "014602826    False\n",
       "014602830    False\n",
       "014602831    False\n",
       "014602832    False\n",
       "014602833    False\n",
       "             ...  \n",
       "016289058    False\n",
       "016289059    False\n",
       "016289060    False\n",
       "016289061    False\n",
       "016289062    False\n",
       "Name: annotated, Length: 55343, dtype: bool"
      ]
     },
     "execution_count": 53,
     "metadata": {},
     "output_type": "execute_result"
    }
   ],
   "source": [
    "joined_df[\"annotated\"]"
   ]
  },
  {
   "cell_type": "code",
   "execution_count": 54,
   "id": "85a6162f-0af7-4700-b882-5627a29e263e",
   "metadata": {},
   "outputs": [
    {
     "data": {
      "text/plain": [
       "Type of resource                                                               Monograph\n",
       "Name                                                                       Yearsley, Ann\n",
       "Dates associated with name                                                     1753-1806\n",
       "Type of name                                                                      person\n",
       "Role                                                                                 NaN\n",
       "All names                              More, Hannah, 1745-1833 [person] ; Yearsley, A...\n",
       "Title                                  Poems on several occasions [With a prefatory l...\n",
       "Variant titles                                                                       NaN\n",
       "Series title                                                                         NaN\n",
       "Number within series                                                                 NaN\n",
       "Country of publication                                                           England\n",
       "Place of publication                                                              London\n",
       "Publisher                                                                            NaN\n",
       "Date of publication                                                                 1786\n",
       "Edition                                                   Fourth edition MANUSCRIPT note\n",
       "Physical description                                                                 NaN\n",
       "Dewey classification                                                                 NaN\n",
       "BL shelfmark                                                    Digital Store 11644.d.32\n",
       "Topics                                                                               NaN\n",
       "Genre                                                                                NaN\n",
       "Languages                                                                        English\n",
       "Notes                                                                                NaN\n",
       "BL record ID for physical resource                                             003996603\n",
       "classification_id                                                                    NaN\n",
       "user_name                                                                            NaN\n",
       "created_at                                                                           NaN\n",
       "subject_ids                                                                          NaN\n",
       "annotator_date_pub                                                                   NaN\n",
       "annotator_normalised_date_pub                                                        NaN\n",
       "annotator_edition_statement                                                          NaN\n",
       "annotator_genre                                                                      NaN\n",
       "annotator_FAST_genre_terms                                                           NaN\n",
       "annotator_FAST_subject_terms                                                         NaN\n",
       "annotator_comments                                                                   NaN\n",
       "annotator_main_language                                                              NaN\n",
       "annotator_other_languages_summaries                                                  NaN\n",
       "annotator_summaries_language                                                         NaN\n",
       "annotator_translation                                                                NaN\n",
       "annotator_original_language                                                          NaN\n",
       "annotator_publisher                                                                  NaN\n",
       "annotator_place_pub                                                                  NaN\n",
       "annotator_country                                                                    NaN\n",
       "annotator_title                                                                      NaN\n",
       "Link to digitised book                                                               NaN\n",
       "annotated                                                                          False\n",
       "Name: 014602826, dtype: object"
      ]
     },
     "execution_count": 54,
     "metadata": {},
     "output_type": "execute_result"
    }
   ],
   "source": [
    "joined_df.iloc[0]"
   ]
  },
  {
   "cell_type": "code",
   "execution_count": 55,
   "id": "bef5279d-63e6-47f9-a359-6be6d40e4568",
   "metadata": {},
   "outputs": [
    {
     "data": {
      "text/plain": [
       "Type of resource                                                               Monograph\n",
       "Name                                                            Yates, William Joseph H.\n",
       "Dates associated with name                                                           NaN\n",
       "Type of name                                                                      person\n",
       "Role                                                                                 NaN\n",
       "All names                              Yates, William Joseph H. [person] ; Y, W. J. H...\n",
       "Title                                  The Canadian farmer. A missionary incident [Si...\n",
       "Variant titles                                                                       NaN\n",
       "Series title                                                                         NaN\n",
       "Number within series                                                                 NaN\n",
       "Country of publication                                                           England\n",
       "Place of publication                                                              London\n",
       "Publisher                                                                            NaN\n",
       "Date of publication                                                                 1879\n",
       "Edition                                                                              NaN\n",
       "Physical description                                           pages not numbered, 21 cm\n",
       "Dewey classification                                                                 NaN\n",
       "BL shelfmark                                              Digital Store 11601.f.36. (1.)\n",
       "Topics                                                                               NaN\n",
       "Genre                                                                                NaN\n",
       "Languages                                                                        English\n",
       "Notes                                                                           In verse\n",
       "BL record ID for physical resource                                             004079262\n",
       "classification_id                                                            267476823.0\n",
       "user_name                                                                           15.0\n",
       "created_at                                                       2020-08-11 14:30:33 UTC\n",
       "subject_ids                                                                   44369003.0\n",
       "annotator_date_pub                                                                  1879\n",
       "annotator_normalised_date_pub                                                       1879\n",
       "annotator_edition_statement                                                         NONE\n",
       "annotator_genre                                                                  Fiction\n",
       "annotator_FAST_genre_terms                      655 7 ‡aPoetry‡2fast‡0(OCoLC)fst01423828\n",
       "annotator_FAST_subject_terms           60007 ‡aAlice,‡cGrand Duchess, consort of Ludw...\n",
       "annotator_comments                                                                      \n",
       "annotator_main_language                                                                 \n",
       "annotator_other_languages_summaries                                                   No\n",
       "annotator_summaries_language                                                            \n",
       "annotator_translation                                                                 No\n",
       "annotator_original_language                                                             \n",
       "annotator_publisher                                                                 NONE\n",
       "annotator_place_pub                                                               London\n",
       "annotator_country                                                                    enk\n",
       "annotator_title                        The Canadian farmer. A missionary incident [Si...\n",
       "Link to digitised book                 http://access.bl.uk/item/viewer/ark:/81055/vdc...\n",
       "annotated                                                                           True\n",
       "Name: 014603046, dtype: object"
      ]
     },
     "execution_count": 55,
     "metadata": {},
     "output_type": "execute_result"
    }
   ],
   "source": [
    "joined_df[joined_df[\"annotated\"] == True].iloc[0]"
   ]
  },
  {
   "cell_type": "code",
   "execution_count": 56,
   "id": "8f4e79f2-24ba-451a-97a3-a929c6e088f0",
   "metadata": {},
   "outputs": [],
   "source": [
    "from datetime import datetime"
   ]
  },
  {
   "cell_type": "code",
   "execution_count": 57,
   "id": "503d93fa-ee4e-4780-961a-746530b6c3d4",
   "metadata": {},
   "outputs": [
    {
     "data": {
      "text/plain": [
       "'2021_10_06'"
      ]
     },
     "execution_count": 57,
     "metadata": {},
     "output_type": "execute_result"
    }
   ],
   "source": [
    "date_now = datetime.now()\n",
    "date_now = date_now.strftime(\"%Y_%m_%d\")\n",
    "date_now"
   ]
  },
  {
   "cell_type": "code",
   "execution_count": 59,
   "id": "f690b099-0eec-499f-b906-18da6aeb334d",
   "metadata": {},
   "outputs": [
    {
     "data": {
      "text/html": [
       "<div>\n",
       "<style scoped>\n",
       "    .dataframe tbody tr th:only-of-type {\n",
       "        vertical-align: middle;\n",
       "    }\n",
       "\n",
       "    .dataframe tbody tr th {\n",
       "        vertical-align: top;\n",
       "    }\n",
       "\n",
       "    .dataframe thead th {\n",
       "        text-align: right;\n",
       "    }\n",
       "</style>\n",
       "<table border=\"1\" class=\"dataframe\">\n",
       "  <thead>\n",
       "    <tr style=\"text-align: right;\">\n",
       "      <th></th>\n",
       "      <th>Type of resource</th>\n",
       "      <th>Name</th>\n",
       "      <th>Dates associated with name</th>\n",
       "      <th>Type of name</th>\n",
       "      <th>Role</th>\n",
       "      <th>All names</th>\n",
       "      <th>Title</th>\n",
       "      <th>Variant titles</th>\n",
       "      <th>Series title</th>\n",
       "      <th>Number within series</th>\n",
       "      <th>...</th>\n",
       "      <th>annotator_other_languages_summaries</th>\n",
       "      <th>annotator_summaries_language</th>\n",
       "      <th>annotator_translation</th>\n",
       "      <th>annotator_original_language</th>\n",
       "      <th>annotator_publisher</th>\n",
       "      <th>annotator_place_pub</th>\n",
       "      <th>annotator_country</th>\n",
       "      <th>annotator_title</th>\n",
       "      <th>Link to digitised book</th>\n",
       "      <th>annotated</th>\n",
       "    </tr>\n",
       "    <tr>\n",
       "      <th>BL record ID</th>\n",
       "      <th></th>\n",
       "      <th></th>\n",
       "      <th></th>\n",
       "      <th></th>\n",
       "      <th></th>\n",
       "      <th></th>\n",
       "      <th></th>\n",
       "      <th></th>\n",
       "      <th></th>\n",
       "      <th></th>\n",
       "      <th></th>\n",
       "      <th></th>\n",
       "      <th></th>\n",
       "      <th></th>\n",
       "      <th></th>\n",
       "      <th></th>\n",
       "      <th></th>\n",
       "      <th></th>\n",
       "      <th></th>\n",
       "      <th></th>\n",
       "      <th></th>\n",
       "    </tr>\n",
       "  </thead>\n",
       "  <tbody>\n",
       "    <tr>\n",
       "      <th>014602826</th>\n",
       "      <td>Monograph</td>\n",
       "      <td>Yearsley, Ann</td>\n",
       "      <td>1753-1806</td>\n",
       "      <td>person</td>\n",
       "      <td>NaN</td>\n",
       "      <td>More, Hannah, 1745-1833 [person] ; Yearsley, A...</td>\n",
       "      <td>Poems on several occasions [With a prefatory l...</td>\n",
       "      <td>NaN</td>\n",
       "      <td>NaN</td>\n",
       "      <td>NaN</td>\n",
       "      <td>...</td>\n",
       "      <td>NaN</td>\n",
       "      <td>NaN</td>\n",
       "      <td>NaN</td>\n",
       "      <td>NaN</td>\n",
       "      <td>NaN</td>\n",
       "      <td>NaN</td>\n",
       "      <td>NaN</td>\n",
       "      <td>NaN</td>\n",
       "      <td>NaN</td>\n",
       "      <td>False</td>\n",
       "    </tr>\n",
       "  </tbody>\n",
       "</table>\n",
       "<p>1 rows × 45 columns</p>\n",
       "</div>"
      ],
      "text/plain": [
       "             Type of resource           Name Dates associated with name  \\\n",
       "BL record ID                                                              \n",
       "014602826           Monograph  Yearsley, Ann                  1753-1806   \n",
       "\n",
       "             Type of name Role  \\\n",
       "BL record ID                     \n",
       "014602826          person  NaN   \n",
       "\n",
       "                                                      All names  \\\n",
       "BL record ID                                                      \n",
       "014602826     More, Hannah, 1745-1833 [person] ; Yearsley, A...   \n",
       "\n",
       "                                                          Title  \\\n",
       "BL record ID                                                      \n",
       "014602826     Poems on several occasions [With a prefatory l...   \n",
       "\n",
       "             Variant titles Series title Number within series  ...  \\\n",
       "BL record ID                                                   ...   \n",
       "014602826               NaN          NaN                  NaN  ...   \n",
       "\n",
       "             annotator_other_languages_summaries annotator_summaries_language  \\\n",
       "BL record ID                                                                    \n",
       "014602826                                    NaN                          NaN   \n",
       "\n",
       "             annotator_translation annotator_original_language  \\\n",
       "BL record ID                                                     \n",
       "014602826                      NaN                         NaN   \n",
       "\n",
       "             annotator_publisher annotator_place_pub annotator_country  \\\n",
       "BL record ID                                                             \n",
       "014602826                    NaN                 NaN               NaN   \n",
       "\n",
       "             annotator_title Link to digitised book annotated  \n",
       "BL record ID                                                   \n",
       "014602826                NaN                    NaN     False  \n",
       "\n",
       "[1 rows x 45 columns]"
      ]
     },
     "execution_count": 59,
     "metadata": {},
     "output_type": "execute_result"
    }
   ],
   "source": [
    "joined_df.head(1)"
   ]
  },
  {
   "cell_type": "code",
   "execution_count": 58,
   "id": "5eb792f3-5e44-4b04-859f-295f7e427d87",
   "metadata": {},
   "outputs": [],
   "source": [
    "joined_df.to_csv(\n",
    "    f\"genre_classification_of_bl_books/data/annotations_{date_now}.csv\", index=True\n",
    ")"
   ]
  }
 ],
 "metadata": {
  "kernelspec": {
   "display_name": "datascience",
   "language": "python",
   "name": "datascience"
  },
  "language_info": {
   "codemirror_mode": {
    "name": "ipython",
    "version": 3
   },
   "file_extension": ".py",
   "mimetype": "text/x-python",
   "name": "python",
   "nbconvert_exporter": "python",
   "pygments_lexer": "ipython3",
   "version": "3.7.7"
  }
 },
 "nbformat": 4,
 "nbformat_minor": 5
}
