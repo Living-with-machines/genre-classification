{
 "cells": [
  {
   "cell_type": "markdown",
   "metadata": {
    "id": "EFGaKmTkOVqf"
   },
   "source": [
    "# Training our first book genre classification model \n",
    "\n",
    "Now that we have done some initial exploration of the annotated dataset we'll turn to the process of creating our first model. Since we are taking a pragmatic approach we want to try and get stuck into our problem fairly quickly. Often we learn a lot about our task and data by trying to train a model. This can make it useful to try and train a model fairly early on to sense check our approach. For example, if we are collecting new training data, it makes sense to try and train a model as soon as we have some data to check if:\n",
    "\n",
    "- our model is able to learn anything from the data\n",
    "- our annoations are in a format we can use\n",
    "- there is anything we need to consider when collecting further annotations. \n",
    "\n",
    "This notebook covers the process of training a text classifier to predict whether a book title refers to a 'fiction' or 'non-fiction' book based on the annotation data discussed previously. \n",
    "\n",
    "In this notebook we focus on a fairly basic overview of how to approach this topic. The following chapters/notebooks will build on this introduction to cover some other more niche topics and approaches."
   ]
  },
  {
   "cell_type": "markdown",
   "metadata": {
    "id": "7aYFOH56HtjX"
   },
   "source": [
    "## fastai \n",
    "\n",
    "For this notebook we will use the `fastai` deep learning library {cite:ps}`howardFastaiLayeredAPI2020` for training our model. We won't provide a full introduction to the library but will try and explain what we're doing as we're going along. The `fastai` library offers a 'layered API' which includes a high level API that we can use to quickly develop our model. This will allow us to focus on quick development of our model and developing our overall approach as opposed to writing a lot of code. "
   ]
  },
  {
   "cell_type": "markdown",
   "metadata": {
    "id": "_b65wyNaOzqf"
   },
   "source": [
    "We start by installing the fastai library "
   ]
  },
  {
   "cell_type": "code",
   "execution_count": null,
   "metadata": {
    "colab": {
     "base_uri": "https://localhost:8080/"
    },
    "id": "RGeStOgODrPr",
    "outputId": "ecb4a50e-edd1-4ca7-8b52-24fc6fb5a725",
    "tags": [
     "hide-output"
    ]
   },
   "outputs": [
    {
     "name": "stdout",
     "output_type": "stream",
     "text": [
      "Requirement already satisfied: fastai==2.5.2 in /usr/local/lib/python3.7/dist-packages (2.5.2)\n",
      "Requirement already satisfied: scipy in /usr/local/lib/python3.7/dist-packages (from fastai==2.5.2) (1.4.1)\n",
      "Requirement already satisfied: pandas in /usr/local/lib/python3.7/dist-packages (from fastai==2.5.2) (1.1.5)\n",
      "Requirement already satisfied: fastprogress>=0.2.4 in /usr/local/lib/python3.7/dist-packages (from fastai==2.5.2) (1.0.0)\n",
      "Requirement already satisfied: spacy<4 in /usr/local/lib/python3.7/dist-packages (from fastai==2.5.2) (2.2.4)\n",
      "Requirement already satisfied: torchvision>=0.8.2 in /usr/local/lib/python3.7/dist-packages (from fastai==2.5.2) (0.10.1)\n",
      "Requirement already satisfied: fastdownload<2,>=0.0.5 in /usr/local/lib/python3.7/dist-packages (from fastai==2.5.2) (0.0.5)\n",
      "Requirement already satisfied: pyyaml in /usr/local/lib/python3.7/dist-packages (from fastai==2.5.2) (3.13)\n",
      "Requirement already satisfied: pip in /usr/local/lib/python3.7/dist-packages (from fastai==2.5.2) (21.1.3)\n",
      "Requirement already satisfied: scikit-learn in /usr/local/lib/python3.7/dist-packages (from fastai==2.5.2) (1.0.1)\n",
      "Requirement already satisfied: fastcore<1.4,>=1.3.8 in /usr/local/lib/python3.7/dist-packages (from fastai==2.5.2) (1.3.27)\n",
      "Requirement already satisfied: pillow>6.0.0 in /usr/local/lib/python3.7/dist-packages (from fastai==2.5.2) (7.1.2)\n",
      "Requirement already satisfied: requests in /usr/local/lib/python3.7/dist-packages (from fastai==2.5.2) (2.23.0)\n",
      "Requirement already satisfied: packaging in /usr/local/lib/python3.7/dist-packages (from fastai==2.5.2) (21.3)\n",
      "Requirement already satisfied: torch<1.10,>=1.7.0 in /usr/local/lib/python3.7/dist-packages (from fastai==2.5.2) (1.9.1)\n",
      "Requirement already satisfied: matplotlib in /usr/local/lib/python3.7/dist-packages (from fastai==2.5.2) (3.2.2)\n",
      "Requirement already satisfied: numpy in /usr/local/lib/python3.7/dist-packages (from fastprogress>=0.2.4->fastai==2.5.2) (1.19.5)\n",
      "Requirement already satisfied: thinc==7.4.0 in /usr/local/lib/python3.7/dist-packages (from spacy<4->fastai==2.5.2) (7.4.0)\n",
      "Requirement already satisfied: cymem<2.1.0,>=2.0.2 in /usr/local/lib/python3.7/dist-packages (from spacy<4->fastai==2.5.2) (2.0.6)\n",
      "Requirement already satisfied: preshed<3.1.0,>=3.0.2 in /usr/local/lib/python3.7/dist-packages (from spacy<4->fastai==2.5.2) (3.0.6)\n",
      "Requirement already satisfied: murmurhash<1.1.0,>=0.28.0 in /usr/local/lib/python3.7/dist-packages (from spacy<4->fastai==2.5.2) (1.0.6)\n",
      "Requirement already satisfied: catalogue<1.1.0,>=0.0.7 in /usr/local/lib/python3.7/dist-packages (from spacy<4->fastai==2.5.2) (1.0.0)\n",
      "Requirement already satisfied: blis<0.5.0,>=0.4.0 in /usr/local/lib/python3.7/dist-packages (from spacy<4->fastai==2.5.2) (0.4.1)\n",
      "Requirement already satisfied: tqdm<5.0.0,>=4.38.0 in /usr/local/lib/python3.7/dist-packages (from spacy<4->fastai==2.5.2) (4.62.3)\n",
      "Requirement already satisfied: setuptools in /usr/local/lib/python3.7/dist-packages (from spacy<4->fastai==2.5.2) (57.4.0)\n",
      "Requirement already satisfied: wasabi<1.1.0,>=0.4.0 in /usr/local/lib/python3.7/dist-packages (from spacy<4->fastai==2.5.2) (0.8.2)\n",
      "Requirement already satisfied: srsly<1.1.0,>=1.0.2 in /usr/local/lib/python3.7/dist-packages (from spacy<4->fastai==2.5.2) (1.0.5)\n",
      "Requirement already satisfied: plac<1.2.0,>=0.9.6 in /usr/local/lib/python3.7/dist-packages (from spacy<4->fastai==2.5.2) (1.1.3)\n",
      "Requirement already satisfied: importlib-metadata>=0.20 in /usr/local/lib/python3.7/dist-packages (from catalogue<1.1.0,>=0.0.7->spacy<4->fastai==2.5.2) (4.8.2)\n",
      "Requirement already satisfied: typing-extensions>=3.6.4 in /usr/local/lib/python3.7/dist-packages (from importlib-metadata>=0.20->catalogue<1.1.0,>=0.0.7->spacy<4->fastai==2.5.2) (3.10.0.2)\n",
      "Requirement already satisfied: zipp>=0.5 in /usr/local/lib/python3.7/dist-packages (from importlib-metadata>=0.20->catalogue<1.1.0,>=0.0.7->spacy<4->fastai==2.5.2) (3.6.0)\n",
      "Requirement already satisfied: urllib3!=1.25.0,!=1.25.1,<1.26,>=1.21.1 in /usr/local/lib/python3.7/dist-packages (from requests->fastai==2.5.2) (1.24.3)\n",
      "Requirement already satisfied: idna<3,>=2.5 in /usr/local/lib/python3.7/dist-packages (from requests->fastai==2.5.2) (2.10)\n",
      "Requirement already satisfied: chardet<4,>=3.0.2 in /usr/local/lib/python3.7/dist-packages (from requests->fastai==2.5.2) (3.0.4)\n",
      "Requirement already satisfied: certifi>=2017.4.17 in /usr/local/lib/python3.7/dist-packages (from requests->fastai==2.5.2) (2021.10.8)\n",
      "Requirement already satisfied: cycler>=0.10 in /usr/local/lib/python3.7/dist-packages (from matplotlib->fastai==2.5.2) (0.11.0)\n",
      "Requirement already satisfied: kiwisolver>=1.0.1 in /usr/local/lib/python3.7/dist-packages (from matplotlib->fastai==2.5.2) (1.3.2)\n",
      "Requirement already satisfied: python-dateutil>=2.1 in /usr/local/lib/python3.7/dist-packages (from matplotlib->fastai==2.5.2) (2.8.2)\n",
      "Requirement already satisfied: pyparsing!=2.0.4,!=2.1.2,!=2.1.6,>=2.0.1 in /usr/local/lib/python3.7/dist-packages (from matplotlib->fastai==2.5.2) (3.0.6)\n",
      "Requirement already satisfied: six>=1.5 in /usr/local/lib/python3.7/dist-packages (from python-dateutil>=2.1->matplotlib->fastai==2.5.2) (1.15.0)\n",
      "Requirement already satisfied: pytz>=2017.2 in /usr/local/lib/python3.7/dist-packages (from pandas->fastai==2.5.2) (2018.9)\n",
      "Requirement already satisfied: threadpoolctl>=2.0.0 in /usr/local/lib/python3.7/dist-packages (from scikit-learn->fastai==2.5.2) (3.0.0)\n",
      "Requirement already satisfied: joblib>=0.11 in /usr/local/lib/python3.7/dist-packages (from scikit-learn->fastai==2.5.2) (1.1.0)\n"
     ]
    }
   ],
   "source": [
    "!pip install fastai==2.5.2"
   ]
  },
  {
   "cell_type": "markdown",
   "metadata": {
    "id": "8FqaLvkyMDza"
   },
   "source": [
    "Now we've installed fastai we can import it. The version used for this notebook is shown for reference. "
   ]
  },
  {
   "cell_type": "code",
   "execution_count": null,
   "metadata": {
    "colab": {
     "base_uri": "https://localhost:8080/",
     "height": 36
    },
    "id": "Aic_mfPZ__Wf",
    "outputId": "eef7a20b-8001-453d-ce94-0479f7c06ea0"
   },
   "outputs": [
    {
     "data": {
      "application/vnd.google.colaboratory.intrinsic+json": {
       "type": "string"
      },
      "text/plain": [
       "'2.5.2'"
      ]
     },
     "execution_count": null,
     "metadata": {},
     "output_type": "execute_result"
    }
   ],
   "source": [
    "import fastai\n",
    "\n",
    "fastai.__version__"
   ]
  },
  {
   "cell_type": "markdown",
   "metadata": {
    "id": "vXmnYbMAMN_s"
   },
   "source": [
    "We are going to be working with text so we import the text module from the fastai library. \n",
    "\n",
    "Since we are going to be working with CSVs and doing some tidying of data we also import pandas. "
   ]
  },
  {
   "cell_type": "code",
   "execution_count": null,
   "metadata": {
    "id": "orw1FpCSDzyw"
   },
   "outputs": [],
   "source": [
    "from fastai.text.all import *\n",
    "import pandas as pd"
   ]
  },
  {
   "cell_type": "markdown",
   "metadata": {
    "id": "c9pq8y0LFDtC"
   },
   "source": [
    "## Why are you not using BERT?\n",
    "\n",
    "```{image} https://www.codemotion.com/magazine/wp-content/uploads/2020/05/bert-google-1200x675.png\n",
    ":alt: angry picture of Bert\n",
    ":class: bg-primary mb-1\n",
    ":width: 400px\n",
    ":align: right\n",
    "```\n",
    "\n",
    "If you have had much exposure to developments in NLP or deep learning you will likely have heard of BERT or other Transformer based models. BERT is an approach to training language models first outlined in *BERT: Pre-training of Deep Bidirectional Transformers for Language Understanding* {cite:p}`devlin2019bert`.\n",
    "\n",
    "Transformer based Language models have demonstrated strong performance across a range of tasks. We may still want to entertain using other approaches to NLP. This includes our old friend the LSTM. \n",
    "\n",
    "There are a few reasons we choose to start with a slightly less trendy model:\n",
    "\n",
    "- it allow us to focus on the broad process of using transfer learning to start with \n",
    "- it allows for more focus on the 'data part' of the process of creating a machine learning model. This is less exciting to many people but arguably in a GLAM setting should be a major/main focus. \n",
    "\n",
    "For those we want a Transformer based approached a later notebook does do this..."
   ]
  },
  {
   "cell_type": "markdown",
   "metadata": {
    "id": "1p-UW-xSnC3H"
   },
   "source": [
    "### Exploring our data\n",
    "\n",
    "We'll briefly take a look at our data, starting by loading it. We specify *some* of the Pandas datatypes. We make sure `BL record ID` is loaded as a string so it doesn't chop of leading zeros i.e. `00001` isn't turned into `1`. We also use the `category` type for values which might be duplicated a bit since this will save a bit of memory. "
   ]
  },
  {
   "cell_type": "code",
   "execution_count": null,
   "metadata": {
    "id": "IyOFOLifMH7k"
   },
   "outputs": [],
   "source": [
    "csv_data_url = (\n",
    "    \"https://bl.iro.bl.uk/downloads/36c7cd20-c8a7-4495-acbe-469b9132c6b1?locale=en\"\n",
    ")"
   ]
  },
  {
   "cell_type": "code",
   "execution_count": null,
   "metadata": {
    "id": "9kGemfubp6iH"
   },
   "outputs": [],
   "source": [
    "dtypes = {\n",
    "    \"BL record ID\": \"string\",\n",
    "    \"Type of resource\": \"category\",\n",
    "    \"Name\": \"category\",\n",
    "    \"Type of name\": \"category\",\n",
    "    \"Country of publication\": \"category\",\n",
    "    \"Place of publication\": \"category\",\n",
    "    \"Genre\": \"category\",\n",
    "    \"Dewey classification\": \"string\",\n",
    "    \"BL record ID for physical resource\": \"string\",\n",
    "    \"annotator_main_language\": \"category\",\n",
    "    \"annotator_summaries_language\": \"string\",\n",
    "}"
   ]
  },
  {
   "cell_type": "code",
   "execution_count": null,
   "metadata": {
    "id": "UUikOgRHEGnm"
   },
   "outputs": [],
   "source": [
    "df = pd.read_csv(csv_data_url, low_memory=False, dtype=dtypes)"
   ]
  },
  {
   "cell_type": "markdown",
   "metadata": {
    "id": "BUwLtZONlMLV"
   },
   "source": [
    "Let's take a quick peek at what the data looks like: "
   ]
  },
  {
   "cell_type": "code",
   "execution_count": null,
   "metadata": {
    "colab": {
     "base_uri": "https://localhost:8080/",
     "height": 309
    },
    "id": "a2QzoQnznTPu",
    "outputId": "4bf7c057-1f43-4497-bcd7-721af06bb995"
   },
   "outputs": [
    {
     "data": {
      "text/html": [
       "<div>\n",
       "<style scoped>\n",
       "    .dataframe tbody tr th:only-of-type {\n",
       "        vertical-align: middle;\n",
       "    }\n",
       "\n",
       "    .dataframe tbody tr th {\n",
       "        vertical-align: top;\n",
       "    }\n",
       "\n",
       "    .dataframe thead th {\n",
       "        text-align: right;\n",
       "    }\n",
       "</style>\n",
       "<table border=\"1\" class=\"dataframe\">\n",
       "  <thead>\n",
       "    <tr style=\"text-align: right;\">\n",
       "      <th></th>\n",
       "      <th>BL record ID</th>\n",
       "      <th>Type of resource</th>\n",
       "      <th>Name</th>\n",
       "      <th>Dates associated with name</th>\n",
       "      <th>Type of name</th>\n",
       "      <th>Role</th>\n",
       "      <th>All names</th>\n",
       "      <th>Title</th>\n",
       "      <th>Variant titles</th>\n",
       "      <th>Series title</th>\n",
       "      <th>Number within series</th>\n",
       "      <th>Country of publication</th>\n",
       "      <th>Place of publication</th>\n",
       "      <th>Publisher</th>\n",
       "      <th>Date of publication</th>\n",
       "      <th>Edition</th>\n",
       "      <th>Physical description</th>\n",
       "      <th>Dewey classification</th>\n",
       "      <th>BL shelfmark</th>\n",
       "      <th>Topics</th>\n",
       "      <th>Genre</th>\n",
       "      <th>Languages</th>\n",
       "      <th>Notes</th>\n",
       "      <th>BL record ID for physical resource</th>\n",
       "      <th>classification_id</th>\n",
       "      <th>user_id</th>\n",
       "      <th>created_at</th>\n",
       "      <th>subject_ids</th>\n",
       "      <th>annotator_date_pub</th>\n",
       "      <th>annotator_normalised_date_pub</th>\n",
       "      <th>annotator_edition_statement</th>\n",
       "      <th>annotator_genre</th>\n",
       "      <th>annotator_FAST_genre_terms</th>\n",
       "      <th>annotator_FAST_subject_terms</th>\n",
       "      <th>annotator_comments</th>\n",
       "      <th>annotator_main_language</th>\n",
       "      <th>annotator_other_languages_summaries</th>\n",
       "      <th>annotator_summaries_language</th>\n",
       "      <th>annotator_translation</th>\n",
       "      <th>annotator_original_language</th>\n",
       "      <th>annotator_publisher</th>\n",
       "      <th>annotator_place_pub</th>\n",
       "      <th>annotator_country</th>\n",
       "      <th>annotator_title</th>\n",
       "      <th>Link to digitised book</th>\n",
       "      <th>annotated</th>\n",
       "    </tr>\n",
       "  </thead>\n",
       "  <tbody>\n",
       "    <tr>\n",
       "      <th>0</th>\n",
       "      <td>014602826</td>\n",
       "      <td>Monograph</td>\n",
       "      <td>Yearsley, Ann</td>\n",
       "      <td>1753-1806</td>\n",
       "      <td>person</td>\n",
       "      <td>NaN</td>\n",
       "      <td>More, Hannah, 1745-1833 [person] ; Yearsley, Ann, 1753-1806 [person]</td>\n",
       "      <td>Poems on several occasions [With a prefatory letter by Hannah More.]</td>\n",
       "      <td>NaN</td>\n",
       "      <td>NaN</td>\n",
       "      <td>NaN</td>\n",
       "      <td>England</td>\n",
       "      <td>London</td>\n",
       "      <td>NaN</td>\n",
       "      <td>1786</td>\n",
       "      <td>Fourth edition MANUSCRIPT note</td>\n",
       "      <td>NaN</td>\n",
       "      <td>&lt;NA&gt;</td>\n",
       "      <td>Digital Store 11644.d.32</td>\n",
       "      <td>NaN</td>\n",
       "      <td>NaN</td>\n",
       "      <td>English</td>\n",
       "      <td>NaN</td>\n",
       "      <td>003996603</td>\n",
       "      <td>NaN</td>\n",
       "      <td>NaN</td>\n",
       "      <td>NaN</td>\n",
       "      <td>NaN</td>\n",
       "      <td>NaN</td>\n",
       "      <td>NaN</td>\n",
       "      <td>NaN</td>\n",
       "      <td>NaN</td>\n",
       "      <td>NaN</td>\n",
       "      <td>NaN</td>\n",
       "      <td>NaN</td>\n",
       "      <td>NaN</td>\n",
       "      <td>NaN</td>\n",
       "      <td>&lt;NA&gt;</td>\n",
       "      <td>NaN</td>\n",
       "      <td>NaN</td>\n",
       "      <td>NaN</td>\n",
       "      <td>NaN</td>\n",
       "      <td>NaN</td>\n",
       "      <td>NaN</td>\n",
       "      <td>NaN</td>\n",
       "      <td>False</td>\n",
       "    </tr>\n",
       "  </tbody>\n",
       "</table>\n",
       "</div>"
      ],
      "text/plain": [
       "  BL record ID Type of resource  ... Link to digitised book annotated\n",
       "0    014602826        Monograph  ...                    NaN     False\n",
       "\n",
       "[1 rows x 46 columns]"
      ]
     },
     "execution_count": null,
     "metadata": {},
     "output_type": "execute_result"
    }
   ],
   "source": [
    "df.head(1)"
   ]
  },
  {
   "cell_type": "markdown",
   "metadata": {
    "id": "noStVFEiM2Wl"
   },
   "source": [
    "We can also see what columns we have in our data. "
   ]
  },
  {
   "cell_type": "code",
   "execution_count": null,
   "metadata": {
    "colab": {
     "base_uri": "https://localhost:8080/"
    },
    "id": "YU-MxomtwCiI",
    "outputId": "d4c8219c-fe90-42da-92c6-57729208ac4e"
   },
   "outputs": [
    {
     "data": {
      "text/plain": [
       "Index(['BL record ID', 'Type of resource', 'Name',\n",
       "       'Dates associated with name', 'Type of name', 'Role', 'All names',\n",
       "       'Title', 'Variant titles', 'Series title', 'Number within series',\n",
       "       'Country of publication', 'Place of publication', 'Publisher',\n",
       "       'Date of publication', 'Edition', 'Physical description',\n",
       "       'Dewey classification', 'BL shelfmark', 'Topics', 'Genre', 'Languages',\n",
       "       'Notes', 'BL record ID for physical resource', 'classification_id',\n",
       "       'user_id', 'created_at', 'subject_ids', 'annotator_date_pub',\n",
       "       'annotator_normalised_date_pub', 'annotator_edition_statement',\n",
       "       'annotator_genre', 'annotator_FAST_genre_terms',\n",
       "       'annotator_FAST_subject_terms', 'annotator_comments',\n",
       "       'annotator_main_language', 'annotator_other_languages_summaries',\n",
       "       'annotator_summaries_language', 'annotator_translation',\n",
       "       'annotator_original_language', 'annotator_publisher',\n",
       "       'annotator_place_pub', 'annotator_country', 'annotator_title',\n",
       "       'Link to digitised book', 'annotated'],\n",
       "      dtype='object')"
      ]
     },
     "execution_count": null,
     "metadata": {},
     "output_type": "execute_result"
    }
   ],
   "source": [
    "df.columns"
   ]
  },
  {
   "cell_type": "markdown",
   "metadata": {
    "id": "h5EZLi5gqnY4"
   },
   "source": [
    "We can see a field `annotated` this indicates whether the columns has been annotated. Since we want only annotated data to start with lets filter on this. "
   ]
  },
  {
   "cell_type": "code",
   "execution_count": null,
   "metadata": {
    "id": "MATLlwmEqmb2"
   },
   "outputs": [],
   "source": [
    "df = df[df[\"annotated\"] == True]"
   ]
  },
  {
   "cell_type": "markdown",
   "metadata": {
    "id": "8_cTzJD9Mui8"
   },
   "source": [
    "Let's also look at a few of the columns to look at what kind of text is stored there. We're likely to use the title as input for our genre classification model"
   ]
  },
  {
   "cell_type": "markdown",
   "metadata": {
    "id": "WjBHYWam6upQ"
   },
   "source": [
    "### Genre labels \n",
    "Since we're going to try and detect genre lets take a quick look at what are labels look like. \n"
   ]
  },
  {
   "cell_type": "code",
   "execution_count": null,
   "metadata": {
    "colab": {
     "base_uri": "https://localhost:8080/"
    },
    "id": "rZQqQNzLM_or",
    "outputId": "d1c617a1-cab8-4f3a-f15d-84f8d46fd4a8"
   },
   "outputs": [
    {
     "data": {
      "text/plain": [
       "Non-fiction                                       2847\n",
       "Fiction                                           1527\n",
       "The book contains both Fiction and Non-Fiction      18\n",
       "Can't tell                                           6\n",
       "Name: annotator_genre, dtype: int64"
      ]
     },
     "execution_count": null,
     "metadata": {},
     "output_type": "execute_result"
    }
   ],
   "source": [
    "df.annotator_genre.value_counts()"
   ]
  },
  {
   "cell_type": "markdown",
   "metadata": {
    "id": "kabGPhpRjocK"
   },
   "source": [
    "We have a few classes of genre that we'll drop for now. We can do this the lazy way by dropping any valyes for genre which don't appear at least a hundred times. "
   ]
  },
  {
   "cell_type": "code",
   "execution_count": null,
   "metadata": {
    "id": "khBm5rdfE5MT"
   },
   "outputs": [],
   "source": [
    "df = df[df.groupby(\"annotator_genre\")[\"annotator_genre\"].transform(\"count\").ge(100)]"
   ]
  },
  {
   "cell_type": "markdown",
   "metadata": {
    "id": "9xF8zDIVj21Q"
   },
   "source": [
    "We can now get a sense of the distribution of our labels"
   ]
  },
  {
   "cell_type": "code",
   "execution_count": null,
   "metadata": {
    "colab": {
     "base_uri": "https://localhost:8080/"
    },
    "id": "irZi9v2TFIpY",
    "outputId": "cbadc3c7-85d1-4189-a062-731b5af115c6"
   },
   "outputs": [
    {
     "data": {
      "text/plain": [
       "Non-fiction    0.650892\n",
       "Fiction        0.349108\n",
       "Name: annotator_genre, dtype: float64"
      ]
     },
     "execution_count": null,
     "metadata": {},
     "output_type": "execute_result"
    }
   ],
   "source": [
    "df[\"annotator_genre\"].value_counts(normalize=True)"
   ]
  },
  {
   "cell_type": "markdown",
   "metadata": {
    "id": "WEH1wyLQunCS"
   },
   "source": [
    "We can see our data isn't balanced. We have many more examples of non-fiction compared to fiction. "
   ]
  },
  {
   "cell_type": "markdown",
   "metadata": {
    "id": "PanaHL7okVbQ"
   },
   "source": [
    "## Train, validation and test splits \n",
    "\n",
    "For a supervised learning tasks like the one we're doing here we need to make sure we have a validation set. This allows us to check that our model is learning general properties that help with a particular task rather than memorizing the training data. Creating a validation dataset is one way of doing this. \n",
    "\n",
    "We could split our data in a variety of different ways. The first, and often satisfactory approach is to randomly split the data. We take 30% of our data for validation and use the rest for training. \n",
    "\n",
    "> Depending on the nature of your data, choosing a validation set can be the most important step {cite}`thomasHowWhyCreate`\n",
    "\n",
    "One reason random spits might not always work is that we can introduce data leakage across validation and training data. A common example of this is time series data. If the task involves predicting a future event you want to make sure you split your data by a time point. In this example we could split on a number of different things in the data; the language of the text, the date of publication, the place of publication etc. \n"
   ]
  },
  {
   "cell_type": "markdown",
   "metadata": {
    "id": "GHERDGyHLic8"
   },
   "source": [
    "### Data leakage 💦\n",
    "\n",
    "As we have seen data leakage occurs when a model 'sees' data it shouldn't. In our case there are various things we want to watch out for as a form of data leakage. We can try and be very 'clever' about idenfiying potential soruces of data leakage but one of the main things we want to watch out for is that we don't duplicate a piece of data in training and validation sets. Since our model is supposed to predict from titles let's see if any of these appear more than once. "
   ]
  },
  {
   "cell_type": "code",
   "execution_count": null,
   "metadata": {
    "colab": {
     "base_uri": "https://localhost:8080/"
    },
    "id": "Sf3oH8TczIOu",
    "outputId": "56d553f0-04b0-4977-ec91-9201808d4ebb"
   },
   "outputs": [
    {
     "data": {
      "text/plain": [
       "1     789\n",
       "3     351\n",
       "5     346\n",
       "4     135\n",
       "2     111\n",
       "15      1\n",
       "10      1\n",
       "9       1\n",
       "6       1\n",
       "Name: Title, dtype: int64"
      ]
     },
     "execution_count": null,
     "metadata": {},
     "output_type": "execute_result"
    }
   ],
   "source": [
    "df[\"Title\"].value_counts().value_counts()"
   ]
  },
  {
   "cell_type": "markdown",
   "metadata": {
    "id": "CrZdyF9Bhsfj"
   },
   "source": [
    "We can see here that most of the titles only appear one time. This is probably what we'd expect but if we know a bit about this data, or 19th century publishing practices, digitiation processes etc we might have been suspicous to this possibility of titles appearing multiple times. For example the British Library probably has more than [one copy of Oliver Twist](http://explore.bl.uk/primo_library/libweb/action/search.do?cs=frb&ct=frb&frbg=436868648&fctN=facet_frbrgroupid&fctV=436868648&doc=BLL01016286578&lastPag=&lastPagIndx=1&rfnGrp=frbr&frbrSrt=rank&frbrRecordsSource=Primo+Local&frbrJtitleDisplay=&frbrIssnDisplay=&frbrEissnDisplay=&frbrSourceidDisplay=BLL01&rfnGrpCounter=1&query=any%2Ccontains%2Coliver%20twist&fn=search&indx=1&search_scope=LSCOP-ALL&dscnt=0&vl(2084770704UI0)=any&scp.scps=scope%3A(BLCONTENT)&fctV=books&vid=BLVU1&institution=BL&ct=facet&rfnGrp=1&tab=local_tab&fctN=facet_rtype&fromDL=&vl(freeText0)=oliver%20twist&dstmp=1627396213982). Although many of these editions will have slightly different titles some will overlap. \n",
    "\n",
    "If we don't take this into account and randomly split out data into training and validation sets our model might get to 'cheat' since 'Oliver Twist' might appear as an example in the training data, and in the validation data. If our model has already 'seen' that 'Oliver Twist' is fiction we might be less sure that it has 'learned' anything more general about genre. Instead it may have memorized some of the examples. If this is the case our model might perform better on the validation data then it would otherwise. This might in turn mean we have disappointing results when we apply our model to new unseen data. "
   ]
  },
  {
   "cell_type": "markdown",
   "metadata": {
    "id": "pOD-BcNuhsfj"
   },
   "source": [
    "### GroupShuffleSplit \n",
    "\n",
    "How can we split our data into training and validation data taking into account this potential leakage of titles between our training and validation data? Helpfully the [sci-kit learn](scikit-learn.org/) library has support for various types of data splitting. In this case we'll use `GroupShuffleSplit` which allows us to specify a groups to split on. This means members of those groups won't appear both in both splits. We can use this to make sure non of the titles 'leak' across our training and validation data. "
   ]
  },
  {
   "cell_type": "code",
   "execution_count": null,
   "metadata": {
    "id": "5wr0H0zpov4j"
   },
   "outputs": [],
   "source": [
    "from sklearn.model_selection import GroupShuffleSplit"
   ]
  },
  {
   "cell_type": "code",
   "execution_count": null,
   "metadata": {
    "id": "K86AIFPch190"
   },
   "outputs": [],
   "source": [
    "train_inds, valid_ins = next(\n",
    "    GroupShuffleSplit(n_splits=2, test_size=0.25).split(df, groups=df[\"Title\"])\n",
    ")"
   ]
  },
  {
   "cell_type": "code",
   "execution_count": null,
   "metadata": {
    "id": "A4_blEUKiEVf"
   },
   "outputs": [],
   "source": [
    "df_train, df_valid = df.iloc[train_inds].copy(), df.iloc[valid_ins].copy()"
   ]
  },
  {
   "cell_type": "code",
   "execution_count": null,
   "metadata": {
    "colab": {
     "base_uri": "https://localhost:8080/"
    },
    "id": "YiY40lmCv0Br",
    "outputId": "540a85da-8fcc-4b17-d12c-9bc9b9622008"
   },
   "outputs": [
    {
     "data": {
      "text/plain": [
       "(3297, 1077)"
      ]
     },
     "execution_count": null,
     "metadata": {},
     "output_type": "execute_result"
    }
   ],
   "source": [
    "len(df_train), len(df_valid)"
   ]
  },
  {
   "cell_type": "code",
   "execution_count": null,
   "metadata": {
    "colab": {
     "base_uri": "https://localhost:8080/"
    },
    "id": "ocAwaxGMyqGF",
    "outputId": "b8ab7675-6145-45f9-8839-7c9b5b760577"
   },
   "outputs": [
    {
     "data": {
      "text/plain": [
       "Non-fiction    2149\n",
       "Fiction        1148\n",
       "Name: annotator_genre, dtype: int64"
      ]
     },
     "execution_count": null,
     "metadata": {},
     "output_type": "execute_result"
    }
   ],
   "source": [
    "df_train.annotator_genre.value_counts()"
   ]
  },
  {
   "cell_type": "code",
   "execution_count": null,
   "metadata": {
    "colab": {
     "base_uri": "https://localhost:8080/"
    },
    "id": "OmMdsOvMyzTk",
    "outputId": "48a019ef-21c0-4808-ce02-28536cbd038a"
   },
   "outputs": [
    {
     "data": {
      "text/plain": [
       "Non-fiction    0.648097\n",
       "Fiction        0.351903\n",
       "Name: annotator_genre, dtype: float64"
      ]
     },
     "execution_count": null,
     "metadata": {},
     "output_type": "execute_result"
    }
   ],
   "source": [
    "df_valid.annotator_genre.value_counts(normalize=True)"
   ]
  },
  {
   "cell_type": "markdown",
   "metadata": {
    "id": "EEnW92L_hsfl"
   },
   "source": [
    "We can check if any of our titles still overlap"
   ]
  },
  {
   "cell_type": "code",
   "execution_count": null,
   "metadata": {
    "colab": {
     "base_uri": "https://localhost:8080/"
    },
    "id": "MuPdcfeSVLoa",
    "outputId": "1f8da8b6-f244-4b66-dc8d-2dfd2f2250ac"
   },
   "outputs": [
    {
     "data": {
      "text/plain": [
       "array([], dtype=object)"
      ]
     },
     "execution_count": null,
     "metadata": {},
     "output_type": "execute_result"
    }
   ],
   "source": [
    "import numpy as np\n",
    "\n",
    "np.intersect1d(df_train.Title.to_numpy(), df_valid.Title.to_numpy())"
   ]
  },
  {
   "cell_type": "markdown",
   "metadata": {
    "id": "oWsuNo2lhsfm"
   },
   "source": [
    "As we can see we now have no titles that appear in both out training and validation data. We can shove our datafames into a new DataFrame and use a `is_valid` column to indicate which part of the data it belongs too. "
   ]
  },
  {
   "cell_type": "code",
   "execution_count": null,
   "metadata": {
    "id": "7e9GCgXEsKa7"
   },
   "outputs": [],
   "source": [
    "df_train[\"is_valid\"] = False\n",
    "df_valid[\"is_valid\"] = True"
   ]
  },
  {
   "cell_type": "code",
   "execution_count": null,
   "metadata": {
    "id": "fRMvfCYKsRrg"
   },
   "outputs": [],
   "source": [
    "df = pd.concat([df_train, df_valid])"
   ]
  },
  {
   "cell_type": "code",
   "execution_count": null,
   "metadata": {
    "colab": {
     "base_uri": "https://localhost:8080/"
    },
    "id": "77uXhG48tYWi",
    "outputId": "86856445-a677-4ee9-f138-3df9dd1b6b83"
   },
   "outputs": [
    {
     "data": {
      "text/plain": [
       "Non-fiction    0.650892\n",
       "Fiction        0.349108\n",
       "Name: annotator_genre, dtype: float64"
      ]
     },
     "execution_count": null,
     "metadata": {},
     "output_type": "execute_result"
    }
   ],
   "source": [
    "df.annotator_genre.value_counts(normalize=True)"
   ]
  },
  {
   "cell_type": "markdown",
   "metadata": {
    "id": "w7PtF1hHhsfn"
   },
   "source": [
    "We'll save this for later use as a csv file. "
   ]
  },
  {
   "cell_type": "code",
   "execution_count": null,
   "metadata": {
    "id": "T0VRspEZLic_"
   },
   "outputs": [],
   "source": [
    "df.to_csv(\"train_valid.csv\", index=False)"
   ]
  },
  {
   "cell_type": "markdown",
   "metadata": {
    "id": "GWTfirB2Lic_"
   },
   "source": [
    "## What about our test data?\n",
    "\n",
    "You might be wondering why we didn't also create any test data. As part of the process of creating these notebooks/doing this genre prediction work, we created some new test data. This was generated by randomly sampling from the BL books metadata. This was done so we could be sure that the distribution of our test data matched the data we would be running our model against. \n",
    "\n",
    "We will work with this test data in the subsequent notebook/chapter and dig into some of the issues around test data in more detail there. Now we have our data ready we'll move to the training part of the process."
   ]
  },
  {
   "cell_type": "markdown",
   "metadata": {
    "id": "MoJ75jeVhsfn",
    "tags": []
   },
   "source": [
    "# One simple trick: the ✨magic✨ of transfer learning \n",
    "\n",
    "Arguably one of the most important developments in deep learning over the past decade has been the adoption of transfer learning. Transfer learning has allowed for deep learning approaches to be deployed to much smaller datasets with a reduced compute requirement. This opens up the potential of developing and applying deep learning to a much broader range of tasks. \n",
    "\n",
    "## What is transfer learning?\n",
    "\n",
    "Transfer learning is the process by which we apply a model which has been trained on one task on a new task. The intuition is that the model will have a 'head start' on the new task compared to starting from scratch. Often the pre-training task has much more data than we might have available. We can still take advantage of this by fine-tuning our model on our specific task. As an example we might have a model trained to predict the sentiment of movie reviews. We could potentially fine-tune this model on a smaller dataset of book reviews with sentiment labels. Although there will be differences in the language used, we would probably find a model trained on sentiment analysis on movies will still do better than starting from scratch with a new model. \n",
    "\n",
    "In our example we will utilize a particular type of pre-trained model as the starting point; a language model. "
   ]
  },
  {
   "cell_type": "markdown",
   "metadata": {
    "id": "16CpG0akqEyt"
   },
   "source": [
    "## 🔧 Fine tuning a language model on book titles 🔧"
   ]
  },
  {
   "cell_type": "markdown",
   "metadata": {
    "id": "DGs7KzWNrtqI"
   },
   "source": [
    "A language model can be used as a starting point for many tasks. Language models are models which, in broad terms, learn the probabilities of word occurrence. There are various ways in which language models can be trained but increasingly they are trained in an unsupervised manner i.e. they are trained from unlabeled data. A example of a task a language model be given is to predict the next work in a sentence for example:\n",
    "\n",
    "the cat sat on the ____ \n",
    "\n",
    "As a model gets better at performing this task it develops a representation of language which can be useful for other downstream tasks. \n",
    "\n",
    "For our starting point we will follow the 'ULMFIT' (Universal Language Model Fine Tuning) approach."
   ]
  },
  {
   "cell_type": "markdown",
   "metadata": {},
   "source": [
    "```{image} https://www.novetta.com/wp-content/uploads/2019/02/ODSC-Blog.png\n",
    ":alt: aIllustration of the ulmfit approach\n",
    ":class: bg-primary mb-1\n",
    ":width: 500px\n",
    ":align: center\n",
    "```"
   ]
  },
  {
   "cell_type": "markdown",
   "metadata": {},
   "source": [
    "As we can see from the illustration we'll start with a language model which has been trained on a general language modeling task, in this case on English Wikipedia articles. We'll then 'fine-tune' this model on all of our title data (our target domain). Through this process our language model should get better at 'understanding' what the book titles in our corpus looks like. In a later stage we will then use our fine tuned language model to create a classifier. "
   ]
  },
  {
   "cell_type": "markdown",
   "metadata": {
    "id": "AvrnaXY_hsfp"
   },
   "source": [
    "We can use all of our data for language modeling so we create a new DataFrame which contains all of the metadata: "
   ]
  },
  {
   "cell_type": "code",
   "execution_count": null,
   "metadata": {
    "id": "HAVzg2NuF-rP"
   },
   "outputs": [],
   "source": [
    "df_lang = pd.read_csv(csv_data_url, low_memory=False, dtype=dtypes)"
   ]
  },
  {
   "cell_type": "markdown",
   "metadata": {
    "id": "UdxXXHnghsfq"
   },
   "source": [
    "We can take a look at what is included in this dataset:"
   ]
  },
  {
   "cell_type": "code",
   "execution_count": null,
   "metadata": {
    "colab": {
     "base_uri": "https://localhost:8080/",
     "height": 309
    },
    "id": "rWB0Ba1-F-pA",
    "outputId": "636941d9-d7dc-44ee-f57c-a7d5a915c941"
   },
   "outputs": [
    {
     "data": {
      "text/html": [
       "<div>\n",
       "<style scoped>\n",
       "    .dataframe tbody tr th:only-of-type {\n",
       "        vertical-align: middle;\n",
       "    }\n",
       "\n",
       "    .dataframe tbody tr th {\n",
       "        vertical-align: top;\n",
       "    }\n",
       "\n",
       "    .dataframe thead th {\n",
       "        text-align: right;\n",
       "    }\n",
       "</style>\n",
       "<table border=\"1\" class=\"dataframe\">\n",
       "  <thead>\n",
       "    <tr style=\"text-align: right;\">\n",
       "      <th></th>\n",
       "      <th>BL record ID</th>\n",
       "      <th>Type of resource</th>\n",
       "      <th>Name</th>\n",
       "      <th>Dates associated with name</th>\n",
       "      <th>Type of name</th>\n",
       "      <th>Role</th>\n",
       "      <th>All names</th>\n",
       "      <th>Title</th>\n",
       "      <th>Variant titles</th>\n",
       "      <th>Series title</th>\n",
       "      <th>Number within series</th>\n",
       "      <th>Country of publication</th>\n",
       "      <th>Place of publication</th>\n",
       "      <th>Publisher</th>\n",
       "      <th>Date of publication</th>\n",
       "      <th>Edition</th>\n",
       "      <th>Physical description</th>\n",
       "      <th>Dewey classification</th>\n",
       "      <th>BL shelfmark</th>\n",
       "      <th>Topics</th>\n",
       "      <th>Genre</th>\n",
       "      <th>Languages</th>\n",
       "      <th>Notes</th>\n",
       "      <th>BL record ID for physical resource</th>\n",
       "      <th>classification_id</th>\n",
       "      <th>user_id</th>\n",
       "      <th>created_at</th>\n",
       "      <th>subject_ids</th>\n",
       "      <th>annotator_date_pub</th>\n",
       "      <th>annotator_normalised_date_pub</th>\n",
       "      <th>annotator_edition_statement</th>\n",
       "      <th>annotator_genre</th>\n",
       "      <th>annotator_FAST_genre_terms</th>\n",
       "      <th>annotator_FAST_subject_terms</th>\n",
       "      <th>annotator_comments</th>\n",
       "      <th>annotator_main_language</th>\n",
       "      <th>annotator_other_languages_summaries</th>\n",
       "      <th>annotator_summaries_language</th>\n",
       "      <th>annotator_translation</th>\n",
       "      <th>annotator_original_language</th>\n",
       "      <th>annotator_publisher</th>\n",
       "      <th>annotator_place_pub</th>\n",
       "      <th>annotator_country</th>\n",
       "      <th>annotator_title</th>\n",
       "      <th>Link to digitised book</th>\n",
       "      <th>annotated</th>\n",
       "    </tr>\n",
       "  </thead>\n",
       "  <tbody>\n",
       "    <tr>\n",
       "      <th>0</th>\n",
       "      <td>014602826</td>\n",
       "      <td>Monograph</td>\n",
       "      <td>Yearsley, Ann</td>\n",
       "      <td>1753-1806</td>\n",
       "      <td>person</td>\n",
       "      <td>NaN</td>\n",
       "      <td>More, Hannah, 1745-1833 [person] ; Yearsley, Ann, 1753-1806 [person]</td>\n",
       "      <td>Poems on several occasions [With a prefatory letter by Hannah More.]</td>\n",
       "      <td>NaN</td>\n",
       "      <td>NaN</td>\n",
       "      <td>NaN</td>\n",
       "      <td>England</td>\n",
       "      <td>London</td>\n",
       "      <td>NaN</td>\n",
       "      <td>1786</td>\n",
       "      <td>Fourth edition MANUSCRIPT note</td>\n",
       "      <td>NaN</td>\n",
       "      <td>&lt;NA&gt;</td>\n",
       "      <td>Digital Store 11644.d.32</td>\n",
       "      <td>NaN</td>\n",
       "      <td>NaN</td>\n",
       "      <td>English</td>\n",
       "      <td>NaN</td>\n",
       "      <td>003996603</td>\n",
       "      <td>NaN</td>\n",
       "      <td>NaN</td>\n",
       "      <td>NaN</td>\n",
       "      <td>NaN</td>\n",
       "      <td>NaN</td>\n",
       "      <td>NaN</td>\n",
       "      <td>NaN</td>\n",
       "      <td>NaN</td>\n",
       "      <td>NaN</td>\n",
       "      <td>NaN</td>\n",
       "      <td>NaN</td>\n",
       "      <td>NaN</td>\n",
       "      <td>NaN</td>\n",
       "      <td>&lt;NA&gt;</td>\n",
       "      <td>NaN</td>\n",
       "      <td>NaN</td>\n",
       "      <td>NaN</td>\n",
       "      <td>NaN</td>\n",
       "      <td>NaN</td>\n",
       "      <td>NaN</td>\n",
       "      <td>NaN</td>\n",
       "      <td>False</td>\n",
       "    </tr>\n",
       "  </tbody>\n",
       "</table>\n",
       "</div>"
      ],
      "text/plain": [
       "  BL record ID Type of resource  ... Link to digitised book annotated\n",
       "0    014602826        Monograph  ...                    NaN     False\n",
       "\n",
       "[1 rows x 46 columns]"
      ]
     },
     "execution_count": null,
     "metadata": {},
     "output_type": "execute_result"
    }
   ],
   "source": [
    "df_lang.head(1)"
   ]
  },
  {
   "cell_type": "markdown",
   "metadata": {
    "id": "DcRvFxlnhsfq"
   },
   "source": [
    "look at a few example titles"
   ]
  },
  {
   "cell_type": "code",
   "execution_count": null,
   "metadata": {
    "colab": {
     "base_uri": "https://localhost:8080/"
    },
    "id": "sFmthbgMhsfq",
    "outputId": "1d8ee965-9ef3-4c5b-c00e-6f4f34619029"
   },
   "outputs": [
    {
     "data": {
      "text/plain": [
       "0                                                                     Poems on several occasions [With a prefatory letter by Hannah More.]\n",
       "1                     A Satyr against Vertue. (A poem: supposed to be spoken by a Town-Hector [By John Oldham. The preface signed: T. A.])\n",
       "2    The Aeronaut, a poem; founded almost entirely, upon a statement, printed in the newspapers, of a voyage from Dublin, in October, 1812\n",
       "3                                                                                          The Prince Albert, a poem [By Joseph Plimsoll.]\n",
       "Name: Title, dtype: object"
      ]
     },
     "execution_count": null,
     "metadata": {},
     "output_type": "execute_result"
    }
   ],
   "source": [
    "df_lang[\"Title\"][:4]"
   ]
  },
  {
   "cell_type": "markdown",
   "metadata": {
    "id": "QTNviDb8T5hl"
   },
   "source": [
    "Since we only care about the `Title` column we'll take a subset of the DataFrame with only the `Title`. We include `BL Record ID` to keep our data as a DataFrame rather than a pandas Series. We do this because fastai is expecting a DataFrame for loading our data. "
   ]
  },
  {
   "cell_type": "code",
   "execution_count": null,
   "metadata": {
    "id": "8dNCYWUSTLBi"
   },
   "outputs": [],
   "source": [
    "df_lang = df_lang[[\"Title\", \"BL record ID\"]].copy(deep=True)"
   ]
  },
  {
   "cell_type": "markdown",
   "metadata": {
    "id": "kmCSnw2Br5Jz"
   },
   "source": [
    "# Loading data into fastai "
   ]
  },
  {
   "cell_type": "markdown",
   "metadata": {
    "id": "DtZkVCI-FxKp"
   },
   "source": [
    "We can now load our data into fastai. Note you might need to drop the batch size if you get a CUDA memory error. "
   ]
  },
  {
   "cell_type": "markdown",
   "metadata": {
    "id": "ZmcxiwywHzSU"
   },
   "source": [
    "We create a dataloaders for language model data. This uses the full metadata for all the books we will eventually classify. Since we can train these in an unsupervised way we can make use of all of the data here. We can create forward and backwards language models. The backwards language model will do the same as the forwards language model but instead of predicting the next word, in a sentence it will be trained to predict the previous one. In this example we'll just train the forward language model but we can often get good results by combining a forward and backwards model.  "
   ]
  },
  {
   "cell_type": "code",
   "execution_count": null,
   "metadata": {
    "id": "avkEDuqwUX77"
   },
   "outputs": [],
   "source": [
    "bs = 256"
   ]
  },
  {
   "cell_type": "code",
   "execution_count": null,
   "metadata": {
    "colab": {
     "base_uri": "https://localhost:8080/",
     "height": 74
    },
    "id": "TRw_2lDbiAwY",
    "outputId": "91c77ec8-98c9-4a9c-fc1f-2a87ea1a7f38"
   },
   "outputs": [
    {
     "data": {
      "text/html": [],
      "text/plain": [
       "<IPython.core.display.HTML object>"
      ]
     },
     "metadata": {},
     "output_type": "display_data"
    },
    {
     "name": "stderr",
     "output_type": "stream",
     "text": [
      "/usr/local/lib/python3.7/dist-packages/numpy/core/_asarray.py:83: VisibleDeprecationWarning: Creating an ndarray from ragged nested sequences (which is a list-or-tuple of lists-or-tuples-or ndarrays with different lengths or shapes) is deprecated. If you meant to do this, you must specify 'dtype=object' when creating the ndarray\n",
      "  return array(a, dtype, copy=False, order=order)\n"
     ]
    }
   ],
   "source": [
    "data_lm = TextDataLoaders.from_df(\n",
    "    df_lang, text_col=\"Title\", valid_pct=0.2, bs=bs, is_lm=True\n",
    ")"
   ]
  },
  {
   "cell_type": "markdown",
   "metadata": {
    "id": "XRMqPAIjhsfs"
   },
   "source": [
    "We can take a look at our data using the `show_batch` method. We can see that the second column `text_` is the same as the first column except the words are shifted along. "
   ]
  },
  {
   "cell_type": "code",
   "execution_count": null,
   "metadata": {
    "colab": {
     "base_uri": "https://localhost:8080/",
     "height": 922
    },
    "id": "HniLqnXmZJAh",
    "outputId": "83b85ae5-3b9c-4941-8c3b-38e3e1dbf7b1"
   },
   "outputs": [
    {
     "data": {
      "text/html": [
       "<table border=\"1\" class=\"dataframe\">\n",
       "  <thead>\n",
       "    <tr style=\"text-align: right;\">\n",
       "      <th></th>\n",
       "      <th>text</th>\n",
       "      <th>text_</th>\n",
       "    </tr>\n",
       "  </thead>\n",
       "  <tbody>\n",
       "    <tr>\n",
       "      <th>0</th>\n",
       "      <td>xxbos a xxmaj guide to xxmaj hampstead . xxmaj new and revised edition , etc xxbos xxmaj xxunk politicos ou historia dos xxunk xxunk politicos da provincia do xxmaj pará desde o anno de 1821 xxunk ' 1835 … xxmaj xxunk parte xxbos xxmaj hills and xxmaj plains : a very old story xxbos xxmaj histoire du comté de xxmaj dunois , de ses comtes et de sa capitale . xxmaj par</td>\n",
       "      <td>a xxmaj guide to xxmaj hampstead . xxmaj new and revised edition , etc xxbos xxmaj xxunk politicos ou historia dos xxunk xxunk politicos da provincia do xxmaj pará desde o anno de 1821 xxunk ' 1835 … xxmaj xxunk parte xxbos xxmaj hills and xxmaj plains : a very old story xxbos xxmaj histoire du comté de xxmaj dunois , de ses comtes et de sa capitale . xxmaj par xxup</td>\n",
       "    </tr>\n",
       "    <tr>\n",
       "      <th>1</th>\n",
       "      <td>the xxunk highwayman . xxmaj by the author of ' dick xxmaj clinton , ' ' ned xxmaj scarlet , ' etc xxbos xxmaj the xxmaj xxunk of the xxmaj shield ; or , the xxmaj adventures of xxmaj grenville xxmaj le xxmaj marchant during the franco - prussian xxmaj war … xxmaj with illustrations , etc xxbos xxmaj yorkshire in xxmaj olden xxmaj times . xxmaj edited by xxup w. xxmaj</td>\n",
       "      <td>xxunk highwayman . xxmaj by the author of ' dick xxmaj clinton , ' ' ned xxmaj scarlet , ' etc xxbos xxmaj the xxmaj xxunk of the xxmaj shield ; or , the xxmaj adventures of xxmaj grenville xxmaj le xxmaj marchant during the franco - prussian xxmaj war … xxmaj with illustrations , etc xxbos xxmaj yorkshire in xxmaj olden xxmaj times . xxmaj edited by xxup w. xxmaj andrews</td>\n",
       "    </tr>\n",
       "    <tr>\n",
       "      <th>2</th>\n",
       "      <td>xxunk . ' xxbos xxmaj prisoners of the xxmaj tower of xxmaj london . xxmaj being an account of some who at divers times lay captive within its walls … xxmaj with … illustrations xxbos xxmaj aegypten . xxmaj forschungen über xxmaj land und xxmaj volk während eines xxunk xxmaj aufenthalts , etc xxbos xxunk сборникъ , издаваемый xxunk xxunk xxunk xxunk подъ редакціею … а . с . xxunk . том</td>\n",
       "      <td>. ' xxbos xxmaj prisoners of the xxmaj tower of xxmaj london . xxmaj being an account of some who at divers times lay captive within its walls … xxmaj with … illustrations xxbos xxmaj aegypten . xxmaj forschungen über xxmaj land und xxmaj volk während eines xxunk xxmaj aufenthalts , etc xxbos xxunk сборникъ , издаваемый xxunk xxunk xxunk xxunk подъ редакціею … а . с . xxunk . том 1</td>\n",
       "    </tr>\n",
       "    <tr>\n",
       "      <th>3</th>\n",
       "      <td>] xxbos xxmaj life 's xxmaj xxunk and other poems xxbos xxmaj notes on the xxmaj geology of the xxmaj hull , xxmaj barnsley , &amp; xxmaj west xxmaj riding xxmaj junction xxmaj railway and xxmaj dock xxbos xxmaj the xxmaj castle of xxmaj vincigliata [ with illustrations . ] xxbos xxmaj the xxmaj wives revenged ; a comic opera , in one act , etc [ based on ' les xxmaj</td>\n",
       "      <td>xxbos xxmaj life 's xxmaj xxunk and other poems xxbos xxmaj notes on the xxmaj geology of the xxmaj hull , xxmaj barnsley , &amp; xxmaj west xxmaj riding xxmaj junction xxmaj railway and xxmaj dock xxbos xxmaj the xxmaj castle of xxmaj vincigliata [ with illustrations . ] xxbos xxmaj the xxmaj wives revenged ; a comic opera , in one act , etc [ based on ' les xxmaj femmes</td>\n",
       "    </tr>\n",
       "    <tr>\n",
       "      <th>4</th>\n",
       "      <td>] xxbos xxmaj xxunk . a poem xxbos xxmaj history of xxmaj xxunk , xxmaj xxunk , and xxmaj south xxmaj xxunk , xxmaj maine , from their first exploration , xxup a.d . 1605 ; with family genealogies , etc xxbos xxmaj ulysses , or scenes and studies in many lands xxbos xxmaj history of xxmaj scott xxmaj county , xxmaj iowa . xxmaj with … biographies of representative citizens .</td>\n",
       "      <td>xxbos xxmaj xxunk . a poem xxbos xxmaj history of xxmaj xxunk , xxmaj xxunk , and xxmaj south xxmaj xxunk , xxmaj maine , from their first exploration , xxup a.d . 1605 ; with family genealogies , etc xxbos xxmaj ulysses , or scenes and studies in many lands xxbos xxmaj history of xxmaj scott xxmaj county , xxmaj iowa . xxmaj with … biographies of representative citizens . xxmaj</td>\n",
       "    </tr>\n",
       "    <tr>\n",
       "      <th>5</th>\n",
       "      <td>tragedy of xxmaj ida xxmaj noble , etc [ a novel . ] xxbos xxmaj clark 's xxmaj guide and xxmaj history of xxmaj rye , to which is added its political history , interspersed with many pleasing &amp; interesting incidents xxbos xxmaj travels in xxmaj various xxmaj countries of xxmaj europe , xxmaj asia and xxmaj africa . ( pt . 1 . xxmaj russia , xxmaj tartary and xxmaj turkey.-pt</td>\n",
       "      <td>of xxmaj ida xxmaj noble , etc [ a novel . ] xxbos xxmaj clark 's xxmaj guide and xxmaj history of xxmaj rye , to which is added its political history , interspersed with many pleasing &amp; interesting incidents xxbos xxmaj travels in xxmaj various xxmaj countries of xxmaj europe , xxmaj asia and xxmaj africa . ( pt . 1 . xxmaj russia , xxmaj tartary and xxmaj turkey.-pt .</td>\n",
       "    </tr>\n",
       "    <tr>\n",
       "      <th>6</th>\n",
       "      <td>xxmaj life in xxmaj colonial xxmaj days . … xxmaj illustrated , etc xxbos ( j. xxup p. ) a xxmaj prince of xxmaj tyrone [ a tale . ] xxbos xxmaj drawn xxmaj blank . a novel xxbos xxmaj w. 's parochial directory for the counties of xxmaj fife and xxmaj xxunk , containing the names and addresses of gentry , and of persons in business , etc xxbos xxmaj the</td>\n",
       "      <td>life in xxmaj colonial xxmaj days . … xxmaj illustrated , etc xxbos ( j. xxup p. ) a xxmaj prince of xxmaj tyrone [ a tale . ] xxbos xxmaj drawn xxmaj blank . a novel xxbos xxmaj w. 's parochial directory for the counties of xxmaj fife and xxmaj xxunk , containing the names and addresses of gentry , and of persons in business , etc xxbos xxmaj the xxmaj</td>\n",
       "    </tr>\n",
       "    <tr>\n",
       "      <th>7</th>\n",
       "      <td>brave [ and other poems ] xxbos xxmaj selected xxmaj writings of xxmaj william xxmaj sharp . xxmaj uniform edition . xxmaj arranged by xxmaj mrs . xxmaj william xxmaj sharp . xxrep 3 i . xxmaj papers xxmaj critical &amp; xxmaj xxunk . pp . vii . xxunk xxbos xxmaj in xxmaj northern xxmaj spain … xxmaj with map and eighty - nine illustrations xxbos xxmaj les îles de xxmaj xxunk</td>\n",
       "      <td>[ and other poems ] xxbos xxmaj selected xxmaj writings of xxmaj william xxmaj sharp . xxmaj uniform edition . xxmaj arranged by xxmaj mrs . xxmaj william xxmaj sharp . xxrep 3 i . xxmaj papers xxmaj critical &amp; xxmaj xxunk . pp . vii . xxunk xxbos xxmaj in xxmaj northern xxmaj spain … xxmaj with map and eighty - nine illustrations xxbos xxmaj les îles de xxmaj xxunk ,</td>\n",
       "    </tr>\n",
       "    <tr>\n",
       "      <th>8</th>\n",
       "      <td>de xxmaj xxunk , suivie d'une notice sur les diverses communes du canton xxbos xxmaj the xxmaj xxunk d'afrique , and other tales [ or rather one other tale only , ' the xxmaj brig and the xxmaj xxunk ' ] xxbos xxmaj observations in the xxmaj east , chiefly in xxmaj egypt , xxmaj palestine , xxmaj syria , and xxmaj asia xxmaj minor xxbos xxmaj husband and xxmaj wife .</td>\n",
       "      <td>xxmaj xxunk , suivie d'une notice sur les diverses communes du canton xxbos xxmaj the xxmaj xxunk d'afrique , and other tales [ or rather one other tale only , ' the xxmaj brig and the xxmaj xxunk ' ] xxbos xxmaj observations in the xxmaj east , chiefly in xxmaj egypt , xxmaj palestine , xxmaj syria , and xxmaj asia xxmaj minor xxbos xxmaj husband and xxmaj wife . a</td>\n",
       "    </tr>\n",
       "  </tbody>\n",
       "</table>"
      ],
      "text/plain": [
       "<IPython.core.display.HTML object>"
      ]
     },
     "metadata": {},
     "output_type": "display_data"
    }
   ],
   "source": [
    "data_lm.show_batch()"
   ]
  },
  {
   "cell_type": "markdown",
   "metadata": {
    "id": "S-Ze_0s9sey3"
   },
   "source": [
    "Now we have our data ready we create a `language_model_learner` this is a convenience function to quickly get a model setup for a language model task. To use this we need to pass in our data, the type of model we want to use and optionally some metric(s) to track. We will use `to_fp16()` to train our model using [mixed precission](https://docs.nvidia.com/deeplearning/performance/mixed-precision-training/index.html). This allows us to use less memory and train our model a little bit faster. This can be useful if you are working with limited GPU resources. "
   ]
  },
  {
   "cell_type": "code",
   "execution_count": null,
   "metadata": {
    "id": "N9oGiJ8kRsSD"
   },
   "outputs": [],
   "source": [
    "lm_learn_fwd = language_model_learner(data_lm, AWD_LSTM, metrics=Perplexity()).to_fp16()"
   ]
  },
  {
   "cell_type": "markdown",
   "metadata": {
    "id": "TXbzmVl4qjzt"
   },
   "source": [
    "We are now ready to fit our model. Initially we fit the model for 5 epochs. We use a fastai callback to save our best performing model (using the lowest perplexity as our measure of 'best'). "
   ]
  },
  {
   "cell_type": "code",
   "execution_count": null,
   "metadata": {
    "colab": {
     "base_uri": "https://localhost:8080/",
     "height": 298
    },
    "id": "cUUSyJhWR145",
    "outputId": "6abd9c6d-9af4-4ba1-b6d9-c90785cfa43a"
   },
   "outputs": [
    {
     "data": {
      "text/html": [
       "<table border=\"1\" class=\"dataframe\">\n",
       "  <thead>\n",
       "    <tr style=\"text-align: left;\">\n",
       "      <th>epoch</th>\n",
       "      <th>train_loss</th>\n",
       "      <th>valid_loss</th>\n",
       "      <th>perplexity</th>\n",
       "      <th>time</th>\n",
       "    </tr>\n",
       "  </thead>\n",
       "  <tbody>\n",
       "    <tr>\n",
       "      <td>0</td>\n",
       "      <td>5.053834</td>\n",
       "      <td>4.514159</td>\n",
       "      <td>91.300728</td>\n",
       "      <td>01:08</td>\n",
       "    </tr>\n",
       "    <tr>\n",
       "      <td>1</td>\n",
       "      <td>4.627872</td>\n",
       "      <td>3.961763</td>\n",
       "      <td>52.549911</td>\n",
       "      <td>01:08</td>\n",
       "    </tr>\n",
       "    <tr>\n",
       "      <td>2</td>\n",
       "      <td>4.280094</td>\n",
       "      <td>3.714055</td>\n",
       "      <td>41.019817</td>\n",
       "      <td>01:08</td>\n",
       "    </tr>\n",
       "    <tr>\n",
       "      <td>3</td>\n",
       "      <td>4.084582</td>\n",
       "      <td>3.631602</td>\n",
       "      <td>37.773266</td>\n",
       "      <td>01:07</td>\n",
       "    </tr>\n",
       "    <tr>\n",
       "      <td>4</td>\n",
       "      <td>3.997313</td>\n",
       "      <td>3.619023</td>\n",
       "      <td>37.301094</td>\n",
       "      <td>01:07</td>\n",
       "    </tr>\n",
       "  </tbody>\n",
       "</table>"
      ],
      "text/plain": [
       "<IPython.core.display.HTML object>"
      ]
     },
     "metadata": {},
     "output_type": "display_data"
    },
    {
     "name": "stdout",
     "output_type": "stream",
     "text": [
      "Better model found at epoch 0 with perplexity value: 91.30072784423828.\n",
      "Better model found at epoch 1 with perplexity value: 52.54991149902344.\n",
      "Better model found at epoch 2 with perplexity value: 41.01981735229492.\n",
      "Better model found at epoch 3 with perplexity value: 37.77326583862305.\n",
      "Better model found at epoch 4 with perplexity value: 37.30109405517578.\n"
     ]
    }
   ],
   "source": [
    "lm_learn_fwd.fit_one_cycle(\n",
    "    5, cbs=[SaveModelCallback(monitor=\"perplexity\", comp=np.less)]\n",
    ")"
   ]
  },
  {
   "cell_type": "markdown",
   "metadata": {
    "id": "xT0EeH-xqmLH"
   },
   "source": [
    "One of the suggestions made in the ULMFIT paper is to 'gradually' train the layers of our model. We can unfreeze all the layers and use another handy fastai method `lr_find` to get a sense of what a sensible learning rate might be. "
   ]
  },
  {
   "cell_type": "code",
   "execution_count": null,
   "metadata": {
    "colab": {
     "base_uri": "https://localhost:8080/",
     "height": 301
    },
    "id": "WOqEkjw0SIX1",
    "outputId": "8d5f1b38-ff02-463d-eb25-c3888aaada62"
   },
   "outputs": [
    {
     "data": {
      "text/html": [],
      "text/plain": [
       "<IPython.core.display.HTML object>"
      ]
     },
     "metadata": {},
     "output_type": "display_data"
    },
    {
     "data": {
      "text/plain": [
       "SuggestedLRs(valley=0.0002290867705596611)"
      ]
     },
     "execution_count": null,
     "metadata": {},
     "output_type": "execute_result"
    },
    {
     "data": {
      "image/png": "[encoded data removed]",
      "text/plain": [
       "<Figure size 432x288 with 1 Axes>"
      ]
     },
     "metadata": {
      "needs_background": "light"
     },
     "output_type": "display_data"
    }
   ],
   "source": [
    "lm_learn_fwd.unfreeze()\n",
    "lm_learn_fwd.lr_find()"
   ]
  },
  {
   "cell_type": "markdown",
   "metadata": {
    "id": "qfMCeopLhsfu"
   },
   "source": [
    "We can pass a slice at the learning rate. This will use something called a 'discriminative' learning rate. This means that the lower layers of our model will have a lower learning rate, and the later layers will have a higher learning rate. The intution here is that the lower layers might contain more 'general' features which we don't want to update as agressively whilst the later layers are more task specific. \n",
    "\n",
    "Again we train for 5 epochs and save our best performing model. "
   ]
  },
  {
   "cell_type": "code",
   "execution_count": null,
   "metadata": {
    "colab": {
     "base_uri": "https://localhost:8080/",
     "height": 298
    },
    "id": "kGukbHokSMNB",
    "outputId": "d2196966-bfee-4277-9cdd-0357848bd91f"
   },
   "outputs": [
    {
     "data": {
      "text/html": [
       "<table border=\"1\" class=\"dataframe\">\n",
       "  <thead>\n",
       "    <tr style=\"text-align: left;\">\n",
       "      <th>epoch</th>\n",
       "      <th>train_loss</th>\n",
       "      <th>valid_loss</th>\n",
       "      <th>perplexity</th>\n",
       "      <th>time</th>\n",
       "    </tr>\n",
       "  </thead>\n",
       "  <tbody>\n",
       "    <tr>\n",
       "      <td>0</td>\n",
       "      <td>3.879096</td>\n",
       "      <td>3.449919</td>\n",
       "      <td>31.497826</td>\n",
       "      <td>01:13</td>\n",
       "    </tr>\n",
       "    <tr>\n",
       "      <td>1</td>\n",
       "      <td>3.715576</td>\n",
       "      <td>3.324599</td>\n",
       "      <td>27.787848</td>\n",
       "      <td>01:13</td>\n",
       "    </tr>\n",
       "    <tr>\n",
       "      <td>2</td>\n",
       "      <td>3.587684</td>\n",
       "      <td>3.270434</td>\n",
       "      <td>26.322758</td>\n",
       "      <td>01:13</td>\n",
       "    </tr>\n",
       "    <tr>\n",
       "      <td>3</td>\n",
       "      <td>3.543618</td>\n",
       "      <td>3.250468</td>\n",
       "      <td>25.802412</td>\n",
       "      <td>01:13</td>\n",
       "    </tr>\n",
       "    <tr>\n",
       "      <td>4</td>\n",
       "      <td>3.493116</td>\n",
       "      <td>3.246511</td>\n",
       "      <td>25.700520</td>\n",
       "      <td>01:13</td>\n",
       "    </tr>\n",
       "  </tbody>\n",
       "</table>"
      ],
      "text/plain": [
       "<IPython.core.display.HTML object>"
      ]
     },
     "metadata": {},
     "output_type": "display_data"
    },
    {
     "name": "stdout",
     "output_type": "stream",
     "text": [
      "Better model found at epoch 0 with perplexity value: 31.497825622558594.\n",
      "Better model found at epoch 1 with perplexity value: 27.7878475189209.\n",
      "Better model found at epoch 2 with perplexity value: 26.322757720947266.\n",
      "Better model found at epoch 3 with perplexity value: 25.802412033081055.\n",
      "Better model found at epoch 4 with perplexity value: 25.700519561767578.\n"
     ]
    }
   ],
   "source": [
    "lm_learn_fwd.fit_one_cycle(\n",
    "    5,\n",
    "    lr_max=slice(5e-5, 1e-4),\n",
    "    cbs=[SaveModelCallback(monitor=\"perplexity\", comp=np.less)],\n",
    ")"
   ]
  },
  {
   "cell_type": "markdown",
   "metadata": {
    "id": "EN5NtWjIhsfu"
   },
   "source": [
    "We could spend longer on this process but for now we'll save our 'encoder'. This 'encoder' will be used in our classification model (we'll get to this shortly). "
   ]
  },
  {
   "cell_type": "code",
   "execution_count": null,
   "metadata": {
    "id": "N9fTQSXPSZoK"
   },
   "outputs": [],
   "source": [
    "lm_learn_fwd.save_encoder(\"ft_enc\")"
   ]
  },
  {
   "cell_type": "markdown",
   "metadata": {
    "id": "lgP9F-OetHpH"
   },
   "source": [
    "## Look at language model predictions \n",
    "\n",
    "To get a sense of whether our Language Model has 'learned' anything useful we can ask it to make some predictions based on a prompt. We'll create small function for doing this. \n"
   ]
  },
  {
   "cell_type": "code",
   "execution_count": null,
   "metadata": {
    "id": "YX1HD2mOaLGH"
   },
   "outputs": [],
   "source": [
    "def lm_preds(text_promt, N_WORDS=10, N_SENTENCES=3):\n",
    "    preds = [\n",
    "        lm_learn_fwd.predict(text_promt, N_WORDS, temperature=0.75)\n",
    "        for _ in range(N_SENTENCES)\n",
    "    ]\n",
    "    print(\"\\n\".join(preds))"
   ]
  },
  {
   "cell_type": "code",
   "execution_count": null,
   "metadata": {
    "colab": {
     "base_uri": "https://localhost:8080/",
     "height": 72
    },
    "id": "rDBhv85Oaczg",
    "outputId": "d0e92abd-f1f0-4200-d9ed-b9f238f69172"
   },
   "outputs": [
    {
     "data": {
      "text/html": [],
      "text/plain": [
       "<IPython.core.display.HTML object>"
      ]
     },
     "metadata": {},
     "output_type": "display_data"
    },
    {
     "data": {
      "text/html": [],
      "text/plain": [
       "<IPython.core.display.HTML object>"
      ]
     },
     "metadata": {},
     "output_type": "display_data"
    },
    {
     "data": {
      "text/html": [],
      "text/plain": [
       "<IPython.core.display.HTML object>"
      ]
     },
     "metadata": {},
     "output_type": "display_data"
    },
    {
     "name": "stdout",
     "output_type": "stream",
     "text": [
      "a history of France = a Union of the\n",
      "a history of the Isle of Wight The\n",
      "a history of the County of Iowa , with historical\n"
     ]
    }
   ],
   "source": [
    "lm_preds(\"A history\")"
   ]
  },
  {
   "cell_type": "code",
   "execution_count": null,
   "metadata": {
    "colab": {
     "base_uri": "https://localhost:8080/",
     "height": 72
    },
    "id": "aHnrEeIjZMA0",
    "outputId": "f0f95f7f-eb42-4e42-a7b4-eb9cdf488ccf"
   },
   "outputs": [
    {
     "data": {
      "text/html": [],
      "text/plain": [
       "<IPython.core.display.HTML object>"
      ]
     },
     "metadata": {},
     "output_type": "display_data"
    },
    {
     "data": {
      "text/html": [],
      "text/plain": [
       "<IPython.core.display.HTML object>"
      ]
     },
     "metadata": {},
     "output_type": "display_data"
    },
    {
     "data": {
      "text/html": [],
      "text/plain": [
       "<IPython.core.display.HTML object>"
      ]
     },
     "metadata": {},
     "output_type": "display_data"
    },
    {
     "name": "stdout",
     "output_type": "stream",
     "text": [
      "Poems The Castle Fire , and other\n",
      "Poems on Greece and Greece The\n",
      "Poems of Narrative Soul Heart in\n"
     ]
    }
   ],
   "source": [
    "lm_preds(\"Poems\")"
   ]
  },
  {
   "cell_type": "code",
   "execution_count": null,
   "metadata": {
    "colab": {
     "base_uri": "https://localhost:8080/",
     "height": 72
    },
    "id": "pDNi3_A4b5Pi",
    "outputId": "27505085-13c7-4009-9e5d-ae5a53fe4d8f"
   },
   "outputs": [
    {
     "data": {
      "text/html": [],
      "text/plain": [
       "<IPython.core.display.HTML object>"
      ]
     },
     "metadata": {},
     "output_type": "display_data"
    },
    {
     "data": {
      "text/html": [],
      "text/plain": [
       "<IPython.core.display.HTML object>"
      ]
     },
     "metadata": {},
     "output_type": "display_data"
    },
    {
     "data": {
      "text/html": [],
      "text/plain": [
       "<IPython.core.display.HTML object>"
      ]
     },
     "metadata": {},
     "output_type": "display_data"
    },
    {
     "name": "stdout",
     "output_type": "stream",
     "text": [
      "verhaal miss Jane Austen : a novel\n",
      "verhaal katie della Physique de la Terre\n",
      "verhaal i Wake Up a Journey to\n"
     ]
    }
   ],
   "source": [
    "lm_preds(\"verhaal\")"
   ]
  },
  {
   "cell_type": "code",
   "execution_count": null,
   "metadata": {
    "colab": {
     "base_uri": "https://localhost:8080/",
     "height": 72
    },
    "id": "HSiZOj0ccALA",
    "outputId": "65e3bf50-fa92-43be-b6ba-03dfcf8bac7f"
   },
   "outputs": [
    {
     "data": {
      "text/html": [],
      "text/plain": [
       "<IPython.core.display.HTML object>"
      ]
     },
     "metadata": {},
     "output_type": "display_data"
    },
    {
     "data": {
      "text/html": [],
      "text/plain": [
       "<IPython.core.display.HTML object>"
      ]
     },
     "metadata": {},
     "output_type": "display_data"
    },
    {
     "data": {
      "text/html": [],
      "text/plain": [
       "<IPython.core.display.HTML object>"
      ]
     },
     "metadata": {},
     "output_type": "display_data"
    },
    {
     "name": "stdout",
     "output_type": "stream",
     "text": [
      "xxunk , a History of the Northern Irish\n",
      "xxunk 's Molly Fly and other poems\n",
      "xxunk on Eve Park in Wales\n"
     ]
    }
   ],
   "source": [
    "lm_preds(\"wiskunde\")"
   ]
  },
  {
   "cell_type": "code",
   "execution_count": null,
   "metadata": {
    "colab": {
     "base_uri": "https://localhost:8080/",
     "height": 72
    },
    "id": "Ew1_abF0cMLe",
    "outputId": "2ec50edc-4668-4a3e-c671-1f9a444db42c"
   },
   "outputs": [
    {
     "data": {
      "text/html": [],
      "text/plain": [
       "<IPython.core.display.HTML object>"
      ]
     },
     "metadata": {},
     "output_type": "display_data"
    },
    {
     "data": {
      "text/html": [],
      "text/plain": [
       "<IPython.core.display.HTML object>"
      ]
     },
     "metadata": {},
     "output_type": "display_data"
    },
    {
     "data": {
      "text/html": [],
      "text/plain": [
       "<IPython.core.display.HTML object>"
      ]
     },
     "metadata": {},
     "output_type": "display_data"
    },
    {
     "name": "stdout",
     "output_type": "stream",
     "text": [
      "Xxunk Park . In the United States\n",
      "Xxunk in the East : a poem The\n",
      "Xxunk 's Guide to India Visitors to\n"
     ]
    }
   ],
   "source": [
    "lm_preds(\"Gedicht\")"
   ]
  },
  {
   "cell_type": "code",
   "execution_count": null,
   "metadata": {
    "colab": {
     "base_uri": "https://localhost:8080/",
     "height": 72
    },
    "id": "CJBCt3WZZRFy",
    "outputId": "d59e932a-e023-4ea1-cbab-2d4ec45e442b"
   },
   "outputs": [
    {
     "data": {
      "text/html": [],
      "text/plain": [
       "<IPython.core.display.HTML object>"
      ]
     },
     "metadata": {},
     "output_type": "display_data"
    },
    {
     "data": {
      "text/html": [],
      "text/plain": [
       "<IPython.core.display.HTML object>"
      ]
     },
     "metadata": {},
     "output_type": "display_data"
    },
    {
     "data": {
      "text/html": [],
      "text/plain": [
       "<IPython.core.display.HTML object>"
      ]
     },
     "metadata": {},
     "output_type": "display_data"
    },
    {
     "name": "stdout",
     "output_type": "stream",
     "text": [
      "An analysis of the French Revolution from the French\n",
      "An analysis of the Halifax County District Court\n",
      "An analysis of the Gulf , and the Gulf of\n"
     ]
    }
   ],
   "source": [
    "lm_preds(\"An analysis\")"
   ]
  },
  {
   "cell_type": "code",
   "execution_count": null,
   "metadata": {
    "colab": {
     "base_uri": "https://localhost:8080/",
     "height": 72
    },
    "id": "qxLsxXJ5ZMQ1",
    "outputId": "58dcbdf6-4545-4087-8317-69dafda7d867"
   },
   "outputs": [
    {
     "data": {
      "text/html": [],
      "text/plain": [
       "<IPython.core.display.HTML object>"
      ]
     },
     "metadata": {},
     "output_type": "display_data"
    },
    {
     "data": {
      "text/html": [],
      "text/plain": [
       "<IPython.core.display.HTML object>"
      ]
     },
     "metadata": {},
     "output_type": "display_data"
    },
    {
     "data": {
      "text/html": [],
      "text/plain": [
       "<IPython.core.display.HTML object>"
      ]
     },
     "metadata": {},
     "output_type": "display_data"
    },
    {
     "name": "stdout",
     "output_type": "stream",
     "text": [
      "Living with Machines in Palestine . By W. Gordon\n",
      "Living with Machines : Life and Life in France ,\n",
      "Living with Machines : a history of London … and other stories\n"
     ]
    }
   ],
   "source": [
    "lm_preds(\"Living with Machines\")"
   ]
  },
  {
   "cell_type": "code",
   "execution_count": null,
   "metadata": {
    "colab": {
     "base_uri": "https://localhost:8080/",
     "height": 72
    },
    "id": "8BkKivfbZUr4",
    "outputId": "8c914e46-1625-4dd9-cc75-17fb818beb6b"
   },
   "outputs": [
    {
     "data": {
      "text/html": [],
      "text/plain": [
       "<IPython.core.display.HTML object>"
      ]
     },
     "metadata": {},
     "output_type": "display_data"
    },
    {
     "data": {
      "text/html": [],
      "text/plain": [
       "<IPython.core.display.HTML object>"
      ]
     },
     "metadata": {},
     "output_type": "display_data"
    },
    {
     "data": {
      "text/html": [],
      "text/plain": [
       "<IPython.core.display.HTML object>"
      ]
     },
     "metadata": {},
     "output_type": "display_data"
    },
    {
     "name": "stdout",
     "output_type": "stream",
     "text": [
      "The Haunted House , a sketch of the home of\n",
      "The Haunted House in Paris , France , from\n",
      "The Haunted House , a Catholic Catholic church in\n"
     ]
    }
   ],
   "source": [
    "lm_preds(\"The Haunted\")"
   ]
  },
  {
   "cell_type": "code",
   "execution_count": null,
   "metadata": {
    "colab": {
     "base_uri": "https://localhost:8080/",
     "height": 72
    },
    "id": "iMED2IrurX4d",
    "outputId": "2792cdf4-9763-43e0-eab5-bf06815fd382"
   },
   "outputs": [
    {
     "data": {
      "text/html": [],
      "text/plain": [
       "<IPython.core.display.HTML object>"
      ]
     },
     "metadata": {},
     "output_type": "display_data"
    },
    {
     "data": {
      "text/html": [],
      "text/plain": [
       "<IPython.core.display.HTML object>"
      ]
     },
     "metadata": {},
     "output_type": "display_data"
    },
    {
     "data": {
      "text/html": [],
      "text/plain": [
       "<IPython.core.display.HTML object>"
      ]
     },
     "metadata": {},
     "output_type": "display_data"
    },
    {
     "name": "stdout",
     "output_type": "stream",
     "text": [
      "London Road : a novel The Present\n",
      "London : a novel The Secret of\n",
      "London 's Gold Coast The Flash\n"
     ]
    }
   ],
   "source": [
    "lm_preds(\"London\")"
   ]
  },
  {
   "cell_type": "markdown",
   "metadata": {
    "id": "2fGPobtpktpm"
   },
   "source": [
    "We can see that these aren't completely weird predictions for titles (they aren't all completely sensible either). It should be noted that the model we're using here isn't intended primarily as a text generation model like [GPT3](https://en.wikipedia.org/wiki/GPT-3) so we shouldn't evaluate it too much on it's ability to generate sensible sounding text. We can now move on to training our classifier. "
   ]
  },
  {
   "cell_type": "markdown",
   "metadata": {
    "id": "wziR8YvitNWc"
   },
   "source": [
    "## Training our classifier\n",
    "\n",
    "So far we have now done the following steps;\n",
    "\n",
    "- downloaded a pretrained language model (trained on Wikipedia) \n",
    "- we have fine-tuned this model on our data i.e. the model has learned more about the language used in (mostly 19th Century) book titles\n",
    "\n",
    "We can now use this fine-tuned language model to train a text classification model that will take as input the title of a book and predict 'non-fiction' or 'fiction' as a label. \n",
    "\n",
    "We first need to create a dataloader for our classifications data. This will look very similar to our previous model. "
   ]
  },
  {
   "cell_type": "markdown",
   "metadata": {
    "id": "ERITv2n_Y6-S"
   },
   "source": [
    "Again, we take a subset of our data that we need. This makes loading the data a bit faster. "
   ]
  },
  {
   "cell_type": "code",
   "execution_count": null,
   "metadata": {
    "id": "Y7Aqto8QYyDw"
   },
   "outputs": [],
   "source": [
    "df = df[[\"Title\", \"annotator_genre\", \"is_valid\"]]"
   ]
  },
  {
   "cell_type": "code",
   "execution_count": null,
   "metadata": {
    "colab": {
     "base_uri": "https://localhost:8080/",
     "height": 74
    },
    "id": "Zy_ZD_ckH264",
    "outputId": "58da7e3c-4ed5-46bd-bc19-e707df14449d"
   },
   "outputs": [
    {
     "data": {
      "text/html": [],
      "text/plain": [
       "<IPython.core.display.HTML object>"
      ]
     },
     "metadata": {},
     "output_type": "display_data"
    },
    {
     "name": "stderr",
     "output_type": "stream",
     "text": [
      "/usr/local/lib/python3.7/dist-packages/numpy/core/_asarray.py:83: VisibleDeprecationWarning: Creating an ndarray from ragged nested sequences (which is a list-or-tuple of lists-or-tuples-or ndarrays with different lengths or shapes) is deprecated. If you meant to do this, you must specify 'dtype=object' when creating the ndarray\n",
      "  return array(a, dtype, copy=False, order=order)\n"
     ]
    }
   ],
   "source": [
    "data_class = TextDataLoaders.from_df(\n",
    "    df,  # the dataframe we're using as input\n",
    "    text_col=\"Title\",  # text column\n",
    "    label_col=\"annotator_genre\",  # label column\n",
    "    valid_col=\"is_valid\",  # the column used to indicate valid/training data\n",
    "    text_vocab=data_lm.vocab,  # the vocab from our langauge model\n",
    "    bs=bs,  # batch size\n",
    ")"
   ]
  },
  {
   "cell_type": "markdown",
   "metadata": {
    "id": "vGp46qlIhsfx"
   },
   "source": [
    "You can see above that we use the same vocab as our language model. We do this to ensure that our classification vocab matches our language model vocab and its associated encoder.\n",
    "\n",
    "We can take a look at our data. "
   ]
  },
  {
   "cell_type": "code",
   "execution_count": null,
   "metadata": {
    "colab": {
     "base_uri": "https://localhost:8080/",
     "height": 801
    },
    "id": "rwi6B3opiZhj",
    "outputId": "77e3af4c-fa18-42f5-d26e-48cf41a77d53"
   },
   "outputs": [
    {
     "data": {
      "text/html": [
       "<table border=\"1\" class=\"dataframe\">\n",
       "  <thead>\n",
       "    <tr style=\"text-align: right;\">\n",
       "      <th></th>\n",
       "      <th>text</th>\n",
       "      <th>category</th>\n",
       "    </tr>\n",
       "  </thead>\n",
       "  <tbody>\n",
       "    <tr>\n",
       "      <th>0</th>\n",
       "      <td>xxbos a xxmaj relation of a xxmaj voyage to xxmaj sagadahoc , now first printed from the original manuscript in the xxmaj lambeth xxmaj palace xxmaj library [ entitled : ' the xxmaj relation of a xxmaj voyage unto xxmaj new xxmaj england began from the xxmaj lizard ye first of xxmaj june 1607 . xxmaj by xxmaj captn . xxmaj popham in ye ship ye xxmaj gift . xxmaj captn . xxmaj gilbert in ye xxmaj mary and xxmaj john , ' etc . ] xxmaj edited with preface , notes and appendix by … xxup b. xxup f. xxmaj decosta [ with a paper annexed , entitled : ' the xxmaj two xxmaj hundred and seventy - third xxmaj anniversary of xxmaj sagadahoc . ' ]</td>\n",
       "      <td>Non-fiction</td>\n",
       "    </tr>\n",
       "    <tr>\n",
       "      <th>1</th>\n",
       "      <td>xxbos a xxmaj relation of a xxmaj voyage to xxmaj sagadahoc , now first printed from the original manuscript in the xxmaj lambeth xxmaj palace xxmaj library [ entitled : ' the xxmaj relation of a xxmaj voyage unto xxmaj new xxmaj england began from the xxmaj lizard ye first of xxmaj june 1607 . xxmaj by xxmaj captn . xxmaj popham in ye ship ye xxmaj gift . xxmaj captn . xxmaj gilbert in ye xxmaj mary and xxmaj john , ' etc . ] xxmaj edited with preface , notes and appendix by … xxup b. xxup f. xxmaj decosta [ with a paper annexed , entitled : ' the xxmaj two xxmaj hundred and seventy - third xxmaj anniversary of xxmaj sagadahoc . ' ]</td>\n",
       "      <td>Non-fiction</td>\n",
       "    </tr>\n",
       "    <tr>\n",
       "      <th>2</th>\n",
       "      <td>xxbos a xxmaj relation of a xxmaj voyage to xxmaj sagadahoc , now first printed from the original manuscript in the xxmaj lambeth xxmaj palace xxmaj library [ entitled : ' the xxmaj relation of a xxmaj voyage unto xxmaj new xxmaj england began from the xxmaj lizard ye first of xxmaj june 1607 . xxmaj by xxmaj captn . xxmaj popham in ye ship ye xxmaj gift . xxmaj captn . xxmaj gilbert in ye xxmaj mary and xxmaj john , ' etc . ] xxmaj edited with preface , notes and appendix by … xxup b. xxup f. xxmaj decosta [ with a paper annexed , entitled : ' the xxmaj two xxmaj hundred and seventy - third xxmaj anniversary of xxmaj sagadahoc . ' ]</td>\n",
       "      <td>Non-fiction</td>\n",
       "    </tr>\n",
       "    <tr>\n",
       "      <th>3</th>\n",
       "      <td>xxbos a xxmaj tour through xxmaj italy , exhibiting a view of its xxmaj scenery , its xxmaj antiquities , and its xxmaj monuments ; particularly as they are objects of xxmaj classical xxmaj interest … with an account of the present state of its cities and towns and occasional observations on the recent spoliations of the xxmaj french . 3 vol . ( vol . xxrep 3 i . a xxmaj classical xxmaj tour through xxmaj italy and xxmaj sicily ; tending to illustrate some districts which have not been described by xxmaj mr . xxmaj eustace in his classical tour . xxmaj by xxmaj sir xxup r. xxmaj colt xxmaj hoare . )</td>\n",
       "      <td>Non-fiction</td>\n",
       "    </tr>\n",
       "    <tr>\n",
       "      <th>4</th>\n",
       "      <td>xxbos a xxmaj tour through xxmaj italy , exhibiting a view of its xxmaj scenery , its xxmaj antiquities , and its xxmaj monuments ; particularly as they are objects of xxmaj classical xxmaj interest … with an account of the present state of its cities and towns and occasional observations on the recent spoliations of the xxmaj french . 3 vol . ( vol . xxrep 3 i . a xxmaj classical xxmaj tour through xxmaj italy and xxmaj sicily ; tending to illustrate some districts which have not been described by xxmaj mr . xxmaj eustace in his classical tour . xxmaj by xxmaj sir xxup r. xxmaj colt xxmaj hoare . )</td>\n",
       "      <td>Non-fiction</td>\n",
       "    </tr>\n",
       "    <tr>\n",
       "      <th>5</th>\n",
       "      <td>xxbos a xxmaj tour through xxmaj italy , exhibiting a view of its xxmaj scenery , its xxmaj antiquities , and its xxmaj monuments ; particularly as they are objects of xxmaj classical xxmaj interest … with an account of the present state of its cities and towns and occasional observations on the recent spoliations of the xxmaj french . 3 vol . ( vol . xxrep 3 i . a xxmaj classical xxmaj tour through xxmaj italy and xxmaj sicily ; tending to illustrate some districts which have not been described by xxmaj mr . xxmaj eustace in his classical tour . xxmaj by xxmaj sir xxup r. xxmaj colt xxmaj hoare . )</td>\n",
       "      <td>Non-fiction</td>\n",
       "    </tr>\n",
       "    <tr>\n",
       "      <th>6</th>\n",
       "      <td>xxbos a xxmaj tour through xxmaj italy , exhibiting a view of its xxmaj scenery , its xxmaj antiquities , and its xxmaj monuments ; particularly as they are objects of xxmaj classical xxmaj interest … with an account of the present state of its cities and towns and occasional observations on the recent spoliations of the xxmaj french . 3 vol . ( vol . xxrep 3 i . a xxmaj classical xxmaj tour through xxmaj italy and xxmaj sicily ; tending to illustrate some districts which have not been described by xxmaj mr . xxmaj eustace in his classical tour . xxmaj by xxmaj sir xxup r. xxmaj colt xxmaj hoare . )</td>\n",
       "      <td>Non-fiction</td>\n",
       "    </tr>\n",
       "    <tr>\n",
       "      <th>7</th>\n",
       "      <td>xxbos a xxmaj tour through xxmaj italy , exhibiting a view of its xxmaj scenery , its xxmaj antiquities , and its xxmaj monuments ; particularly as they are objects of xxmaj classical xxmaj interest … with an account of the present state of its cities and towns and occasional observations on the recent spoliations of the xxmaj french . 3 vol . ( vol . xxrep 3 i . a xxmaj classical xxmaj tour through xxmaj italy and xxmaj sicily ; tending to illustrate some districts which have not been described by xxmaj mr . xxmaj eustace in his classical tour . xxmaj by xxmaj sir xxup r. xxmaj colt xxmaj hoare . )</td>\n",
       "      <td>Non-fiction</td>\n",
       "    </tr>\n",
       "    <tr>\n",
       "      <th>8</th>\n",
       "      <td>xxbos xxmaj travels to the xxmaj source of the xxmaj missouri xxmaj river and across the xxmaj american xxmaj continent to the xxmaj pacific xxmaj ocean , performed by order of the xxmaj government of the xxmaj united xxmaj states in the years 1804 , 1805 , and 1806 . xxmaj by xxmaj captains xxmaj lewis and xxmaj clarke . xxmaj published from the official report , and illustrated by … maps [ another edition of ' history of the xxmaj expedition under the command of xxmaj captains xxmaj lewis and xxmaj clarke , etc . ' xxmaj by xxmaj nicholas xxmaj biddle . xxmaj edited by xxup t. xxmaj reus . ]</td>\n",
       "      <td>Non-fiction</td>\n",
       "    </tr>\n",
       "  </tbody>\n",
       "</table>"
      ],
      "text/plain": [
       "<IPython.core.display.HTML object>"
      ]
     },
     "metadata": {},
     "output_type": "display_data"
    }
   ],
   "source": [
    "data_class.show_batch()"
   ]
  },
  {
   "cell_type": "markdown",
   "metadata": {
    "id": "mNh6v9XVunCi"
   },
   "source": [
    "## xxbos, xxmaj ??? \n",
    "\n",
    "You'll see above that our text includes `xxmaj`, `xxup` and other tokens we might not recognize. These are special tokens used by fastai to encode some information about the text. For example:\n",
    "\n",
    "> TK_MAJ (xxmaj) is used to indicate the next word begins with a capital in the original text\n",
    "> TK_UP (xxup) is used to indicate the next word is written in all caps in the original text\n",
    "\n",
    "We can add our own rules if we want. This might be useful for example if you are working with metadata or text which contains some kind of structured information. "
   ]
  },
  {
   "cell_type": "markdown",
   "metadata": {
    "id": "vpxrHHxQOoMJ"
   },
   "source": [
    "We'll now create our classifier model. This is very similar to what we did before except we pass in two metrics this time and make sure to pass in the classification data. "
   ]
  },
  {
   "cell_type": "code",
   "execution_count": null,
   "metadata": {
    "id": "xCmAENIHEeja"
   },
   "outputs": [],
   "source": [
    "learn_class = text_classifier_learner(\n",
    "    data_class, AWD_LSTM, metrics=[accuracy, F1Score(average=\"macro\")]\n",
    ").to_fp16()"
   ]
  },
  {
   "cell_type": "markdown",
   "metadata": {
    "id": "5mEFjdIcunCk"
   },
   "source": [
    "Now we have a learner created we load the encoder we trained on our language data previously. This means our model will start from these weights. "
   ]
  },
  {
   "cell_type": "code",
   "execution_count": null,
   "metadata": {
    "colab": {
     "base_uri": "https://localhost:8080/"
    },
    "id": "jEzPH2sNSf8D",
    "outputId": "6782f44b-e602-4e0c-c2c5-dfd4196e2dbe"
   },
   "outputs": [
    {
     "data": {
      "text/plain": [
       "<fastai.text.learner.TextLearner at 0x7fe213f06f50>"
      ]
     },
     "execution_count": null,
     "metadata": {},
     "output_type": "execute_result"
    }
   ],
   "source": [
    "learn_class.load_encoder(\"ft_enc\")"
   ]
  },
  {
   "cell_type": "markdown",
   "metadata": {
    "id": "UwHnGNxVunCk"
   },
   "source": [
    "We can again use `lr_find` to suggest a learning rate."
   ]
  },
  {
   "cell_type": "code",
   "execution_count": null,
   "metadata": {
    "colab": {
     "base_uri": "https://localhost:8080/",
     "height": 283
    },
    "id": "q1lvFgxAEj1f",
    "outputId": "d6927303-22ba-41d3-e024-a28db601d1ea"
   },
   "outputs": [
    {
     "data": {
      "text/html": [],
      "text/plain": [
       "<IPython.core.display.HTML object>"
      ]
     },
     "metadata": {},
     "output_type": "display_data"
    },
    {
     "data": {
      "image/png": "[encoded data removed]",
      "text/plain": [
       "<Figure size 432x288 with 1 Axes>"
      ]
     },
     "metadata": {
      "needs_background": "light"
     },
     "output_type": "display_data"
    }
   ],
   "source": [
    "suggested_lr = learn_class.lr_find()"
   ]
  },
  {
   "cell_type": "markdown",
   "metadata": {
    "id": "-JPsVN7roCKO"
   },
   "source": [
    "## YOLO training\n",
    "\n",
    "\n",
    "This time we will use the learning rate suggested by the `valley` method for suggesting a learning rate (there are [others](https://www.novetta.com/2021/03/learning-rate/) we could use).\n",
    "\n",
    "We also train for much longer (100 epochs). We use a callback to keep track of best model (using the f1 score) and use another callback to stop when when we haven't seen any improvement in some time. This helps automate the process a little bit for us. "
   ]
  },
  {
   "cell_type": "code",
   "execution_count": null,
   "metadata": {
    "colab": {
     "base_uri": "https://localhost:8080/",
     "height": 1000
    },
    "id": "PkMElr3oEmbn",
    "outputId": "db841955-cb50-4e2a-9b37-f36b9e6beae7",
    "tags": [
     "hide-output"
    ]
   },
   "outputs": [
    {
     "data": {
      "text/html": [
       "<table border=\"1\" class=\"dataframe\">\n",
       "  <thead>\n",
       "    <tr style=\"text-align: left;\">\n",
       "      <th>epoch</th>\n",
       "      <th>train_loss</th>\n",
       "      <th>valid_loss</th>\n",
       "      <th>accuracy</th>\n",
       "      <th>f1_score</th>\n",
       "      <th>time</th>\n",
       "    </tr>\n",
       "  </thead>\n",
       "  <tbody>\n",
       "    <tr>\n",
       "      <td>0</td>\n",
       "      <td>0.665443</td>\n",
       "      <td>0.668866</td>\n",
       "      <td>0.525534</td>\n",
       "      <td>0.517140</td>\n",
       "      <td>00:02</td>\n",
       "    </tr>\n",
       "    <tr>\n",
       "      <td>1</td>\n",
       "      <td>0.606742</td>\n",
       "      <td>0.612578</td>\n",
       "      <td>0.602600</td>\n",
       "      <td>0.600962</td>\n",
       "      <td>00:03</td>\n",
       "    </tr>\n",
       "    <tr>\n",
       "      <td>2</td>\n",
       "      <td>0.569475</td>\n",
       "      <td>0.480823</td>\n",
       "      <td>0.791086</td>\n",
       "      <td>0.786726</td>\n",
       "      <td>00:03</td>\n",
       "    </tr>\n",
       "    <tr>\n",
       "      <td>3</td>\n",
       "      <td>0.537582</td>\n",
       "      <td>0.379936</td>\n",
       "      <td>0.857939</td>\n",
       "      <td>0.850516</td>\n",
       "      <td>00:02</td>\n",
       "    </tr>\n",
       "    <tr>\n",
       "      <td>4</td>\n",
       "      <td>0.511371</td>\n",
       "      <td>0.349232</td>\n",
       "      <td>0.873723</td>\n",
       "      <td>0.866713</td>\n",
       "      <td>00:03</td>\n",
       "    </tr>\n",
       "    <tr>\n",
       "      <td>5</td>\n",
       "      <td>0.487751</td>\n",
       "      <td>0.297151</td>\n",
       "      <td>0.900650</td>\n",
       "      <td>0.892650</td>\n",
       "      <td>00:03</td>\n",
       "    </tr>\n",
       "    <tr>\n",
       "      <td>6</td>\n",
       "      <td>0.461770</td>\n",
       "      <td>0.276135</td>\n",
       "      <td>0.909935</td>\n",
       "      <td>0.901799</td>\n",
       "      <td>00:03</td>\n",
       "    </tr>\n",
       "    <tr>\n",
       "      <td>7</td>\n",
       "      <td>0.440010</td>\n",
       "      <td>0.282361</td>\n",
       "      <td>0.896936</td>\n",
       "      <td>0.890024</td>\n",
       "      <td>00:03</td>\n",
       "    </tr>\n",
       "    <tr>\n",
       "      <td>8</td>\n",
       "      <td>0.421166</td>\n",
       "      <td>0.257838</td>\n",
       "      <td>0.914578</td>\n",
       "      <td>0.906915</td>\n",
       "      <td>00:03</td>\n",
       "    </tr>\n",
       "    <tr>\n",
       "      <td>9</td>\n",
       "      <td>0.403049</td>\n",
       "      <td>0.266430</td>\n",
       "      <td>0.900650</td>\n",
       "      <td>0.891030</td>\n",
       "      <td>00:03</td>\n",
       "    </tr>\n",
       "    <tr>\n",
       "      <td>10</td>\n",
       "      <td>0.387365</td>\n",
       "      <td>0.242402</td>\n",
       "      <td>0.916435</td>\n",
       "      <td>0.907949</td>\n",
       "      <td>00:03</td>\n",
       "    </tr>\n",
       "    <tr>\n",
       "      <td>11</td>\n",
       "      <td>0.370438</td>\n",
       "      <td>0.225843</td>\n",
       "      <td>0.927577</td>\n",
       "      <td>0.919507</td>\n",
       "      <td>00:03</td>\n",
       "    </tr>\n",
       "    <tr>\n",
       "      <td>12</td>\n",
       "      <td>0.356692</td>\n",
       "      <td>0.268245</td>\n",
       "      <td>0.888579</td>\n",
       "      <td>0.878156</td>\n",
       "      <td>00:03</td>\n",
       "    </tr>\n",
       "    <tr>\n",
       "      <td>13</td>\n",
       "      <td>0.343099</td>\n",
       "      <td>0.263526</td>\n",
       "      <td>0.910864</td>\n",
       "      <td>0.902755</td>\n",
       "      <td>00:03</td>\n",
       "    </tr>\n",
       "    <tr>\n",
       "      <td>14</td>\n",
       "      <td>0.330638</td>\n",
       "      <td>0.243795</td>\n",
       "      <td>0.908078</td>\n",
       "      <td>0.899299</td>\n",
       "      <td>00:03</td>\n",
       "    </tr>\n",
       "    <tr>\n",
       "      <td>15</td>\n",
       "      <td>0.318648</td>\n",
       "      <td>0.242319</td>\n",
       "      <td>0.916435</td>\n",
       "      <td>0.907949</td>\n",
       "      <td>00:03</td>\n",
       "    </tr>\n",
       "    <tr>\n",
       "      <td>16</td>\n",
       "      <td>0.308882</td>\n",
       "      <td>0.270425</td>\n",
       "      <td>0.904364</td>\n",
       "      <td>0.895355</td>\n",
       "      <td>00:02</td>\n",
       "    </tr>\n",
       "    <tr>\n",
       "      <td>17</td>\n",
       "      <td>0.293823</td>\n",
       "      <td>0.246900</td>\n",
       "      <td>0.907149</td>\n",
       "      <td>0.898464</td>\n",
       "      <td>00:03</td>\n",
       "    </tr>\n",
       "    <tr>\n",
       "      <td>18</td>\n",
       "      <td>0.281849</td>\n",
       "      <td>0.245489</td>\n",
       "      <td>0.906221</td>\n",
       "      <td>0.897015</td>\n",
       "      <td>00:03</td>\n",
       "    </tr>\n",
       "    <tr>\n",
       "      <td>19</td>\n",
       "      <td>0.268338</td>\n",
       "      <td>0.223876</td>\n",
       "      <td>0.899721</td>\n",
       "      <td>0.893155</td>\n",
       "      <td>00:03</td>\n",
       "    </tr>\n",
       "    <tr>\n",
       "      <td>20</td>\n",
       "      <td>0.258226</td>\n",
       "      <td>0.270615</td>\n",
       "      <td>0.888579</td>\n",
       "      <td>0.877567</td>\n",
       "      <td>00:03</td>\n",
       "    </tr>\n",
       "    <tr>\n",
       "      <td>21</td>\n",
       "      <td>0.248101</td>\n",
       "      <td>0.228881</td>\n",
       "      <td>0.920149</td>\n",
       "      <td>0.911135</td>\n",
       "      <td>00:03</td>\n",
       "    </tr>\n",
       "    <tr>\n",
       "      <td>22</td>\n",
       "      <td>0.236445</td>\n",
       "      <td>0.216323</td>\n",
       "      <td>0.917363</td>\n",
       "      <td>0.907605</td>\n",
       "      <td>00:03</td>\n",
       "    </tr>\n",
       "    <tr>\n",
       "      <td>23</td>\n",
       "      <td>0.225656</td>\n",
       "      <td>0.260665</td>\n",
       "      <td>0.909935</td>\n",
       "      <td>0.899835</td>\n",
       "      <td>00:03</td>\n",
       "    </tr>\n",
       "    <tr>\n",
       "      <td>24</td>\n",
       "      <td>0.215337</td>\n",
       "      <td>0.222231</td>\n",
       "      <td>0.922006</td>\n",
       "      <td>0.913761</td>\n",
       "      <td>00:02</td>\n",
       "    </tr>\n",
       "    <tr>\n",
       "      <td>25</td>\n",
       "      <td>0.207813</td>\n",
       "      <td>0.265849</td>\n",
       "      <td>0.890436</td>\n",
       "      <td>0.881019</td>\n",
       "      <td>00:02</td>\n",
       "    </tr>\n",
       "    <tr>\n",
       "      <td>26</td>\n",
       "      <td>0.205258</td>\n",
       "      <td>0.249146</td>\n",
       "      <td>0.917363</td>\n",
       "      <td>0.909361</td>\n",
       "      <td>00:03</td>\n",
       "    </tr>\n",
       "    <tr>\n",
       "      <td>27</td>\n",
       "      <td>0.199176</td>\n",
       "      <td>0.265447</td>\n",
       "      <td>0.886722</td>\n",
       "      <td>0.875829</td>\n",
       "      <td>00:03</td>\n",
       "    </tr>\n",
       "    <tr>\n",
       "      <td>28</td>\n",
       "      <td>0.190215</td>\n",
       "      <td>0.235558</td>\n",
       "      <td>0.915506</td>\n",
       "      <td>0.906275</td>\n",
       "      <td>00:03</td>\n",
       "    </tr>\n",
       "    <tr>\n",
       "      <td>29</td>\n",
       "      <td>0.181851</td>\n",
       "      <td>0.314101</td>\n",
       "      <td>0.881151</td>\n",
       "      <td>0.869878</td>\n",
       "      <td>00:03</td>\n",
       "    </tr>\n",
       "    <tr>\n",
       "      <td>30</td>\n",
       "      <td>0.177596</td>\n",
       "      <td>0.246425</td>\n",
       "      <td>0.919220</td>\n",
       "      <td>0.909923</td>\n",
       "      <td>00:03</td>\n",
       "    </tr>\n",
       "    <tr>\n",
       "      <td>31</td>\n",
       "      <td>0.171872</td>\n",
       "      <td>0.259610</td>\n",
       "      <td>0.920149</td>\n",
       "      <td>0.911252</td>\n",
       "      <td>00:03</td>\n",
       "    </tr>\n",
       "  </tbody>\n",
       "</table>"
      ],
      "text/plain": [
       "<IPython.core.display.HTML object>"
      ]
     },
     "metadata": {},
     "output_type": "display_data"
    },
    {
     "name": "stdout",
     "output_type": "stream",
     "text": [
      "Better model found at epoch 0 with f1_score value: 0.5171399367413458.\n"
     ]
    },
    {
     "data": {
      "image/png": "[encoded data removed]",
      "text/plain": [
       "<Figure size 432x288 with 1 Axes>"
      ]
     },
     "metadata": {},
     "output_type": "display_data"
    },
    {
     "name": "stdout",
     "output_type": "stream",
     "text": [
      "Better model found at epoch 1 with f1_score value: 0.6009619380038229.\n",
      "Better model found at epoch 2 with f1_score value: 0.7867257283625517.\n",
      "Better model found at epoch 3 with f1_score value: 0.8505155901731697.\n",
      "Better model found at epoch 4 with f1_score value: 0.8667127725403123.\n",
      "Better model found at epoch 5 with f1_score value: 0.8926504411300307.\n",
      "Better model found at epoch 6 with f1_score value: 0.9017990673313098.\n",
      "Better model found at epoch 8 with f1_score value: 0.9069151334776335.\n",
      "Better model found at epoch 10 with f1_score value: 0.907948717948718.\n",
      "Better model found at epoch 11 with f1_score value: 0.9195073434721286.\n",
      "No improvement since epoch 11: early stopping\n"
     ]
    }
   ],
   "source": [
    "learn_class.fit_one_cycle(\n",
    "    100,\n",
    "    lr_max=float(suggested_lr.valley),\n",
    "    cbs=[\n",
    "        ShowGraphCallback(),\n",
    "        SaveModelCallback(monitor=\"f1_score\"),\n",
    "        EarlyStoppingCallback(monitor=\"f1_score\", patience=20),\n",
    "    ],\n",
    ")"
   ]
  },
  {
   "cell_type": "markdown",
   "metadata": {
    "id": "TVlWfVVwunCm"
   },
   "source": [
    "We can save our model progress along the way. This means if we mess up later and make the model worse we can go back to an early version. "
   ]
  },
  {
   "cell_type": "code",
   "execution_count": null,
   "metadata": {
    "colab": {
     "base_uri": "https://localhost:8080/"
    },
    "id": "qfC9XuPZ19-t",
    "outputId": "cce407d4-9fa7-4c29-eda2-589a6bc2ada7"
   },
   "outputs": [
    {
     "data": {
      "text/plain": [
       "Path('models/stage-1.pth')"
      ]
     },
     "execution_count": null,
     "metadata": {},
     "output_type": "execute_result"
    }
   ],
   "source": [
    "learn_class.save(\"stage-1\")"
   ]
  },
  {
   "cell_type": "code",
   "execution_count": null,
   "metadata": {
    "colab": {
     "base_uri": "https://localhost:8080/"
    },
    "id": "6H0CCTOz3Ion",
    "outputId": "9070acaf-5efb-4cd4-a1bd-5c41247733eb"
   },
   "outputs": [
    {
     "data": {
      "text/plain": [
       "<fastai.text.learner.TextLearner at 0x7fe213f06f50>"
      ]
     },
     "execution_count": null,
     "metadata": {},
     "output_type": "execute_result"
    }
   ],
   "source": [
    "learn_class.load(\"stage-1\")"
   ]
  },
  {
   "cell_type": "markdown",
   "metadata": {
    "id": "JaLvWvHa_Cxe"
   },
   "source": [
    "Again we can 'unfreeze' the model to train all layers of the model. We'll use `lr_find` to suggest a learning rate for when our model is unfrozen. "
   ]
  },
  {
   "cell_type": "code",
   "execution_count": null,
   "metadata": {
    "colab": {
     "base_uri": "https://localhost:8080/",
     "height": 283
    },
    "id": "9zME1UZHs--1",
    "outputId": "0919e5ec-3a9b-4312-d67c-636ce9a689b9"
   },
   "outputs": [
    {
     "data": {
      "text/html": [],
      "text/plain": [
       "<IPython.core.display.HTML object>"
      ]
     },
     "metadata": {},
     "output_type": "display_data"
    },
    {
     "data": {
      "image/png": "[encoded data removed]",
      "text/plain": [
       "<Figure size 432x288 with 1 Axes>"
      ]
     },
     "metadata": {
      "needs_background": "light"
     },
     "output_type": "display_data"
    }
   ],
   "source": [
    "learn_class.unfreeze()\n",
    "suggested_lr = learn_class.lr_find()"
   ]
  },
  {
   "cell_type": "markdown",
   "metadata": {
    "id": "KnMAPV-A_Cxf"
   },
   "source": [
    "Again we use a slightly YOLO approach to training and train for 40 epochs. We do make sure to save our best model and stop early if we don't improve. "
   ]
  },
  {
   "cell_type": "code",
   "execution_count": null,
   "metadata": {
    "colab": {
     "base_uri": "https://localhost:8080/",
     "height": 1000
    },
    "id": "1l404x-92oI7",
    "jupyter": {
     "outputs_hidden": true
    },
    "outputId": "da89a2ab-4960-42f7-9f81-883a754339c0",
    "tags": [
     "hide-output"
    ]
   },
   "outputs": [
    {
     "data": {
      "text/html": [
       "<table border=\"1\" class=\"dataframe\">\n",
       "  <thead>\n",
       "    <tr style=\"text-align: left;\">\n",
       "      <th>epoch</th>\n",
       "      <th>train_loss</th>\n",
       "      <th>valid_loss</th>\n",
       "      <th>accuracy</th>\n",
       "      <th>f1_score</th>\n",
       "      <th>time</th>\n",
       "    </tr>\n",
       "  </thead>\n",
       "  <tbody>\n",
       "    <tr>\n",
       "      <td>0</td>\n",
       "      <td>0.295892</td>\n",
       "      <td>0.232815</td>\n",
       "      <td>0.922006</td>\n",
       "      <td>0.914085</td>\n",
       "      <td>00:03</td>\n",
       "    </tr>\n",
       "    <tr>\n",
       "      <td>1</td>\n",
       "      <td>0.294546</td>\n",
       "      <td>0.238351</td>\n",
       "      <td>0.913649</td>\n",
       "      <td>0.905402</td>\n",
       "      <td>00:03</td>\n",
       "    </tr>\n",
       "    <tr>\n",
       "      <td>2</td>\n",
       "      <td>0.289235</td>\n",
       "      <td>0.229033</td>\n",
       "      <td>0.920149</td>\n",
       "      <td>0.912149</td>\n",
       "      <td>00:03</td>\n",
       "    </tr>\n",
       "    <tr>\n",
       "      <td>3</td>\n",
       "      <td>0.283422</td>\n",
       "      <td>0.228210</td>\n",
       "      <td>0.920149</td>\n",
       "      <td>0.912149</td>\n",
       "      <td>00:03</td>\n",
       "    </tr>\n",
       "    <tr>\n",
       "      <td>4</td>\n",
       "      <td>0.283902</td>\n",
       "      <td>0.223157</td>\n",
       "      <td>0.916435</td>\n",
       "      <td>0.907718</td>\n",
       "      <td>00:03</td>\n",
       "    </tr>\n",
       "    <tr>\n",
       "      <td>5</td>\n",
       "      <td>0.279701</td>\n",
       "      <td>0.234657</td>\n",
       "      <td>0.919220</td>\n",
       "      <td>0.911398</td>\n",
       "      <td>00:03</td>\n",
       "    </tr>\n",
       "    <tr>\n",
       "      <td>6</td>\n",
       "      <td>0.273055</td>\n",
       "      <td>0.229389</td>\n",
       "      <td>0.923863</td>\n",
       "      <td>0.916338</td>\n",
       "      <td>00:03</td>\n",
       "    </tr>\n",
       "    <tr>\n",
       "      <td>7</td>\n",
       "      <td>0.264773</td>\n",
       "      <td>0.230474</td>\n",
       "      <td>0.918292</td>\n",
       "      <td>0.910216</td>\n",
       "      <td>00:03</td>\n",
       "    </tr>\n",
       "    <tr>\n",
       "      <td>8</td>\n",
       "      <td>0.258779</td>\n",
       "      <td>0.220282</td>\n",
       "      <td>0.919220</td>\n",
       "      <td>0.911182</td>\n",
       "      <td>00:03</td>\n",
       "    </tr>\n",
       "    <tr>\n",
       "      <td>9</td>\n",
       "      <td>0.250745</td>\n",
       "      <td>0.222746</td>\n",
       "      <td>0.922934</td>\n",
       "      <td>0.915265</td>\n",
       "      <td>00:03</td>\n",
       "    </tr>\n",
       "    <tr>\n",
       "      <td>10</td>\n",
       "      <td>0.239230</td>\n",
       "      <td>0.237207</td>\n",
       "      <td>0.922006</td>\n",
       "      <td>0.914608</td>\n",
       "      <td>00:03</td>\n",
       "    </tr>\n",
       "    <tr>\n",
       "      <td>11</td>\n",
       "      <td>0.228338</td>\n",
       "      <td>0.215520</td>\n",
       "      <td>0.924791</td>\n",
       "      <td>0.917804</td>\n",
       "      <td>00:03</td>\n",
       "    </tr>\n",
       "    <tr>\n",
       "      <td>12</td>\n",
       "      <td>0.217250</td>\n",
       "      <td>0.220057</td>\n",
       "      <td>0.917363</td>\n",
       "      <td>0.909579</td>\n",
       "      <td>00:03</td>\n",
       "    </tr>\n",
       "    <tr>\n",
       "      <td>13</td>\n",
       "      <td>0.208120</td>\n",
       "      <td>0.233237</td>\n",
       "      <td>0.909006</td>\n",
       "      <td>0.900844</td>\n",
       "      <td>00:03</td>\n",
       "    </tr>\n",
       "    <tr>\n",
       "      <td>14</td>\n",
       "      <td>0.202282</td>\n",
       "      <td>0.225658</td>\n",
       "      <td>0.922006</td>\n",
       "      <td>0.914192</td>\n",
       "      <td>00:03</td>\n",
       "    </tr>\n",
       "    <tr>\n",
       "      <td>15</td>\n",
       "      <td>0.193799</td>\n",
       "      <td>0.216018</td>\n",
       "      <td>0.914578</td>\n",
       "      <td>0.905786</td>\n",
       "      <td>00:03</td>\n",
       "    </tr>\n",
       "    <tr>\n",
       "      <td>16</td>\n",
       "      <td>0.183809</td>\n",
       "      <td>0.211258</td>\n",
       "      <td>0.917363</td>\n",
       "      <td>0.909361</td>\n",
       "      <td>00:03</td>\n",
       "    </tr>\n",
       "    <tr>\n",
       "      <td>17</td>\n",
       "      <td>0.175041</td>\n",
       "      <td>0.215968</td>\n",
       "      <td>0.920149</td>\n",
       "      <td>0.912149</td>\n",
       "      <td>00:03</td>\n",
       "    </tr>\n",
       "    <tr>\n",
       "      <td>18</td>\n",
       "      <td>0.166846</td>\n",
       "      <td>0.218272</td>\n",
       "      <td>0.917363</td>\n",
       "      <td>0.909686</td>\n",
       "      <td>00:03</td>\n",
       "    </tr>\n",
       "    <tr>\n",
       "      <td>19</td>\n",
       "      <td>0.159968</td>\n",
       "      <td>0.229567</td>\n",
       "      <td>0.918292</td>\n",
       "      <td>0.910858</td>\n",
       "      <td>00:03</td>\n",
       "    </tr>\n",
       "    <tr>\n",
       "      <td>20</td>\n",
       "      <td>0.152546</td>\n",
       "      <td>0.220330</td>\n",
       "      <td>0.914578</td>\n",
       "      <td>0.906475</td>\n",
       "      <td>00:03</td>\n",
       "    </tr>\n",
       "    <tr>\n",
       "      <td>21</td>\n",
       "      <td>0.147370</td>\n",
       "      <td>0.230851</td>\n",
       "      <td>0.916435</td>\n",
       "      <td>0.909044</td>\n",
       "      <td>00:03</td>\n",
       "    </tr>\n",
       "  </tbody>\n",
       "</table>"
      ],
      "text/plain": [
       "<IPython.core.display.HTML object>"
      ]
     },
     "metadata": {},
     "output_type": "display_data"
    },
    {
     "name": "stdout",
     "output_type": "stream",
     "text": [
      "Better model found at epoch 0 with f1_score value: 0.91408547008547.\n"
     ]
    },
    {
     "data": {
      "image/png": "[encoded data removed]",
      "text/plain": [
       "<Figure size 432x288 with 1 Axes>"
      ]
     },
     "metadata": {},
     "output_type": "display_data"
    },
    {
     "name": "stdout",
     "output_type": "stream",
     "text": [
      "Epoch 4: reducing lr to 2.4287370138544e-05\n",
      "Better model found at epoch 6 with f1_score value: 0.916337627889352.\n",
      "Epoch 10: reducing lr to 4.775283508704886e-05\n",
      "Better model found at epoch 11 with f1_score value: 0.9178043083556245.\n",
      "Epoch 15: reducing lr to 4.341455859128301e-05\n",
      "Epoch 19: reducing lr to 3.607777952852039e-05\n",
      "No improvement since epoch 11: early stopping\n"
     ]
    }
   ],
   "source": [
    "learn_class.fit_one_cycle(\n",
    "    40,\n",
    "    lr_max=slice(float(suggested_lr.valley)),\n",
    "    cbs=[\n",
    "        ShowGraphCallback(),\n",
    "        SaveModelCallback(monitor=\"f1_score\"),\n",
    "        ReduceLROnPlateau(patience=4, monitor=\"f1_score\"),\n",
    "        EarlyStoppingCallback(monitor=\"f1_score\", patience=10),\n",
    "    ],\n",
    ")"
   ]
  },
  {
   "cell_type": "code",
   "execution_count": null,
   "metadata": {
    "colab": {
     "base_uri": "https://localhost:8080/"
    },
    "id": "xGJU4F9929wq",
    "outputId": "8128edf8-2b4f-4f87-fc08-19ec691caf58"
   },
   "outputs": [
    {
     "data": {
      "text/plain": [
       "Path('models/stage-2.pth')"
      ]
     },
     "execution_count": null,
     "metadata": {},
     "output_type": "execute_result"
    }
   ],
   "source": [
    "learn_class.save(\"stage-2\")"
   ]
  },
  {
   "cell_type": "markdown",
   "metadata": {
    "id": "kPjrpxHplaeL"
   },
   "source": [
    "### Look at our results \n",
    "\n",
    "We'll now look at our results. We can use `get_preds` to return predictions. If we don't pass anything to this method it will use the validation data. We store predictions in `y_pred`, we also get back our labels which we'll store in `y_true`"
   ]
  },
  {
   "cell_type": "code",
   "execution_count": null,
   "metadata": {
    "colab": {
     "base_uri": "https://localhost:8080/",
     "height": 17
    },
    "id": "jzQGI7xlSzQ3",
    "outputId": "a4780fa6-600c-4421-bdda-8d5181ce0f42"
   },
   "outputs": [
    {
     "data": {
      "text/html": [],
      "text/plain": [
       "<IPython.core.display.HTML object>"
      ]
     },
     "metadata": {},
     "output_type": "display_data"
    }
   ],
   "source": [
    "_, y_pred, y_true = learn_class.get_preds(with_decoded=True)"
   ]
  },
  {
   "cell_type": "markdown",
   "metadata": {
    "id": "ypRs2379_Cxg"
   },
   "source": [
    "We can use these predictions to get various metrics, for example using the metrics from scikit-learn. "
   ]
  },
  {
   "cell_type": "code",
   "execution_count": null,
   "metadata": {
    "id": "BmsTTAQumi8C"
   },
   "outputs": [],
   "source": [
    "from sklearn.metrics import f1_score, classification_report, accuracy_score"
   ]
  },
  {
   "cell_type": "code",
   "execution_count": null,
   "metadata": {
    "colab": {
     "base_uri": "https://localhost:8080/"
    },
    "id": "3scS_hYummpX",
    "outputId": "ba5712f2-88f2-483e-d32e-a27588c23e19"
   },
   "outputs": [
    {
     "data": {
      "text/plain": [
       "0.94176851186197"
      ]
     },
     "execution_count": null,
     "metadata": {},
     "output_type": "execute_result"
    }
   ],
   "source": [
    "f1_score(y_pred, y_true)"
   ]
  },
  {
   "cell_type": "markdown",
   "metadata": {
    "id": "i0T08zqC_Cxg"
   },
   "source": [
    "```{note}\n",
    "You will probably notice that this score is different from the score we got in our training. This is because we use a different variant of f1 score.\n",
    "```"
   ]
  },
  {
   "cell_type": "markdown",
   "metadata": {
    "id": "sgyDQnRbwrPy"
   },
   "source": [
    "#### How are we doing by label?\n",
    "\n",
    "Often we want to know our performance by label. We can use `classification report` to give us a breakdown. This can be very helpful because the overall metric can hide poor performance on a particular label. "
   ]
  },
  {
   "cell_type": "code",
   "execution_count": null,
   "metadata": {
    "colab": {
     "base_uri": "https://localhost:8080/"
    },
    "id": "fWxue2Slm00m",
    "outputId": "54f19385-78e8-4626-808b-db661afc5314"
   },
   "outputs": [
    {
     "name": "stdout",
     "output_type": "stream",
     "text": [
      "              precision    recall  f1-score   support\n",
      "\n",
      "     Fiction       0.90      0.89      0.89       384\n",
      " Non-fiction       0.94      0.95      0.94       693\n",
      "\n",
      "    accuracy                           0.92      1077\n",
      "   macro avg       0.92      0.92      0.92      1077\n",
      "weighted avg       0.92      0.92      0.92      1077\n",
      "\n"
     ]
    }
   ],
   "source": [
    "print(classification_report(y_true, y_pred, target_names=learn_class.dls.vocab[1]))"
   ]
  },
  {
   "cell_type": "markdown",
   "metadata": {
    "id": "jqJya0WElqdo",
    "tags": []
   },
   "source": [
    "## Testing on new data 😬\n",
    "\n",
    "We may be quite confident in our predictions based on the above score but it's often a good idea to be skeptical and about your performance metrics on the data we have for training. \n",
    "\n",
    "### Data drift 😅\n",
    "\n",
    "One potential challenge facing us when we want to apply machine learning to a particular collection is data drift. Data drift occurs when distribution of our training data differs from the distribution of the data we are predicting against. Or put in simpler terms the data we predict against doesn't quite look the same as the data our model was trained on. This shift could be subtle or it could be quite drastic. In our particular case we could think about a number of things being particularly important differences. \n",
    "\n",
    "#### Language \n",
    "\n",
    "From the discussion of generating the training data as part of the Zooniverse crowdsourcing task we know that there was a choice available to participants about the language the annotated. This means we can't necessarily assume that the languages which appear in our training data will be distributed in the same way as in the data we predict on. If our model has mainly seen English, French and Dutch, examples in the training data it might do better on those languages. The model may even do okay on German examples because of some language similarities to Dutch, but we would probably not expect it to do well on Russian book titles. We might be happy to only have predictions work well for some languages but we need to be aware of the potential limitations for the model on other languages. \n",
    "\n",
    "#### Time period\n",
    "\n",
    "The time period covered by our data is both large, and skewed. This means if we randomly sample from the full dataset we will have less examples of book titles from earlier periods. This might mean our model performs less well on book titles from earlier periods. There are various ways we could try and deal with this, and how we try and deal with this possible issue depends on *what* we are trying to achieve. In the Living with Machines case, we mainly care about 19th Century books so if the model sucks at 16th Century book titles we probably don't mind. If we want to use this model to update all catalogue records we definitely need to keep this in mind. \n",
    "\n",
    "#### Hard examples\n",
    "\n",
    "This is a bit of a meta one but essentially we might want to worry a little bit about whether some book titles are hard to classify as fiction or non-fiction (for our human annotators). Most annotation tools/tasks allow annotators to skip a task if they are unsure. This might result in our training data missing many 'hard' examples. Our model in turn will therefore be trained on 'easier' titles and not on 'harder' examples. When the model is making predictions it may do worse on these 'hard' examples. "
   ]
  },
  {
   "cell_type": "markdown",
   "metadata": {
    "id": "KBG1sfT3hsf5"
   },
   "source": [
    "To help alleviate our anxiety we'll quickly check our performance on some test data which was randomly sampled from our metadata. We'll discuss this more in the next chapter/notebook. For now we'll load this data in a CSV and use this to test our model. "
   ]
  },
  {
   "cell_type": "code",
   "execution_count": null,
   "metadata": {
    "id": "DNA-6z7EFxb9"
   },
   "outputs": [],
   "source": [
    "# TODO update with final version of data\n",
    "df_test = pd.read_csv(\"test_errors.csv\")"
   ]
  },
  {
   "cell_type": "markdown",
   "metadata": {
    "id": "vi50MaKH_Cxi"
   },
   "source": [
    "We'll grab the columns we want"
   ]
  },
  {
   "cell_type": "code",
   "execution_count": null,
   "metadata": {
    "id": "PFHrUU4CwQ_2"
   },
   "outputs": [],
   "source": [
    "df_test = df_test[[\"title\", \"true_label\"]]"
   ]
  },
  {
   "cell_type": "markdown",
   "metadata": {
    "id": "k950g-QrHtke"
   },
   "source": [
    "We get rid of any rows where we don't have an annotation"
   ]
  },
  {
   "cell_type": "code",
   "execution_count": null,
   "metadata": {
    "id": "ETSvu42zGAri"
   },
   "outputs": [],
   "source": [
    "df_test = df_test.dropna(subset=[\"true_label\"]).copy()"
   ]
  },
  {
   "cell_type": "code",
   "execution_count": null,
   "metadata": {
    "id": "r_ll12yDLq0X"
   },
   "outputs": [],
   "source": [
    "df_test = df_test[df_test.true_label.isin({\"non_fiction\", \"fiction\"})]"
   ]
  },
  {
   "cell_type": "code",
   "execution_count": null,
   "metadata": {
    "id": "zOjW4DtDDMB8"
   },
   "outputs": [],
   "source": [
    "test_data = learn_class.dls.test_dl(df_test.loc[:, \"title\"])"
   ]
  },
  {
   "cell_type": "code",
   "execution_count": null,
   "metadata": {
    "colab": {
     "base_uri": "https://localhost:8080/",
     "height": 17
    },
    "id": "aAFMhKXZo-Qt",
    "outputId": "a51a6e6e-d135-4dbe-92d3-cc3b7791f600"
   },
   "outputs": [
    {
     "data": {
      "text/html": [],
      "text/plain": [
       "<IPython.core.display.HTML object>"
      ]
     },
     "metadata": {},
     "output_type": "display_data"
    }
   ],
   "source": [
    "preds = learn_class.get_preds(dl=test_data)"
   ]
  },
  {
   "cell_type": "code",
   "execution_count": null,
   "metadata": {
    "id": "3v-4ZIlhhsf6"
   },
   "outputs": [],
   "source": [
    "probs = preds[0]"
   ]
  },
  {
   "cell_type": "code",
   "execution_count": null,
   "metadata": {
    "id": "1u2sB0mQhsf7"
   },
   "outputs": [],
   "source": [
    "predictions = probs.argmax(1)"
   ]
  },
  {
   "cell_type": "code",
   "execution_count": null,
   "metadata": {
    "id": "-seUZWBthsf7"
   },
   "outputs": [],
   "source": [
    "true_labels = df_test.true_label.astype(\"category\").cat.codes"
   ]
  },
  {
   "cell_type": "markdown",
   "metadata": {
    "id": "VNjl2U4PHtkk"
   },
   "source": [
    "We now print out a classification report showing the result on our test data"
   ]
  },
  {
   "cell_type": "code",
   "execution_count": null,
   "metadata": {
    "colab": {
     "base_uri": "https://localhost:8080/"
    },
    "id": "CUsdep8BkA3x",
    "outputId": "028785e1-a81c-40df-cdd7-35933b688ee9"
   },
   "outputs": [
    {
     "name": "stdout",
     "output_type": "stream",
     "text": [
      "              precision    recall  f1-score   support\n",
      "\n",
      "     Fiction       0.83      0.94      0.88       296\n",
      " Non-fiction       0.97      0.90      0.93       554\n",
      "\n",
      "    accuracy                           0.91       850\n",
      "   macro avg       0.90      0.92      0.91       850\n",
      "weighted avg       0.92      0.91      0.91       850\n",
      "\n"
     ]
    }
   ],
   "source": [
    "print(\n",
    "    classification_report(\n",
    "        true_labels,\n",
    "        predictions,\n",
    "        target_names=learn_class.dls.vocab[1],\n",
    "    )\n",
    ")"
   ]
  },
  {
   "cell_type": "code",
   "execution_count": null,
   "metadata": {
    "id": "fqilqvnTGGOr"
   },
   "outputs": [],
   "source": [
    "df_test[\"model_preds\"] = preds[0].argmax(1)"
   ]
  },
  {
   "cell_type": "code",
   "execution_count": null,
   "metadata": {
    "colab": {
     "base_uri": "https://localhost:8080/"
    },
    "id": "alYtUHaYGvt4",
    "outputId": "29c377ca-b873-4e7a-80a5-bc22849c66d8"
   },
   "outputs": [
    {
     "data": {
      "text/plain": [
       "0      1\n",
       "1      1\n",
       "2      0\n",
       "3      1\n",
       "4      1\n",
       "      ..\n",
       "994    0\n",
       "995    0\n",
       "996    0\n",
       "997    0\n",
       "998    1\n",
       "Name: model_preds, Length: 850, dtype: int64"
      ]
     },
     "execution_count": null,
     "metadata": {},
     "output_type": "execute_result"
    }
   ],
   "source": [
    "df_test[\"model_preds\"]"
   ]
  },
  {
   "cell_type": "code",
   "execution_count": null,
   "metadata": {
    "colab": {
     "base_uri": "https://localhost:8080/"
    },
    "id": "zqjJJwsgGGMM",
    "outputId": "9d11d3b1-d285-4106-c39a-0a5d06436cfa"
   },
   "outputs": [
    {
     "data": {
      "text/plain": [
       "['Fiction', 'Non-fiction']"
      ]
     },
     "execution_count": null,
     "metadata": {},
     "output_type": "execute_result"
    }
   ],
   "source": [
    "learn_class.dls.vocab[1]"
   ]
  },
  {
   "cell_type": "markdown",
   "metadata": {
    "id": "EC-WZ5WrHtkl"
   },
   "source": [
    "We want to explore how our model is working, and where systematic mistakes might be happening. To get ready for doing this we'll prepare a CSV which contains both our model predictions and the corrected label. We'll use this in a later notebook. "
   ]
  },
  {
   "cell_type": "code",
   "execution_count": null,
   "metadata": {
    "id": "Whxj26zyGGJm"
   },
   "outputs": [],
   "source": [
    "df_test[\"model_preds\"] = df_test[\"model_preds\"].replace(\n",
    "    {0: \"fiction\", 1: \"non_fiction\"}\n",
    ")"
   ]
  },
  {
   "cell_type": "code",
   "execution_count": null,
   "metadata": {
    "id": "ViX6Is4fGGG0"
   },
   "outputs": [],
   "source": [
    "df_test.to_csv(\"model-1-test-preds.csv\", index=False)"
   ]
  },
  {
   "cell_type": "code",
   "execution_count": null,
   "metadata": {
    "colab": {
     "base_uri": "https://localhost:8080/",
     "height": 441
    },
    "id": "t4qIanxOGGEF",
    "outputId": "8eba5114-8d80-4bab-9e5d-09857e37de1a",
    "tags": []
   },
   "outputs": [
    {
     "data": {
      "text/html": [
       "<div>\n",
       "<style scoped>\n",
       "    .dataframe tbody tr th:only-of-type {\n",
       "        vertical-align: middle;\n",
       "    }\n",
       "\n",
       "    .dataframe tbody tr th {\n",
       "        vertical-align: top;\n",
       "    }\n",
       "\n",
       "    .dataframe thead th {\n",
       "        text-align: right;\n",
       "    }\n",
       "</style>\n",
       "<table border=\"1\" class=\"dataframe\">\n",
       "  <thead>\n",
       "    <tr style=\"text-align: right;\">\n",
       "      <th></th>\n",
       "      <th>title</th>\n",
       "      <th>true_label</th>\n",
       "      <th>model_preds</th>\n",
       "    </tr>\n",
       "  </thead>\n",
       "  <tbody>\n",
       "    <tr>\n",
       "      <th>0</th>\n",
       "      <td>['The Memorial History of the City of New York from its first settlement to the year, 1892. Edited by J. G. Wilson. [With illustrations.]']</td>\n",
       "      <td>non_fiction</td>\n",
       "      <td>non_fiction</td>\n",
       "    </tr>\n",
       "    <tr>\n",
       "      <th>1</th>\n",
       "      <td>['Историческая Хрестоматія по Русской исторіи ... Составлена Я. Г. Гуревичемъ и Б. А. Павловичемъ ... Изданіе второе ... дополненное Я. Гуревичемъ. Часть 1, 2']</td>\n",
       "      <td>non_fiction</td>\n",
       "      <td>non_fiction</td>\n",
       "    </tr>\n",
       "    <tr>\n",
       "      <th>2</th>\n",
       "      <td>['Colville of the Guards']</td>\n",
       "      <td>fiction</td>\n",
       "      <td>fiction</td>\n",
       "    </tr>\n",
       "    <tr>\n",
       "      <th>3</th>\n",
       "      <td>['A treatise on Inflammation. [With plates.]']</td>\n",
       "      <td>non_fiction</td>\n",
       "      <td>non_fiction</td>\n",
       "    </tr>\n",
       "    <tr>\n",
       "      <th>4</th>\n",
       "      <td>['Borys: ustęp z dziejów dwunastego wieku. (Odbitka z “Przewodnika naukowego i literackiego.”)']</td>\n",
       "      <td>non_fiction</td>\n",
       "      <td>non_fiction</td>\n",
       "    </tr>\n",
       "    <tr>\n",
       "      <th>...</th>\n",
       "      <td>...</td>\n",
       "      <td>...</td>\n",
       "      <td>...</td>\n",
       "    </tr>\n",
       "    <tr>\n",
       "      <th>994</th>\n",
       "      <td>[\"Sidney Cooper's Comic Pantomime, Dick Whittington and his Cat. Christmas, 1886-7\"]</td>\n",
       "      <td>fiction</td>\n",
       "      <td>fiction</td>\n",
       "    </tr>\n",
       "    <tr>\n",
       "      <th>995</th>\n",
       "      <td>['Helga: a poem in seven Cantos. [With notes and an appendix.]']</td>\n",
       "      <td>fiction</td>\n",
       "      <td>fiction</td>\n",
       "    </tr>\n",
       "    <tr>\n",
       "      <th>996</th>\n",
       "      <td>['The Geological Observer']</td>\n",
       "      <td>non_fiction</td>\n",
       "      <td>fiction</td>\n",
       "    </tr>\n",
       "    <tr>\n",
       "      <th>997</th>\n",
       "      <td>['Lays of Far Cathay and others. A collection of original poems. By “Tung Chia.” Illustrations by H. H']</td>\n",
       "      <td>fiction</td>\n",
       "      <td>fiction</td>\n",
       "    </tr>\n",
       "    <tr>\n",
       "      <th>998</th>\n",
       "      <td>['Up the Amazon and Madeira Rivers, through Bolivia and Peru']</td>\n",
       "      <td>non_fiction</td>\n",
       "      <td>non_fiction</td>\n",
       "    </tr>\n",
       "  </tbody>\n",
       "</table>\n",
       "<p>850 rows × 3 columns</p>\n",
       "</div>"
      ],
      "text/plain": [
       "                                                                                                                                                                title  ...  model_preds\n",
       "0                         ['The Memorial History of the City of New York from its first settlement to the year, 1892. Edited by J. G. Wilson. [With illustrations.]']  ...  non_fiction\n",
       "1    ['Историческая Хрестоматія по Русской исторіи ... Составлена Я. Г. Гуревичемъ и Б. А. Павловичемъ ... Изданіе второе ... дополненное Я. Гуревичемъ. Часть 1, 2']  ...  non_fiction\n",
       "2                                                                                                                                          ['Colville of the Guards']  ...      fiction\n",
       "3                                                                                                                      ['A treatise on Inflammation. [With plates.]']  ...  non_fiction\n",
       "4                                                                  ['Borys: ustęp z dziejów dwunastego wieku. (Odbitka z “Przewodnika naukowego i literackiego.”)']  ...  non_fiction\n",
       "..                                                                                                                                                                ...  ...          ...\n",
       "994                                                                              [\"Sidney Cooper's Comic Pantomime, Dick Whittington and his Cat. Christmas, 1886-7\"]  ...      fiction\n",
       "995                                                                                                  ['Helga: a poem in seven Cantos. [With notes and an appendix.]']  ...      fiction\n",
       "996                                                                                                                                       ['The Geological Observer']  ...      fiction\n",
       "997                                                          ['Lays of Far Cathay and others. A collection of original poems. By “Tung Chia.” Illustrations by H. H']  ...      fiction\n",
       "998                                                                                                    ['Up the Amazon and Madeira Rivers, through Bolivia and Peru']  ...  non_fiction\n",
       "\n",
       "[850 rows x 3 columns]"
      ]
     },
     "execution_count": null,
     "metadata": {},
     "output_type": "execute_result"
    }
   ],
   "source": [
    "df_test"
   ]
  },
  {
   "cell_type": "markdown",
   "metadata": {
    "id": "vQwxaezhhsf9"
   },
   "source": [
    "## Saving model \n",
    "\n",
    "We can save our model and it's associated data loading steps easily using the fastai `export` method. This will allow us to re-use this model later if we want or to share it with others. "
   ]
  },
  {
   "cell_type": "code",
   "execution_count": null,
   "metadata": {
    "id": "q_LCnr--GS5N"
   },
   "outputs": [],
   "source": [
    "learn_class.export(\"20210928-model.pkl\")"
   ]
  },
  {
   "cell_type": "markdown",
   "metadata": {
    "id": "X-BnvShahsf9"
   },
   "source": [
    "## Conclusion and next steps"
   ]
  },
  {
   "cell_type": "markdown",
   "metadata": {
    "id": "aqKGPZbyhsf-"
   },
   "source": [
    "In the next section we will look into our model results in some more detail and see what we can do to improve our results further. "
   ]
  },
  {
   "cell_type": "markdown",
   "metadata": {
    "id": "V_w2wPy7SXKC"
   },
   "source": [
    ":::{note}\n",
    "The main things we tried to show in this notebook:\n",
    "- the process of creating a deep learning model for predicting if a book title is 'fiction' or 'non-fiction'. \n",
    "- the importance of creating good validation data when developing models. \n",
    "- the potential for our models performance to be lower on new unseen data and why a test set can help identify this potential risk.\n",
    ":::"
   ]
  }
 ],
 "metadata": {
  "accelerator": "GPU",
  "colab": {
   "collapsed_sections": [],
   "machine_shape": "hm",
   "name": "01_BL_fiction_non_fiction.ipynb",
   "provenance": []
  },
  "kernelspec": {
   "display_name": "Python 3 (ipykernel)",
   "language": "python",
   "name": "python3"
  },
  "language_info": {
   "codemirror_mode": {
    "name": "ipython",
    "version": 3
   },
   "file_extension": ".py",
   "mimetype": "text/x-python",
   "name": "python",
   "nbconvert_exporter": "python",
   "pygments_lexer": "ipython3",
   "version": "3.8.12"
  }
 },
 "nbformat": 4,
 "nbformat_minor": 4
}
