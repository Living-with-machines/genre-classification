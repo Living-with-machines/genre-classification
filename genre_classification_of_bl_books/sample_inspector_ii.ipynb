{
 "cells": [
  {
   "cell_type": "markdown",
   "metadata": {
    "id": "tXis3tfFTNcG"
   },
   "source": [
    "# Sample Inspector (Part II)\n",
    "\n"
   ]
  },
  {
   "cell_type": "markdown",
   "metadata": {
    "id": "NJJnti00TNcJ"
   },
   "source": [
    "This notebook compares BL books to the genre annotations. We'd like to know if the annotated sample deviates from the digital collection and look at aspects that _should_ remains stable across both datasets."
   ]
  },
  {
   "cell_type": "code",
   "execution_count": null,
   "metadata": {
    "id": "eDMj08-5TNcK"
   },
   "outputs": [],
   "source": [
    "%matplotlib inline\n",
    "import json\n",
    "import pandas as pd\n",
    "from collections import Counter"
   ]
  },
  {
   "cell_type": "code",
   "execution_count": null,
   "metadata": {
    "id": "FjYNr7rpTNcL"
   },
   "outputs": [],
   "source": [
    "# in case pandas refuses to open the Excel spreadsheet uncomment this line below\n",
    "#!pip3 install openpyxl==3.0.0"
   ]
  },
  {
   "cell_type": "markdown",
   "metadata": {
    "id": "TxyORvXGTNcL"
   },
   "source": [
    "First, we load the metadata of the BL books collection."
   ]
  },
  {
   "cell_type": "code",
   "execution_count": null,
   "metadata": {
    "colab": {
     "base_uri": "https://localhost:8080/",
     "height": 511
    },
    "id": "eLGGRMUPTNcM",
    "outputId": "95c94212-244a-4258-9094-de07c81f185a"
   },
   "outputs": [
    {
     "data": {
      "text/html": [
       "<div>\n",
       "<style scoped>\n",
       "    .dataframe tbody tr th:only-of-type {\n",
       "        vertical-align: middle;\n",
       "    }\n",
       "\n",
       "    .dataframe tbody tr th {\n",
       "        vertical-align: top;\n",
       "    }\n",
       "\n",
       "    .dataframe thead th {\n",
       "        text-align: right;\n",
       "    }\n",
       "</style>\n",
       "<table border=\"1\" class=\"dataframe\">\n",
       "  <thead>\n",
       "    <tr style=\"text-align: right;\">\n",
       "      <th></th>\n",
       "      <th>BL record ID</th>\n",
       "      <th>Type of resource</th>\n",
       "      <th>Name</th>\n",
       "      <th>Dates associated with name</th>\n",
       "      <th>Type of name</th>\n",
       "      <th>Role</th>\n",
       "      <th>All names</th>\n",
       "      <th>Title</th>\n",
       "      <th>Variant titles</th>\n",
       "      <th>Series title</th>\n",
       "      <th>Number within series</th>\n",
       "      <th>Country of publication</th>\n",
       "      <th>Place of publication</th>\n",
       "      <th>Publisher</th>\n",
       "      <th>Date of publication</th>\n",
       "      <th>Edition</th>\n",
       "      <th>Physical description</th>\n",
       "      <th>Dewey classification</th>\n",
       "      <th>BL shelfmark</th>\n",
       "      <th>Topics</th>\n",
       "      <th>Genre</th>\n",
       "      <th>Languages</th>\n",
       "      <th>Notes</th>\n",
       "      <th>BL record ID for physical resource</th>\n",
       "    </tr>\n",
       "  </thead>\n",
       "  <tbody>\n",
       "    <tr>\n",
       "      <th>0</th>\n",
       "      <td>014602826</td>\n",
       "      <td>Monograph</td>\n",
       "      <td>Yearsley, Ann</td>\n",
       "      <td>1753-1806</td>\n",
       "      <td>person</td>\n",
       "      <td>NaN</td>\n",
       "      <td>More, Hannah, 1745-1833 [person] ; Yearsley, A...</td>\n",
       "      <td>Poems on several occasions [With a prefatory l...</td>\n",
       "      <td>NaN</td>\n",
       "      <td>NaN</td>\n",
       "      <td>NaN</td>\n",
       "      <td>England</td>\n",
       "      <td>London</td>\n",
       "      <td>NaN</td>\n",
       "      <td>1786</td>\n",
       "      <td>Fourth edition MANUSCRIPT note</td>\n",
       "      <td>NaN</td>\n",
       "      <td>NaN</td>\n",
       "      <td>Digital Store 11644.d.32</td>\n",
       "      <td>NaN</td>\n",
       "      <td>NaN</td>\n",
       "      <td>English</td>\n",
       "      <td>NaN</td>\n",
       "      <td>3996603</td>\n",
       "    </tr>\n",
       "    <tr>\n",
       "      <th>1</th>\n",
       "      <td>014602830</td>\n",
       "      <td>Monograph</td>\n",
       "      <td>A, T.</td>\n",
       "      <td>NaN</td>\n",
       "      <td>person</td>\n",
       "      <td>NaN</td>\n",
       "      <td>Oldham, John, 1653-1683 [person] ; A, T. [person]</td>\n",
       "      <td>A Satyr against Vertue. (A poem: supposed to b...</td>\n",
       "      <td>NaN</td>\n",
       "      <td>NaN</td>\n",
       "      <td>NaN</td>\n",
       "      <td>England</td>\n",
       "      <td>London</td>\n",
       "      <td>NaN</td>\n",
       "      <td>1679</td>\n",
       "      <td>NaN</td>\n",
       "      <td>15 pages (4°)</td>\n",
       "      <td>NaN</td>\n",
       "      <td>Digital Store 11602.ee.10. (2.)</td>\n",
       "      <td>NaN</td>\n",
       "      <td>NaN</td>\n",
       "      <td>English</td>\n",
       "      <td>NaN</td>\n",
       "      <td>1143</td>\n",
       "    </tr>\n",
       "    <tr>\n",
       "      <th>2</th>\n",
       "      <td>014602831</td>\n",
       "      <td>Monograph</td>\n",
       "      <td>NaN</td>\n",
       "      <td>NaN</td>\n",
       "      <td>NaN</td>\n",
       "      <td>NaN</td>\n",
       "      <td>NaN</td>\n",
       "      <td>The Aeronaut, a poem; founded almost entirely,...</td>\n",
       "      <td>NaN</td>\n",
       "      <td>NaN</td>\n",
       "      <td>NaN</td>\n",
       "      <td>Ireland</td>\n",
       "      <td>Dublin</td>\n",
       "      <td>Richard Milliken</td>\n",
       "      <td>1816</td>\n",
       "      <td>NaN</td>\n",
       "      <td>17 pages (8°)</td>\n",
       "      <td>NaN</td>\n",
       "      <td>Digital Store 992.i.12. (3.)</td>\n",
       "      <td>Dublin (Ireland)</td>\n",
       "      <td>NaN</td>\n",
       "      <td>English</td>\n",
       "      <td>NaN</td>\n",
       "      <td>22782</td>\n",
       "    </tr>\n",
       "  </tbody>\n",
       "</table>\n",
       "</div>"
      ],
      "text/plain": [
       "  BL record ID Type of resource  ... Notes BL record ID for physical resource\n",
       "0    014602826        Monograph  ...   NaN                            3996603\n",
       "1    014602830        Monograph  ...   NaN                               1143\n",
       "2    014602831        Monograph  ...   NaN                              22782\n",
       "\n",
       "[3 rows x 24 columns]"
      ]
     },
     "execution_count": null,
     "metadata": {},
     "output_type": "execute_result"
    }
   ],
   "source": [
    "metadata_blb = pd.read_csv(\n",
    "    \"https://bl.iro.bl.uk/downloads/e1be1324-8b1a-4712-96a7-783ac209ddef?locale=en\",\n",
    "    dtype={\"BL record ID\": \"string\"},\n",
    "    parse_dates=False,\n",
    ")\n",
    "metadata_blb.head(3)"
   ]
  },
  {
   "cell_type": "markdown",
   "metadata": {
    "id": "hJ8L_EXGTNcM"
   },
   "source": [
    "A simple test for comparing the sample to the BL Books metadata is computing the probabilities of the title's first character. This distribution should look similar for both datasets. Below we create a function `first_alpha_char` that returns the first character of a string. If none could be found, it returns a hashtag."
   ]
  },
  {
   "cell_type": "code",
   "execution_count": null,
   "metadata": {
    "id": "CPLtjbSUTNcN"
   },
   "outputs": [],
   "source": [
    "def first_alpha_char(x):\n",
    "    \"\"\"returns the first lowercased alphatical character of a string\"\"\"\n",
    "    try:\n",
    "        x = x[0].lower()\n",
    "        x = \"\".join([c for c in x if c.isalpha()])\n",
    "        return x[0]\n",
    "    except:\n",
    "        return \"#\""
   ]
  },
  {
   "cell_type": "markdown",
   "metadata": {
    "id": "FZYJQODXTNcO"
   },
   "source": [
    "With `.apply()` we can extract to first character from the `title` column."
   ]
  },
  {
   "cell_type": "code",
   "execution_count": null,
   "metadata": {
    "id": "AoxWf4e9TNcP"
   },
   "outputs": [],
   "source": [
    "metadata_blb[\"first_alpha_char\"] = metadata_blb.Title.apply(first_alpha_char)"
   ]
  },
  {
   "cell_type": "markdown",
   "metadata": {
    "id": "ISXwu6L-TNcP"
   },
   "source": [
    "Next, we use `Counter()` to count all elements in the `first_alpha_char` column and turn the counts into probabilities."
   ]
  },
  {
   "cell_type": "code",
   "execution_count": null,
   "metadata": {
    "id": "59konXvgTNcQ"
   },
   "outputs": [],
   "source": [
    "char_count = Counter(\n",
    "    metadata_blb[metadata_blb[\"first_alpha_char\"] != None].first_alpha_char\n",
    ")\n",
    "char_probs = {k: v / sum(char_count.values()) for k, v in char_count.items()}"
   ]
  },
  {
   "cell_type": "code",
   "execution_count": null,
   "metadata": {
    "colab": {
     "base_uri": "https://localhost:8080/",
     "height": 283
    },
    "id": "SMfFfhNTTNcR",
    "outputId": "aec93523-04b9-44bf-c1ab-62a4e8f25bd1"
   },
   "outputs": [
    {
     "data": {
      "text/plain": [
       "<matplotlib.axes._subplots.AxesSubplot at 0x7f9762074210>"
      ]
     },
     "execution_count": null,
     "metadata": {},
     "output_type": "execute_result"
    },
    {
     "data": {
      "image/png": "[encoded data removed]",
      "text/plain": [
       "<Figure size 432x288 with 1 Axes>"
      ]
     },
     "metadata": {
      "needs_background": "light"
     },
     "output_type": "display_data"
    }
   ],
   "source": [
    "pd.Series(char_probs, index=sorted(char_probs.keys())).plot()"
   ]
  },
  {
   "cell_type": "code",
   "execution_count": null,
   "metadata": {
    "colab": {
     "base_uri": "https://localhost:8080/",
     "height": 283
    },
    "id": "h-9kbTFwTNcR",
    "outputId": "b9908b9b-b9c2-468d-f06a-8c0d8b636326"
   },
   "outputs": [
    {
     "data": {
      "text/plain": [
       "<matplotlib.axes._subplots.AxesSubplot at 0x7f976202f610>"
      ]
     },
     "execution_count": null,
     "metadata": {},
     "output_type": "execute_result"
    },
    {
     "data": {
      "image/png": "[encoded data removed]",
      "text/plain": [
       "<Figure size 432x288 with 1 Axes>"
      ]
     },
     "metadata": {
      "needs_background": "light"
     },
     "output_type": "display_data"
    }
   ],
   "source": [
    "pd.Series(char_probs, index=sorted(char_probs.keys()))[\"a\":\"z\"].plot()"
   ]
  },
  {
   "cell_type": "markdown",
   "metadata": {
    "id": "uHRwDDmgTNcR"
   },
   "source": [
    "Next, we apply the same procedure to the annotated sample. We'll start by loading the annotated sample."
   ]
  },
  {
   "cell_type": "code",
   "execution_count": null,
   "metadata": {
    "colab": {
     "base_uri": "https://localhost:8080/",
     "height": 311
    },
    "id": "Mlqog-T3Tdq1",
    "outputId": "5f8586e1-cde6-4e1d-8265-724c44e3142e"
   },
   "outputs": [
    {
     "name": "stderr",
     "output_type": "stream",
     "text": [
      "/usr/local/lib/python3.7/dist-packages/IPython/core/interactiveshell.py:2718: DtypeWarning: Columns (17,35,37) have mixed types.Specify dtype option on import or set low_memory=False.\n",
      "  interactivity=interactivity, compiler=compiler, result=result)\n"
     ]
    },
    {
     "data": {
      "text/html": [
       "<div>\n",
       "<style scoped>\n",
       "    .dataframe tbody tr th:only-of-type {\n",
       "        vertical-align: middle;\n",
       "    }\n",
       "\n",
       "    .dataframe tbody tr th {\n",
       "        vertical-align: top;\n",
       "    }\n",
       "\n",
       "    .dataframe thead th {\n",
       "        text-align: right;\n",
       "    }\n",
       "</style>\n",
       "<table border=\"1\" class=\"dataframe\">\n",
       "  <thead>\n",
       "    <tr style=\"text-align: right;\">\n",
       "      <th></th>\n",
       "      <th>BL record ID</th>\n",
       "      <th>Type of resource</th>\n",
       "      <th>Name</th>\n",
       "      <th>Dates associated with name</th>\n",
       "      <th>Type of name</th>\n",
       "      <th>Role</th>\n",
       "      <th>All names</th>\n",
       "      <th>Title</th>\n",
       "      <th>Variant titles</th>\n",
       "      <th>Series title</th>\n",
       "      <th>Number within series</th>\n",
       "      <th>Country of publication</th>\n",
       "      <th>Place of publication</th>\n",
       "      <th>Publisher</th>\n",
       "      <th>Date of publication</th>\n",
       "      <th>Edition</th>\n",
       "      <th>Physical description</th>\n",
       "      <th>Dewey classification</th>\n",
       "      <th>BL shelfmark</th>\n",
       "      <th>Topics</th>\n",
       "      <th>Genre</th>\n",
       "      <th>Languages</th>\n",
       "      <th>Notes</th>\n",
       "      <th>BL record ID for physical resource</th>\n",
       "      <th>classification_id</th>\n",
       "      <th>user_id</th>\n",
       "      <th>created_at</th>\n",
       "      <th>subject_ids</th>\n",
       "      <th>annotator_date_pub</th>\n",
       "      <th>annotator_normalised_date_pub</th>\n",
       "      <th>annotator_edition_statement</th>\n",
       "      <th>annotator_genre</th>\n",
       "      <th>annotator_FAST_genre_terms</th>\n",
       "      <th>annotator_FAST_subject_terms</th>\n",
       "      <th>annotator_comments</th>\n",
       "      <th>annotator_main_language</th>\n",
       "      <th>annotator_other_languages_summaries</th>\n",
       "      <th>annotator_summaries_language</th>\n",
       "      <th>annotator_translation</th>\n",
       "      <th>annotator_original_language</th>\n",
       "      <th>annotator_publisher</th>\n",
       "      <th>annotator_place_pub</th>\n",
       "      <th>annotator_country</th>\n",
       "      <th>annotator_title</th>\n",
       "      <th>Link to digitised book</th>\n",
       "      <th>annotated</th>\n",
       "    </tr>\n",
       "  </thead>\n",
       "  <tbody>\n",
       "    <tr>\n",
       "      <th>0</th>\n",
       "      <td>014602826</td>\n",
       "      <td>Monograph</td>\n",
       "      <td>Yearsley, Ann</td>\n",
       "      <td>1753-1806</td>\n",
       "      <td>person</td>\n",
       "      <td>NaN</td>\n",
       "      <td>More, Hannah, 1745-1833 [person] ; Yearsley, A...</td>\n",
       "      <td>Poems on several occasions [With a prefatory l...</td>\n",
       "      <td>NaN</td>\n",
       "      <td>NaN</td>\n",
       "      <td>NaN</td>\n",
       "      <td>England</td>\n",
       "      <td>London</td>\n",
       "      <td>NaN</td>\n",
       "      <td>1786</td>\n",
       "      <td>Fourth edition MANUSCRIPT note</td>\n",
       "      <td>NaN</td>\n",
       "      <td>NaN</td>\n",
       "      <td>Digital Store 11644.d.32</td>\n",
       "      <td>NaN</td>\n",
       "      <td>NaN</td>\n",
       "      <td>English</td>\n",
       "      <td>NaN</td>\n",
       "      <td>3996603</td>\n",
       "      <td>NaN</td>\n",
       "      <td>NaN</td>\n",
       "      <td>NaN</td>\n",
       "      <td>NaN</td>\n",
       "      <td>NaN</td>\n",
       "      <td>NaN</td>\n",
       "      <td>NaN</td>\n",
       "      <td>NaN</td>\n",
       "      <td>NaN</td>\n",
       "      <td>NaN</td>\n",
       "      <td>NaN</td>\n",
       "      <td>NaN</td>\n",
       "      <td>NaN</td>\n",
       "      <td>NaN</td>\n",
       "      <td>NaN</td>\n",
       "      <td>NaN</td>\n",
       "      <td>NaN</td>\n",
       "      <td>NaN</td>\n",
       "      <td>NaN</td>\n",
       "      <td>NaN</td>\n",
       "      <td>NaN</td>\n",
       "      <td>False</td>\n",
       "    </tr>\n",
       "  </tbody>\n",
       "</table>\n",
       "</div>"
      ],
      "text/plain": [
       "  BL record ID Type of resource  ... Link to digitised book annotated\n",
       "0    014602826        Monograph  ...                    NaN     False\n",
       "\n",
       "[1 rows x 46 columns]"
      ]
     },
     "execution_count": null,
     "metadata": {},
     "output_type": "execute_result"
    }
   ],
   "source": [
    "annotations = pd.read_csv(\n",
    "    \"https://bl.iro.bl.uk/downloads/36c7cd20-c8a7-4495-acbe-469b9132c6b1?locale=en\",\n",
    "    dtype={\"BL record ID\": str},\n",
    ")\n",
    "annotations.head(1)"
   ]
  },
  {
   "cell_type": "markdown",
   "metadata": {
    "id": "fk5UuvpZXA1q"
   },
   "source": [
    "This dataset includes both annotated data and non-annotated data. Since we only want the annotated data, we can filter these out using the `annotated` column which contains a flag to indicate if the data has been annotated. "
   ]
  },
  {
   "cell_type": "code",
   "execution_count": null,
   "metadata": {
    "id": "07WVi70SW-w5"
   },
   "outputs": [],
   "source": [
    "annotations = annotations[annotations[\"annotated\"] == True]"
   ]
  },
  {
   "cell_type": "markdown",
   "metadata": {
    "id": "zaIK-3w3XW7i"
   },
   "source": [
    "Because of the way in which the annotations were collected we have some duplicates. There are different ways in which we can deal with these duplicates but here we will just drop the duplicates for the `Title` column. "
   ]
  },
  {
   "cell_type": "code",
   "execution_count": null,
   "metadata": {
    "id": "cbwmG3KbYJ3Z"
   },
   "outputs": [],
   "source": [
    "annotations = annotations.drop_duplicates(subset=\"Title\")"
   ]
  },
  {
   "cell_type": "code",
   "execution_count": null,
   "metadata": {
    "id": "lxqJUyUhTNcS"
   },
   "outputs": [],
   "source": [
    "annotations[\"first_alpha_char\"] = annotations.Title.apply(first_alpha_char)"
   ]
  },
  {
   "cell_type": "code",
   "execution_count": null,
   "metadata": {
    "id": "Z0Jj1_rZTNcT"
   },
   "outputs": [],
   "source": [
    "char_count_anno = Counter(\n",
    "    annotations[annotations[\"first_alpha_char\"] != None].first_alpha_char\n",
    ")\n",
    "char_probs_anno = {\n",
    "    k: v / sum(char_count_anno.values()) for k, v in char_count_anno.items()\n",
    "}"
   ]
  },
  {
   "cell_type": "code",
   "execution_count": null,
   "metadata": {
    "colab": {
     "base_uri": "https://localhost:8080/",
     "height": 283
    },
    "id": "BHX17wkUTNcU",
    "outputId": "d3fc8071-a1a6-43c4-9fd9-850078b951e8"
   },
   "outputs": [
    {
     "data": {
      "text/plain": [
       "<matplotlib.axes._subplots.AxesSubplot at 0x7f975fa5ffd0>"
      ]
     },
     "execution_count": null,
     "metadata": {},
     "output_type": "execute_result"
    },
    {
     "data": {
      "image/png": "[encoded data removed]",
      "text/plain": [
       "<Figure size 432x288 with 1 Axes>"
      ]
     },
     "metadata": {
      "needs_background": "light"
     },
     "output_type": "display_data"
    }
   ],
   "source": [
    "pd.Series(char_probs, index=sorted(char_probs.keys())).plot()\n",
    "pd.Series(char_probs_anno, index=sorted(char_probs_anno.keys())).plot()"
   ]
  },
  {
   "cell_type": "code",
   "execution_count": null,
   "metadata": {
    "colab": {
     "base_uri": "https://localhost:8080/"
    },
    "id": "Nr2r6u61TNcU",
    "outputId": "aee7cf23-1858-4c76-cbfd-573ca9722c2b"
   },
   "outputs": [
    {
     "data": {
      "text/plain": [
       "array([nan, 'lat\\nger', 'gmh\\nlat\\nger', 'ger', 'ger\\ngmh\\nlat',\n",
       "       'ger\\nfre', 'eng', 'lat\\ngmh\\nger', 'ger\\neng', 'ger\\nlat',\n",
       "       'lat\\nfre', 'dut\\nfre\\nspa', 'fre\\nger', 'ger\\nfrs\\nlat',\n",
       "       'ger\\ngmh', 'lat\\ndut\\nfrm\\nfre', 'ger\\nspa', 'eng\\nfre'],\n",
       "      dtype=object)"
      ]
     },
     "execution_count": null,
     "metadata": {},
     "output_type": "execute_result"
    }
   ],
   "source": [
    "annotations[\"annotator_main_language\"].unique()"
   ]
  },
  {
   "cell_type": "code",
   "execution_count": null,
   "metadata": {
    "id": "EZyYLA4KTNcU"
   },
   "outputs": [],
   "source": [
    "annotations[\"english\"] = annotations[\"annotator_main_language\"].apply(\n",
    "    lambda x: str(x).lower().startswith(\"eng\")\n",
    ")"
   ]
  },
  {
   "cell_type": "markdown",
   "metadata": {
    "id": "hCyul5VqTNcV"
   },
   "source": [
    "Lastly, we can compare the distribution over time to see if the sample is biased towards are certain period."
   ]
  },
  {
   "cell_type": "code",
   "execution_count": null,
   "metadata": {
    "id": "8k_qgv4LY8pM"
   },
   "outputs": [],
   "source": [
    "metadata_blb = metadata_blb[metadata_blb[\"Date of publication\"].notna()].copy(deep=True)"
   ]
  },
  {
   "cell_type": "code",
   "execution_count": null,
   "metadata": {
    "id": "IcAm0xViZkHC"
   },
   "outputs": [],
   "source": [
    "metadata_blb[\"date\"] = metadata_blb[\"Date of publication\"].str.split(\"-\").str[0]"
   ]
  },
  {
   "cell_type": "code",
   "execution_count": null,
   "metadata": {
    "colab": {
     "base_uri": "https://localhost:8080/",
     "height": 283
    },
    "id": "y5-MSel-TNcV",
    "outputId": "1e8185c2-5129-474f-b532-bf68a5f04557"
   },
   "outputs": [
    {
     "data": {
      "text/plain": [
       "<matplotlib.axes._subplots.AxesSubplot at 0x7f975fa47990>"
      ]
     },
     "execution_count": null,
     "metadata": {},
     "output_type": "execute_result"
    },
    {
     "data": {
      "image/png": "[encoded data removed]",
      "text/plain": [
       "<Figure size 432x288 with 1 Axes>"
      ]
     },
     "metadata": {
      "needs_background": "light"
     },
     "output_type": "display_data"
    }
   ],
   "source": [
    "year_counts = Counter(metadata_blb[\"date\"].values)\n",
    "year_probs = {k: v / sum(year_counts.values()) for k, v in year_counts.items()}\n",
    "pd.Series(year_probs, index=sorted(year_probs.keys()))[\"1800\":\"1900\"].plot()"
   ]
  },
  {
   "cell_type": "code",
   "execution_count": null,
   "metadata": {
    "id": "MltuiV8JTNcV"
   },
   "outputs": [],
   "source": [
    "year_counts_anno = Counter(annotations[\"annotator_normalised_date_pub\"].values)\n",
    "year_probs_anno = {\n",
    "    k: v / sum(year_counts_anno.values()) for k, v in year_counts_anno.items()\n",
    "}"
   ]
  },
  {
   "cell_type": "markdown",
   "metadata": {
    "id": "zTR9jXILTNcW"
   },
   "source": [
    "Below, we made a small function to manipulate the date of publication field by extracting the year (if available) and returning it as an integer."
   ]
  },
  {
   "cell_type": "code",
   "execution_count": null,
   "metadata": {
    "id": "ozwvgAArTNcW"
   },
   "outputs": [],
   "source": [
    "def get_int(x):\n",
    "    \"\"\"return year is integer\"\"\"\n",
    "    try:\n",
    "        return int(x)\n",
    "    except:\n",
    "        pass\n",
    "    try:\n",
    "        return int(x.split(\"-\")[0])\n",
    "    except:\n",
    "        False\n",
    "\n",
    "\n",
    "year_probs_anno = {str(k): v for k, v in year_probs_anno.items() if get_int(k)}"
   ]
  },
  {
   "cell_type": "code",
   "execution_count": null,
   "metadata": {
    "colab": {
     "base_uri": "https://localhost:8080/",
     "height": 283
    },
    "id": "bHguWCLqTNcW",
    "outputId": "10e54563-1c75-403e-f5ba-4c2fd7492722"
   },
   "outputs": [
    {
     "data": {
      "text/plain": [
       "<matplotlib.axes._subplots.AxesSubplot at 0x7f97678859d0>"
      ]
     },
     "execution_count": null,
     "metadata": {},
     "output_type": "execute_result"
    },
    {
     "data": {
      "image/png": "[encoded data removed]",
      "text/plain": [
       "<Figure size 432x288 with 1 Axes>"
      ]
     },
     "metadata": {
      "needs_background": "light"
     },
     "output_type": "display_data"
    }
   ],
   "source": [
    "pd.Series(year_probs, index=sorted(year_probs.keys()))[\"1800\":\"1900\"].plot()\n",
    "pd.Series(year_probs_anno, index=sorted(year_probs_anno.keys()))[\"1800\":\"1900\"].plot()"
   ]
  },
  {
   "cell_type": "markdown",
   "metadata": {
    "id": "ec6kx4QqTNcW"
   },
   "source": [
    "## Fin."
   ]
  }
 ],
 "metadata": {
  "colab": {
   "collapsed_sections": [],
   "name": "sample_inspector_ii.ipynb",
   "provenance": []
  },
  "kernelspec": {
   "display_name": "Python 3",
   "language": "python",
   "name": "python3"
  },
  "language_info": {
   "codemirror_mode": {
    "name": "ipython",
    "version": 3
   },
   "file_extension": ".py",
   "mimetype": "text/x-python",
   "name": "python",
   "nbconvert_exporter": "python",
   "pygments_lexer": "ipython3",
   "version": "3.7.4"
  }
 },
 "nbformat": 4,
 "nbformat_minor": 0
}
